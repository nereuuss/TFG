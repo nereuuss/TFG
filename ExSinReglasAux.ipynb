{
 "cells": [
  {
   "cell_type": "markdown",
   "id": "24ceac92-62e8-49c1-9efe-07edc37ca09f",
   "metadata": {},
   "source": [
    "EJERCICIOS SIN REGLAS AUXILIARES "
   ]
  },
  {
   "cell_type": "code",
   "execution_count": 1,
   "id": "1c125b59-0ec9-4211-b137-f8dcf27c7688",
   "metadata": {},
   "outputs": [
    {
     "data": {
      "text/plain": [
       "defined \u001b[32mtype\u001b[39m \u001b[36mNot\u001b[39m\r\n",
       "defined \u001b[32mtype\u001b[39m \u001b[36m<=>\u001b[39m"
      ]
     },
     "execution_count": 1,
     "metadata": {},
     "output_type": "execute_result"
    }
   ],
   "source": [
    "type Not[P] = P => Nothing\n",
    "type <=>[P, Q] = (P => Q, Q => P)"
   ]
  },
  {
   "cell_type": "code",
   "execution_count": 18,
   "id": "00f6a805-f77c-47d1-9210-6c4d016a5631",
   "metadata": {},
   "outputs": [
    {
     "data": {
      "text/plain": [
       "defined \u001b[32mfunction\u001b[39m \u001b[36mex1\u001b[39m"
      ]
     },
     "execution_count": 18,
     "metadata": {},
     "output_type": "execute_result"
    }
   ],
   "source": [
    "//segun deduccion natural\n",
    "def ex1[P, Q, R](p1: ((P, Q)) => R, p2: P): Q => R = {\n",
    "    q: Q => val p4 = (p2, q)\n",
    "            p1(p4)\n",
    "}\n"
   ]
  },
  {
   "cell_type": "code",
   "execution_count": 2,
   "id": "20a24bf9-f153-46d7-9b63-392c97ec1ecd",
   "metadata": {},
   "outputs": [
    {
     "data": {
      "text/plain": [
       "defined \u001b[32mfunction\u001b[39m \u001b[36mex1\u001b[39m"
      ]
     },
     "execution_count": 2,
     "metadata": {},
     "output_type": "execute_result"
    }
   ],
   "source": [
    "def ex1[P, Q, R](p1: ((P, Q)) => R, p2: P): Q => R = {\n",
    "  q: Q => p1((p2, q))\n",
    "}"
   ]
  },
  {
   "cell_type": "code",
   "execution_count": 17,
   "id": "dfc6b39e-40d8-43b7-9bb0-2eef42c81c4d",
   "metadata": {},
   "outputs": [
    {
     "data": {
      "text/plain": [
       "defined \u001b[32mfunction\u001b[39m \u001b[36mex2\u001b[39m"
      ]
     },
     "execution_count": 17,
     "metadata": {},
     "output_type": "execute_result"
    }
   ],
   "source": [
    "//sin reglas \n",
    "def ex2[P, Q, R, S](p1: P => Q, p2: Either[R, S], p3: S => Not[Q], p4: Not[R]): Not[P] = {\n",
    "  p: P => {\n",
    "    p2 match {\n",
    "      case Left(r) => p4(r)\n",
    "      case Right(s) => \n",
    "        val q: Q = p1(p)\n",
    "        p3(s)(q)\n",
    "    }\n",
    "  }\n",
    "}"
   ]
  },
  {
   "cell_type": "code",
   "execution_count": 23,
   "id": "f8511391-0e85-4c0e-913f-8a5208b013fb",
   "metadata": {},
   "outputs": [
    {
     "data": {
      "text/plain": [
       "defined \u001b[32mfunction\u001b[39m \u001b[36mex7\u001b[39m"
      ]
     },
     "execution_count": 23,
     "metadata": {},
     "output_type": "execute_result"
    }
   ],
   "source": [
    "//segun deduccion natural\n",
    "def ex7 [P,Q,R] (p1: P=>(Q=>R),p2:Q):P=>R =\n",
    "    p=> { val p4 = p1(p)\n",
    "        p4(p2)}\n"
   ]
  },
  {
   "cell_type": "code",
   "execution_count": 20,
   "id": "c89012fe-56e6-46d9-b597-079917ce038f",
   "metadata": {},
   "outputs": [
    {
     "data": {
      "text/plain": [
       "defined \u001b[32mfunction\u001b[39m \u001b[36mex7\u001b[39m"
      ]
     },
     "execution_count": 20,
     "metadata": {},
     "output_type": "execute_result"
    }
   ],
   "source": [
    "def ex7 [P,Q,R] (p1: P=>(Q=>R),p2:Q):P=>R =\n",
    "    p=> p1(p)(p2)\n"
   ]
  },
  {
   "cell_type": "code",
   "execution_count": 5,
   "id": "640da6a4-ea1a-4235-b9d9-3268bf16d814",
   "metadata": {},
   "outputs": [
    {
     "data": {
      "text/plain": [
       "defined \u001b[32mfunction\u001b[39m \u001b[36mex14\u001b[39m"
      ]
     },
     "execution_count": 5,
     "metadata": {},
     "output_type": "execute_result"
    }
   ],
   "source": [
    "def ex14 [P,Q,R,S,T] (p1: (P,Q)=>R, p2: (R,S)=>T):((P,Q),S)=>T={\n",
    "    case((p,q),s)=> val r = p1(p,q) \n",
    "                    p2(r,s)\n",
    "    }"
   ]
  },
  {
   "cell_type": "code",
   "execution_count": 24,
   "id": "a5445dde-ec2d-47ba-9526-e79c6fcfbb6e",
   "metadata": {},
   "outputs": [
    {
     "data": {
      "text/plain": [
       "defined \u001b[32mfunction\u001b[39m \u001b[36mex15\u001b[39m"
      ]
     },
     "execution_count": 24,
     "metadata": {},
     "output_type": "execute_result"
    }
   ],
   "source": [
    "//segun deduccion natural\n",
    "def ex15[P,Q,R](p1: P=>(Q=>R)):Q=>(P=>R)=\n",
    "    q=> p=> {val p4 = p1(p)\n",
    "            p4(q)}\n"
   ]
  },
  {
   "cell_type": "code",
   "execution_count": 6,
   "id": "0d8a7e19-93bf-47c3-8f1d-3a8dfdca823b",
   "metadata": {},
   "outputs": [
    {
     "data": {
      "text/plain": [
       "defined \u001b[32mfunction\u001b[39m \u001b[36mex15\u001b[39m"
      ]
     },
     "execution_count": 6,
     "metadata": {},
     "output_type": "execute_result"
    }
   ],
   "source": [
    "def ex15[P,Q,R](p1: P=>(Q=>R)):Q=>(P=>R)=\n",
    "    q=>p=>p1(p)(q)"
   ]
  },
  {
   "cell_type": "code",
   "execution_count": 25,
   "id": "adb63cfc-9b23-4c16-83e9-81b2e2013e35",
   "metadata": {},
   "outputs": [
    {
     "data": {
      "text/plain": [
       "defined \u001b[32mfunction\u001b[39m \u001b[36mex18\u001b[39m"
      ]
     },
     "execution_count": 25,
     "metadata": {},
     "output_type": "execute_result"
    }
   ],
   "source": [
    "//segun deduccion natural\n",
    "def ex18[P,Q](p1: P=>(P=>Q)):P=>Q=\n",
    "    p=> {val p3 = p1(p)\n",
    "         p3(p)}\n"
   ]
  },
  {
   "cell_type": "code",
   "execution_count": 7,
   "id": "9b310ad0-29ec-434f-8e41-d850bd8e4fca",
   "metadata": {},
   "outputs": [
    {
     "data": {
      "text/plain": [
       "defined \u001b[32mfunction\u001b[39m \u001b[36mex18\u001b[39m"
      ]
     },
     "execution_count": 7,
     "metadata": {},
     "output_type": "execute_result"
    }
   ],
   "source": [
    "def ex18[P,Q](p1: P=>(P=>Q)):P=>Q=\n",
    "    p=> p1(p)(p)"
   ]
  },
  {
   "cell_type": "code",
   "execution_count": 28,
   "id": "55784612-9496-43cb-b0aa-f77647d4b7f3",
   "metadata": {},
   "outputs": [
    {
     "data": {
      "text/plain": [
       "defined \u001b[32mfunction\u001b[39m \u001b[36mex20_v2\u001b[39m"
      ]
     },
     "execution_count": 28,
     "metadata": {},
     "output_type": "execute_result"
    }
   ],
   "source": [
    "//segun deduccion natural\n",
    "def ex20_v2[P,Q,R,S,T](p1: P=>Not[Q], p2:Not[Q]=>(Not[R],Not[S]), p3:Either[R,S]=>T, p4:T=>Q): P=>(Not[R],Not[S])=\n",
    "    p=> {val nq = p1(p)\n",
    "         val p5 = p2(nq)\n",
    "          p5\n",
    "        }\n"
   ]
  },
  {
   "cell_type": "code",
   "execution_count": 27,
   "id": "bd5cc084-f136-4b7c-9f27-f828433a785c",
   "metadata": {},
   "outputs": [
    {
     "data": {
      "text/plain": [
       "defined \u001b[32mfunction\u001b[39m \u001b[36mex20_v2\u001b[39m"
      ]
     },
     "execution_count": 27,
     "metadata": {},
     "output_type": "execute_result"
    }
   ],
   "source": [
    "def ex20_v2[P,Q,R,S,T](p1: P=>Not[Q], p2:Not[Q]=>(Not[R],Not[S]), p3:Either[R,S]=>T, p4:T=>Q): P=>(Not[R],Not[S])=\n",
    "    p=> p2(p1(p))\n"
   ]
  },
  {
   "cell_type": "code",
   "execution_count": 29,
   "id": "3a061a04-9f86-4b8b-b1e9-214195edc27c",
   "metadata": {},
   "outputs": [
    {
     "data": {
      "text/plain": [
       "defined \u001b[32mfunction\u001b[39m \u001b[36mex25\u001b[39m"
      ]
     },
     "execution_count": 29,
     "metadata": {},
     "output_type": "execute_result"
    }
   ],
   "source": [
    "//deduccion natural\n",
    "def ex25 [P,Q,R,S,T](p1:S=>Q):(P=>(Q=>R))=>(P=>(S=>R))=\n",
    "    p2=>(p=>(s=>{\n",
    "                    val q = p1(s)\n",
    "                    val qir= p2(p)\n",
    "                    val r = qir(q)\n",
    "                    r\n",
    "                }))"
   ]
  },
  {
   "cell_type": "code",
   "execution_count": 35,
   "id": "187ffaf7-5ffb-4fea-b5b3-9fed70597734",
   "metadata": {},
   "outputs": [
    {
     "data": {
      "text/plain": [
       "defined \u001b[32mfunction\u001b[39m \u001b[36mex25\u001b[39m"
      ]
     },
     "execution_count": 35,
     "metadata": {},
     "output_type": "execute_result"
    }
   ],
   "source": [
    "def ex25 [P,Q,R,S,T](p1:S=>Q):(P=>(Q=>R))=>(P=>(S=>R))=\n",
    "    p2=>(p=>(s=>{p2(p)(p1(s))}))"
   ]
  },
  {
   "cell_type": "code",
   "execution_count": 36,
   "id": "356a3d83-fc91-4d24-bbdc-eabd820c4516",
   "metadata": {},
   "outputs": [
    {
     "data": {
      "text/plain": [
       "defined \u001b[32mfunction\u001b[39m \u001b[36mex29\u001b[39m"
      ]
     },
     "execution_count": 36,
     "metadata": {},
     "output_type": "execute_result"
    }
   ],
   "source": [
    "//deduccion natural\n",
    "def ex29[P,Q,R,S,T](p1:P=>((Q=>R)=>S)): (Q=>R) => P=>S=\n",
    "    p2=> p=>{   val p4 = p1(p)\n",
    "                val p5 = p4(p2)\n",
    "                p5\n",
    "            }"
   ]
  },
  {
   "cell_type": "code",
   "execution_count": 37,
   "id": "edf3af7c-7b5a-4dfd-925e-c7c646db1a30",
   "metadata": {},
   "outputs": [
    {
     "data": {
      "text/plain": [
       "defined \u001b[32mfunction\u001b[39m \u001b[36mex29\u001b[39m"
      ]
     },
     "execution_count": 37,
     "metadata": {},
     "output_type": "execute_result"
    }
   ],
   "source": [
    "def ex29[P,Q,R,S,T](p1:P=>((Q=>R)=>S)): (Q=>R) => P=>S=\n",
    "    p2=> p=> p1(p)(p2)\n"
   ]
  },
  {
   "cell_type": "code",
   "execution_count": 11,
   "id": "eed3e7fe-a9d7-492e-920a-1eb7658d0e3a",
   "metadata": {},
   "outputs": [
    {
     "data": {
      "text/plain": [
       "defined \u001b[32mfunction\u001b[39m \u001b[36mex33\u001b[39m"
      ]
     },
     "execution_count": 11,
     "metadata": {},
     "output_type": "execute_result"
    }
   ],
   "source": [
    "def ex33[P,Q,R,S,T](p1: P=>Q, p2: Q=>R, p3: S=>T, p4:Either[S,P]): Either[R,T]=\n",
    "    p4 match{\n",
    "        case Left(s)=> Right(p3(s))\n",
    "        case Right(p)=> Left(p2(p1(p)))\n",
    "    }"
   ]
  },
  {
   "cell_type": "code",
   "execution_count": 12,
   "id": "2aa2921d-ae57-4dfa-9ad0-924268fe28b7",
   "metadata": {},
   "outputs": [
    {
     "data": {
      "text/plain": [
       "defined \u001b[32mfunction\u001b[39m \u001b[36mex36_v1\u001b[39m\r\n",
       "defined \u001b[32mfunction\u001b[39m \u001b[36mex36_v2\u001b[39m"
      ]
     },
     "execution_count": 12,
     "metadata": {},
     "output_type": "execute_result"
    }
   ],
   "source": [
    "def ex36_v1[P,Q,R](p1: Either[P,Q]=>R): Either[P=>R,Q=>R]={\n",
    "    val aux1 = (p:P)=> p1(Left(p))\n",
    "    Left(aux1)\n",
    "}\n",
    "def ex36_v2[P,Q,R](p1: Either[P,Q]=>R): Either[P=>R,Q=>R]={\n",
    "    val aux2 = (q:Q)=> p1(Right(q))\n",
    "    Right(aux2)\n",
    "}"
   ]
  },
  {
   "cell_type": "code",
   "execution_count": 13,
   "id": "10105f99-e384-4333-a785-6723a1154b82",
   "metadata": {},
   "outputs": [
    {
     "data": {
      "text/plain": [
       "defined \u001b[32mfunction\u001b[39m \u001b[36mex38\u001b[39m"
      ]
     },
     "execution_count": 13,
     "metadata": {},
     "output_type": "execute_result"
    }
   ],
   "source": [
    "def ex38[P,Q,R,S,T](p1:((P=>Q),R), p2: S=>T, p3:R=>S): Either[Q,T]={\n",
    "    val r= p1._2\n",
    "    val s= p3(r)\n",
    "    val t= p2(s)\n",
    "    Right(t)\n",
    "}"
   ]
  },
  {
   "cell_type": "markdown",
   "id": "d66f47a1-47a9-4f46-8ad4-b725ba152c4e",
   "metadata": {},
   "source": [
    "A continuacion algunos cuya solucion esta hecha con regla auxiliares pero tambien se pueden hacer sin estas:"
   ]
  },
  {
   "cell_type": "code",
   "execution_count": 14,
   "id": "09347e28-71ce-4034-90da-f55e36b04426",
   "metadata": {},
   "outputs": [
    {
     "data": {
      "text/plain": [
       "defined \u001b[32mfunction\u001b[39m \u001b[36mex41\u001b[39m"
      ]
     },
     "execution_count": 14,
     "metadata": {},
     "output_type": "execute_result"
    }
   ],
   "source": [
    "//sin reglas\n",
    "def ex41 [P,Q,R] (p1: P=>Q, p2:Either[R, Not[P]]):P=>(Q,R)={\n",
    "    p=> val q = p1(p)\n",
    "        p2 match{\n",
    "        case Left(r) =>(q, r)\n",
    "        case Right(np) => (q, np(p))\n",
    "        }\n",
    "    }"
   ]
  },
  {
   "cell_type": "code",
   "execution_count": 15,
   "id": "bece9501-1898-460c-92e4-f515fa345386",
   "metadata": {},
   "outputs": [
    {
     "data": {
      "text/plain": [
       "defined \u001b[32mfunction\u001b[39m \u001b[36mex42\u001b[39m"
      ]
     },
     "execution_count": 15,
     "metadata": {},
     "output_type": "execute_result"
    }
   ],
   "source": [
    "//sin reglas\n",
    "def ex42[P,Q,R,S](p1:((P,Q))=>R, p2: R=>S, p3: (Q,Not[S]) ): Not[P]={\n",
    "    val q = p3._1\n",
    "    val ns = p3._2\n",
    "    p=> val r = p1((p,q))\n",
    "        val s = p2(r) //(P,Q)=>S \n",
    "        ns(s)  \n",
    "}"
   ]
  },
  {
   "cell_type": "code",
   "execution_count": 16,
   "id": "caa02a22-1a46-450d-a1e2-55d4addf18a6",
   "metadata": {},
   "outputs": [
    {
     "data": {
      "text/plain": [
       "defined \u001b[32mfunction\u001b[39m \u001b[36mex44\u001b[39m"
      ]
     },
     "execution_count": 16,
     "metadata": {},
     "output_type": "execute_result"
    }
   ],
   "source": [
    "//me lo he inventado sin querer\n",
    "def ex44 [P,Q,R,S,T](p1: ((P,Q))=>((R,S)), p2: Either[Not[T],P], p3:T, p4: T<=>Q):Not[R]=>S ={\n",
    "    val tip = p4._1\n",
    "    val q = tip(p3)\n",
    "    nr=> p2 match{\n",
    "        case Left(nt)=>nt(p3)\n",
    "        case Right(p)=> val paq = (p,q)\n",
    "                        val ras = p1(paq)\n",
    "                        ras._2 \n",
    "\n",
    "    }\n",
    "}"
   ]
  },
  {
   "cell_type": "code",
   "execution_count": null,
   "id": "f71dcf2a-636f-40ea-a335-d0c51c74dadf",
   "metadata": {},
   "outputs": [],
   "source": []
  }
 ],
 "metadata": {
  "kernelspec": {
   "display_name": "Scala",
   "language": "scala",
   "name": "scala"
  },
  "language_info": {
   "codemirror_mode": "text/x-scala",
   "file_extension": ".sc",
   "mimetype": "text/x-scala",
   "name": "scala",
   "nbconvert_exporter": "script",
   "version": "2.13.8"
  }
 },
 "nbformat": 4,
 "nbformat_minor": 5
}
