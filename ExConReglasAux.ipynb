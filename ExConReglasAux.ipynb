{
 "cells": [
  {
   "cell_type": "markdown",
   "id": "8cadbc11-2c1c-4e70-af72-78a1b6a2156e",
   "metadata": {},
   "source": [
    "EJERCICIOS CON REGLAS AUXILIARES"
   ]
  },
  {
   "cell_type": "code",
   "execution_count": 1,
   "id": "c7aa7bc5-beb8-43fc-8ff5-0639ba8eae64",
   "metadata": {},
   "outputs": [
    {
     "data": {
      "text/plain": [
       "defined \u001b[32mfunction\u001b[39m \u001b[36mimportacion\u001b[39m\r\n",
       "defined \u001b[32mfunction\u001b[39m \u001b[36mexportacion\u001b[39m\r\n",
       "defined \u001b[32mfunction\u001b[39m \u001b[36mconmutatividad_conjuncion\u001b[39m\r\n",
       "defined \u001b[32mfunction\u001b[39m \u001b[36mconmutatividad_disyuncion\u001b[39m\r\n",
       "defined \u001b[32mfunction\u001b[39m \u001b[36mdistribucion\u001b[39m\r\n",
       "defined \u001b[32mfunction\u001b[39m \u001b[36malternativa\u001b[39m\r\n",
       "defined \u001b[32mfunction\u001b[39m \u001b[36mrtr\u001b[39m\r\n",
       "defined \u001b[32mfunction\u001b[39m \u001b[36mmodusTollens\u001b[39m\r\n",
       "defined \u001b[32mfunction\u001b[39m \u001b[36mmodusTollensNOT\u001b[39m\r\n",
       "defined \u001b[32mfunction\u001b[39m \u001b[36mrImp\u001b[39m\r\n",
       "defined \u001b[32mfunction\u001b[39m \u001b[36mrExp\u001b[39m\r\n",
       "defined \u001b[32mfunction\u001b[39m \u001b[36mrcontr1\u001b[39m\r\n",
       "defined \u001b[32mfunction\u001b[39m \u001b[36mrcontr1_1\u001b[39m\r\n",
       "defined \u001b[32mfunction\u001b[39m \u001b[36mrcontr1_2\u001b[39m\r\n",
       "defined \u001b[32mfunction\u001b[39m \u001b[36mrcontr2\u001b[39m\r\n",
       "defined \u001b[32mfunction\u001b[39m \u001b[36mria1\u001b[39m\r\n",
       "defined \u001b[32mfunction\u001b[39m \u001b[36mria1_1\u001b[39m\r\n",
       "defined \u001b[32mfunction\u001b[39m \u001b[36mria2\u001b[39m\r\n",
       "defined \u001b[32mfunction\u001b[39m \u001b[36mria2_2\u001b[39m\r\n",
       "defined \u001b[32mfunction\u001b[39m \u001b[36mrDf1\u001b[39m\r\n",
       "defined \u001b[32mfunction\u001b[39m \u001b[36mrDf1_1\u001b[39m\r\n",
       "defined \u001b[32mfunction\u001b[39m \u001b[36mrDf1_2\u001b[39m\r\n",
       "defined \u001b[32mfunction\u001b[39m \u001b[36mrDf1_And\u001b[39m\r\n",
       "defined \u001b[32mfunction\u001b[39m \u001b[36mrDf2\u001b[39m\r\n",
       "defined \u001b[32mfunction\u001b[39m \u001b[36mrDf3_v1\u001b[39m\r\n",
       "defined \u001b[32mfunction\u001b[39m \u001b[36mrDf3_v2\u001b[39m\r\n",
       "defined \u001b[32mfunction\u001b[39m \u001b[36mrDfAnd\u001b[39m\r\n",
       "defined \u001b[32mfunction\u001b[39m \u001b[36mrDfAnd2\u001b[39m\r\n",
       "defined \u001b[32mfunction\u001b[39m \u001b[36mrDfEither\u001b[39m\r\n",
       "defined \u001b[32mfunction\u001b[39m \u001b[36mrdfNotAnd\u001b[39m\r\n",
       "defined \u001b[32mfunction\u001b[39m \u001b[36mrdfNotAndImp\u001b[39m\r\n",
       "defined \u001b[32mfunction\u001b[39m \u001b[36mrdfNotAndImp2\u001b[39m\r\n",
       "defined \u001b[32mfunction\u001b[39m \u001b[36mrDfImp\u001b[39m\r\n",
       "defined \u001b[32mfunction\u001b[39m \u001b[36mreCoimp1\u001b[39m\r\n",
       "defined \u001b[32mfunction\u001b[39m \u001b[36mreCoimp2\u001b[39m\r\n",
       "defined \u001b[32mfunction\u001b[39m \u001b[36mreCoimp3\u001b[39m\r\n",
       "defined \u001b[32mfunction\u001b[39m \u001b[36mreCoimp4\u001b[39m\r\n",
       "defined \u001b[32mtrait\u001b[39m \u001b[36mDoubleNegation\u001b[39m\r\n",
       "defined \u001b[32mtrait\u001b[39m \u001b[36mExcludedMiddle\u001b[39m\r\n",
       "defined \u001b[32mfunction\u001b[39m \u001b[36mDN2\u001b[39m\r\n",
       "defined \u001b[32mtype\u001b[39m \u001b[36mNot\u001b[39m\r\n",
       "defined \u001b[32mtype\u001b[39m \u001b[36m<=>\u001b[39m"
      ]
     },
     "execution_count": 1,
     "metadata": {},
     "output_type": "execute_result"
    }
   ],
   "source": [
    "def importacion[P, Q](q: Q): P => Q =\n",
    "  (_: P) => q\n",
    "\n",
    "def exportacion[P, Q](sipeq: P => Q): P => Q =\n",
    "  (p: P) => sipeq(p)\n",
    "\n",
    "def conmutatividad_conjuncion [P, Q](p: P, q: Q): (Q, P) =\n",
    "  (q, p)\n",
    "\n",
    "def conmutatividad_disyuncion[P, Q](e: Either[P, Q]): Either[Q, P] =\n",
    "  e match {\n",
    "    case Left(p) => Right(p)\n",
    "    case Right(q) => Left(q)\n",
    "  }\n",
    "\n",
    "def distribucion[P, Q, R](e: Either[P, (Q, R)]): (Either[P, Q], Either[P, R]) =\n",
    "  e match {\n",
    "    case Left(p) => (Left(p), Left(p))\n",
    "    case Right((q, r)) => (Right(q), Right(r))\n",
    "  }\n",
    "\n",
    "\n",
    "def alternativa[P, Q](p1: Either[P, Q], p2: Not[P]): Q = {\n",
    "  p1 match {\n",
    "    case Left(p) => p2(p)\n",
    "    case Right(q) => q \n",
    "  }\n",
    "}\n",
    "\n",
    "def rtr[P,Q,R] (p1: P=>Q, p2: Q=>R): P=>R =\n",
    "    p=> p2(p1(p))\n",
    "\n",
    "def modusTollens[P, Q](pToQ: P => Q)(notQ: Not[Q]): Not[P] =\n",
    "  (p: P) => notQ(pToQ(p))\n",
    "\n",
    "def modusTollensNOT[P, Q](EM: ExcludedMiddle)(p1: Not[P] => Not[Q])(p2:Q):P = {\n",
    "    EM[P] match {\n",
    "        case Left(p) => p\n",
    "        case Right(np) => \n",
    "            val nq = p1(np)\n",
    "            nq(p2)\n",
    "    }\n",
    "}\n",
    "\n",
    "def rImp[P,Q,R](p1: P=>(Q=>R)):(P,Q)=>R=\n",
    "    (p,q)=>p1(p)(q)\n",
    "\n",
    "def rExp[P,Q,R](p1: ((P,Q))=>R): P=>(Q=>R)=\n",
    "    p=>(q=> p1((p,q)))\n",
    "\n",
    "def rcontr1[P,Q](p1:P=>Q): Not[Q] => Not[P]=\n",
    "    nq=> modusTollens(p1)(nq)\n",
    "\n",
    "def rcontr1_1[P,Q](DN: DoubleNegation)(p1:Not[P]=>Q): Not[Q] => P=\n",
    "    nq=> DN(modusTollens(p1)(nq))\n",
    "\n",
    "def rcontr1_2[P,Q](p1:P=>Not[Q]): Q => Not[P]=\n",
    "    q=> { val nnq= DN2(q)\n",
    "    modusTollens(p1)(nnq)}\n",
    "\n",
    "def rcontr2[P, Q](DN: DoubleNegation)(p1: Not[Q] => Not[P]): P => Q = \n",
    "    p => DN.apply[Q](nq => p1(nq)(p)) \n",
    "\n",
    "def ria1[P,Q](p1: Either[P,Q], p2:Not[P]):Q=\n",
    "    p1 match{\n",
    "        case Left(p) => p2(p)\n",
    "        case Right(q)=> q\n",
    "\n",
    "    }\n",
    "def ria1_1[P,Q](p1: Either[Not[P],Q], p2:P):Q=\n",
    "    p1 match{\n",
    "        case Left(np) => np(p2)\n",
    "        case Right(q)=> q\n",
    "\n",
    "    }\n",
    "\n",
    "def ria2[P,Q](p1: Either[P,Q], p2:Not[Q]):P=\n",
    "    p1 match{\n",
    "        case Left(p)=>p\n",
    "        case Right(q) => p2(q)\n",
    "    }\n",
    "def ria2_2[P,Q](p1: Either[P,Not[Q]], p2:Q):P=\n",
    "    p1 match{\n",
    "        case Left(p)=>p\n",
    "        case Right(nq) => nq(p2)\n",
    "    }\n",
    "\n",
    "\n",
    "def rDf1[P,Q](p1: Not[Either[P,Q]]):(Not[P], Not[Q])={\n",
    "    val np: Not[P] = p=> p1(Left(p))\n",
    "    val nq: Not[Q] = q=> p1(Right(q))\n",
    "    (np,nq)\n",
    "}\n",
    "\n",
    "def rDf1_1[P,Q](EM: ExcludedMiddle)(p1: Not[Either[Not[P],Not[Q]]]):(P, Q)={\n",
    "    val p = EM[P] match {\n",
    "                case Left(p) => p\n",
    "                case Right(np) => \n",
    "                val enp: Either[Not[P], Not[Q]] = Left(np)\n",
    "                p1(enp)\n",
    "              }\n",
    "    val q = EM[Q] match {\n",
    "                case Left(q) => q\n",
    "                case Right(nq) => \n",
    "                val enq: Either[Not[P], Not[Q]] = Right(nq)\n",
    "                p1(enq)\n",
    "              }\n",
    "  (p, q)\n",
    "}\n",
    "\n",
    "def rDf1_2[P,Q](EM: ExcludedMiddle)(p1: Not[Either[Not[P],Q]]):(P, Not[Q])={\n",
    "    val p: P = EM[P] match {\n",
    "    case Left(p) => p\n",
    "    case Right(np) => \n",
    "      val either = Left(np)\n",
    "      p1(either)\n",
    "    }\n",
    "\n",
    "    val nq: Not[Q] = q => {\n",
    "    val either = Right(q)\n",
    "        p1(either)\n",
    "    }\n",
    "  (p, nq)\n",
    "}\n",
    "\n",
    "def rDf1_And[P, Q](EM: ExcludedMiddle)(p1:Not[(P, Q)]) : Either[Not[P], Not[Q]] = { \n",
    "    EM[P] match {\n",
    "        case Left(p) => Right((q) => p1((p, q)))\n",
    "        case Right(np) => Left((p => np(p)))\n",
    "    }\n",
    "}\n",
    "\n",
    "def rDf2[P,Q](p1:(Not[P], Not[Q])): Not[Either[P,Q]]=\n",
    " e=> e match{\n",
    "     case Left(p)=> p1._1(p)\n",
    "     case Right(q)=> p1._2(q)\n",
    " }\n",
    "\n",
    "def rDf3_v1[P,Q](EM: ExcludedMiddle)(p1:Not[P]=>Q ): Either[P,Q]={\n",
    "    EM[P] match {\n",
    "    case Left(p) => Left(p)\n",
    "    case Right(np) => Right(p1(np))\n",
    "  }   \n",
    "}\n",
    "\n",
    "def rDf3_v2[P,Q] (p1:Either[P,Q]): Not[P]=>Q=\n",
    "    np=> p1 match{\n",
    "        case Left(p)=>np(p)\n",
    "        case Right(q)=>q\n",
    "    }\n",
    "\n",
    "def rDfAnd[P,Q] (p1:(P,Q)): Not[P=>Not[Q]]=\n",
    "    aux=> aux(p1._1)(p1._2)\n",
    "\n",
    "def rDfAnd2[P,Q] (p1:(P,Q)): Not[Either[Not[P],Not[Q]]]=\n",
    "    e => e match{\n",
    "        case Left(np) => np(p1._1)\n",
    "        case Right(nq) => nq(p1._2)\n",
    "    }\n",
    "\n",
    "def rDfEither[P,Q](p1: Either[P,Q]): Not[(Not[P],Not[Q])]=\n",
    "    t => p1 match{\n",
    "        case Left(p) => t._1(p)\n",
    "        case Right(q) => t._2(q)\n",
    "    }\n",
    "\n",
    "def rdfNotAnd [P,Q](EM: ExcludedMiddle)(p1:Not[(P,Q)]): Either[Not[P],Not[Q]]={\n",
    "   EM[P] match {\n",
    "    case Left(p) =>\n",
    "      Right((q: Q) => p1((p, q)))\n",
    "    case Right(np) =>\n",
    "      Left(np)\n",
    "  }\n",
    "}\n",
    "\n",
    "def rdfNotAndImp[P,Q] (EM: ExcludedMiddle)(p1:Not[(P,Not[Q])]): P=>Q = {\n",
    "  (p: P) => EM[Q] match {\n",
    "    case Left(q) => q\n",
    "    case Right(nq) =>\n",
    "      val np: Not[P] = (p: P) => p1((p, nq))\n",
    "      np(p)\n",
    "  }\n",
    "}\n",
    "\n",
    "def rdfNotAndImp2 [P,Q](EM: ExcludedMiddle)(p1:Not[Not[P]=>Q]):(Not[P],Not[Q])={\n",
    "  EM[P] match {\n",
    "    case Left(p) =>\n",
    "      val nq: Not[Q] = (q:Q) => p1((np: Not[P]) => np(p))\n",
    "      val np: Not[P] = (p:P) => p1((np: Not[P]) => np(p))\n",
    "      (np, nq)\n",
    "    case Right(np) =>\n",
    "      val nq: Not[Q] = (q: Q) => p1((np: Not[P]) => q)\n",
    "      (np, nq)\n",
    "  }\n",
    "}\n",
    "\n",
    "def rDfImp[P,Q](p1: P=>Q): Not[(P,Not[Q])]=\n",
    "    t=> {val q = p1(t._1)\n",
    "        t._2(q)}\n",
    "\n",
    "def reCoimp1[P,Q](p1:P<=>Q, p2:P):Q=\n",
    "    p1._1(p2)\n",
    "\n",
    "def reCoimp2[P,Q](p1:P<=>Q, p2:Not[Q]):Not[P]=\n",
    "    modusTollens(p1._1)(p2)\n",
    "\n",
    "def reCoimp3[P,Q](p1:P<=>Q, p2:Q):P=\n",
    "    p1._2(p2)\n",
    "\n",
    "def reCoimp4[P,Q](p1:P<=>Q, p2:Not[P]):Not[Q]=\n",
    "    modusTollens(p1._2)(p2)\n",
    "\n",
    "trait DoubleNegation {\n",
    "  def apply[P](nnp: Not[Not[P]]): P\n",
    "}\n",
    "\n",
    "trait ExcludedMiddle { \n",
    "    def apply[P]: Either[P, Not[P]]\n",
    "}\n",
    "\n",
    "def DN2[P](p: P): Not[Not[P]] = //P=>Nothing=>Nothing\n",
    "     np=> np(p)\n",
    "\n",
    "type Not[P] = P => Nothing\n",
    "type <=>[P, Q] = (P => Q, Q => P)"
   ]
  },
  {
   "cell_type": "code",
   "execution_count": 23,
   "id": "d49ccc21-e367-46f2-9fff-6a9c152f8b98",
   "metadata": {},
   "outputs": [
    {
     "data": {
      "text/plain": [
       "defined \u001b[32mfunction\u001b[39m \u001b[36mex2\u001b[39m"
      ]
     },
     "execution_count": 23,
     "metadata": {},
     "output_type": "execute_result"
    }
   ],
   "source": [
    "//con reglas \n",
    "def ex2[P, Q, R, S](p1: P => Q, p2: Either[R, S], p3: S => Not[Q], p4: Not[R]): Not[P] = {\n",
    "    val s = ria1(p2,p4)\n",
    "    val nq = p3(s)\n",
    "    modusTollens(p1)(nq)\n",
    "}"
   ]
  },
  {
   "cell_type": "code",
   "execution_count": 25,
   "id": "3fa3cce3-8a9d-4fd8-9bbc-b522842a3f84",
   "metadata": {},
   "outputs": [
    {
     "data": {
      "text/plain": [
       "defined \u001b[32mfunction\u001b[39m \u001b[36mex4\u001b[39m"
      ]
     },
     "execution_count": 26,
     "metadata": {},
     "output_type": "execute_result"
    }
   ],
   "source": [
    "//como deduccion natural \n",
    "def ex4[P,Q,R,S,T](p1:P=>Either[Q,R], p2: Not[R], p3: Q=>Either[S,T], p4:Not[Either[S,T]]): Not[P]={\n",
    "     p => {val nq = modusTollens(p3)(p4) \n",
    "     val p6 = (nq,p2)\n",
    "     val p7 = rDf2(p6)\n",
    "     val np = modusTollens(p1)(p7)\n",
    "     np(p)}\n",
    "}\n"
   ]
  },
  {
   "cell_type": "code",
   "execution_count": null,
   "id": "10fa76c2-a986-45f1-8930-dce9cce8810b",
   "metadata": {},
   "outputs": [
    {
     "data": {
      "text/plain": [
       "defined \u001b[32mfunction\u001b[39m \u001b[36mex4\u001b[39m"
      ]
     },
     "execution_count": 3,
     "metadata": {},
     "output_type": "execute_result"
    }
   ],
   "source": [
    "def ex4[P,Q,R,S,T](p1:P=>Either[Q,R], p2: Not[R], p3: Q=>Either[S,T], p4:Not[Either[S,T]]): Not[P]={\n",
    "p => \n",
    "    val e = p1(p)\n",
    "    val nq = modusTollens(p3)(p4) //MT=> Not[Q]\n",
    "    e match {\n",
    "    case Left(q) => nq(q) // nq(q): Nothing\n",
    "    \n",
    "    case Right(r) => p2(r) //nr(r): Nothing\n",
    "    }\n",
    "}"
   ]
  },
  {
   "cell_type": "code",
   "execution_count": 4,
   "id": "2ed6f406-8c29-4f22-adba-ef785cf4d036",
   "metadata": {},
   "outputs": [
    {
     "data": {
      "text/plain": [
       "defined \u001b[32mfunction\u001b[39m \u001b[36mex5\u001b[39m"
      ]
     },
     "execution_count": 4,
     "metadata": {},
     "output_type": "execute_result"
    }
   ],
   "source": [
    "def ex5[P, Q, R, S](p1: R => S, p2: Either[P, Q], p3: (Not[P], Not[S])): (Q, Not[R]) = {\n",
    "  val notP = p3._1\n",
    "  val notS = p3._2\n",
    "  val notR = modusTollens(p1)(notS)\n",
    "  \n",
    "  p2 match {\n",
    "    case Left(p) => (ria1(p2, notP), notR)\n",
    "    case Right(q) => (q, notR)\n",
    "  }\n",
    "}"
   ]
  },
  {
   "cell_type": "code",
   "execution_count": 5,
   "id": "d0252fae-a749-4e33-8f63-1346a7bd6271",
   "metadata": {},
   "outputs": [
    {
     "data": {
      "text/plain": [
       "defined \u001b[32mfunction\u001b[39m \u001b[36mex6\u001b[39m"
      ]
     },
     "execution_count": 5,
     "metadata": {},
     "output_type": "execute_result"
    }
   ],
   "source": [
    "def ex6 [P,Q,R,S,T,U] (DN:DoubleNegation)(EM: ExcludedMiddle)(p1: P=>Q, p2: R=>P, p3: Not[R]=> Not[T], p4:Not[(S,Not[R])],  p5: Either[T,S]): Either[Q,U]=\n",
    "                                                                                    //S=>R\n",
    "    p5 match{\n",
    "        case Left(t) => val tIr = rcontr2(DN)(p3) //tipo Q p1(p2(rcontr2(p3)(t))) \n",
    "                    val r = tIr(t)\n",
    "                    val p = p2(r)\n",
    "                    Left(p1(p)) //:Q\n",
    "        case Right(s) =>val sIr = rdfNotAndImp(EM)(p4) \n",
    "                    val r = sIr(s)\n",
    "                    val p = p2(r)\n",
    "                    Left(p1(p)) //:Q        \n",
    "    }"
   ]
  },
  {
   "cell_type": "code",
   "execution_count": 6,
   "id": "15cdee02-309e-4508-94e2-4c291d672941",
   "metadata": {},
   "outputs": [
    {
     "data": {
      "text/plain": [
       "defined \u001b[32mfunction\u001b[39m \u001b[36mex8\u001b[39m"
      ]
     },
     "execution_count": 6,
     "metadata": {},
     "output_type": "execute_result"
    }
   ],
   "source": [
    "def ex8 [P,Q,R,S] (p1: P=>Either[Q,R], p2: Either[Q,R]=> P, p3: P=>S, p4:Q):S=\n",
    "rtr(p2,p3)(Left(p4))\n"
   ]
  },
  {
   "cell_type": "code",
   "execution_count": 7,
   "id": "c9ccda04-98a2-4668-8b02-3af3e622d4f6",
   "metadata": {},
   "outputs": [
    {
     "data": {
      "text/plain": [
       "defined \u001b[32mfunction\u001b[39m \u001b[36mex10\u001b[39m"
      ]
     },
     "execution_count": 7,
     "metadata": {},
     "output_type": "execute_result"
    }
   ],
   "source": [
    "def ex10[P,Q,R,S](DN: DoubleNegation)(p1:(P,Q)=>R, p2:Not[Either[P,R]]=>S, p3: P=>Q): Not[S]=>R = {\n",
    "    ns => \n",
    "        val epr= DN(modusTollens(p2)(ns)) //Either[P,R]\n",
    "        epr match {\n",
    "            case Left(p) => val q = p3(p)\n",
    "                            p1(p,q)\n",
    "            case Right(r) => r\n",
    "        }\n",
    "}"
   ]
  },
  {
   "cell_type": "code",
   "execution_count": 27,
   "id": "4293dffa-8d87-477a-ac9b-a1f1e3194349",
   "metadata": {},
   "outputs": [
    {
     "data": {
      "text/plain": [
       "defined \u001b[32mfunction\u001b[39m \u001b[36mex11\u001b[39m"
      ]
     },
     "execution_count": 27,
     "metadata": {},
     "output_type": "execute_result"
    }
   ],
   "source": [
    "def ex11 [P,Q] (p1: Either[P,Q]): Not[P] =>Q =\n",
    "    rDf3_v2(p1)\n"
   ]
  },
  {
   "cell_type": "code",
   "execution_count": 28,
   "id": "f086a029-9c26-43a0-8c16-573f1a5e9329",
   "metadata": {},
   "outputs": [
    {
     "data": {
      "text/plain": [
       "defined \u001b[32mfunction\u001b[39m \u001b[36mex11\u001b[39m"
      ]
     },
     "execution_count": 28,
     "metadata": {},
     "output_type": "execute_result"
    }
   ],
   "source": [
    "//sin reglas auxiliares\n",
    "def ex11 [P,Q] (p1: Either[P,Q]): Not[P] =>Q =\n",
    "    np=> p1 match{\n",
    "            case Left(p)=>np(p)\n",
    "            case Right(q)=>q\n",
    "        }\n"
   ]
  },
  {
   "cell_type": "code",
   "execution_count": 8,
   "id": "643c37a3-ff5e-46e5-a5e3-cd21391f4254",
   "metadata": {},
   "outputs": [
    {
     "data": {
      "text/plain": [
       "defined \u001b[32mfunction\u001b[39m \u001b[36mex12\u001b[39m"
      ]
     },
     "execution_count": 8,
     "metadata": {},
     "output_type": "execute_result"
    }
   ],
   "source": [
    "def ex12[P,S,T,W](DN:DoubleNegation)(p1: S<=>T, p2: Either[T,P], p3: S=>Not[W], p4:W): P ={\n",
    "    val wIns = rcontr1_2(p3)\n",
    "    val ns = wIns(p4)\n",
    "    val tIs = p1._2\n",
    "    val nt = modusTollens(tIs)(ns)\n",
    "    ria1(p2,nt) //:P\n",
    "    \n",
    "}"
   ]
  },
  {
   "cell_type": "code",
   "execution_count": 9,
   "id": "58fd9ac1-4e37-4bd0-9c4e-076dd952f43c",
   "metadata": {},
   "outputs": [
    {
     "data": {
      "text/plain": [
       "defined \u001b[32mfunction\u001b[39m \u001b[36mex17\u001b[39m"
      ]
     },
     "execution_count": 9,
     "metadata": {},
     "output_type": "execute_result"
    }
   ],
   "source": [
    "def ex17[P,Q,R](DN:DoubleNegation)(EM: ExcludedMiddle)(p1: ((P,Q))=>R):((P,Not[R])) => Not[Q] =\n",
    "    t => {val nr = t._2\n",
    "        val n_pAq = modusTollens(p1)(nr) //¬(p,q)\n",
    "        val e_npnq= rDf1_And(EM)(n_pAq) //falta este metodo \n",
    "        val p = t._1\n",
    "        val nnp = DN2(p)\n",
    "        ria1(e_npnq,nnp)\n",
    "    }"
   ]
  },
  {
   "cell_type": "code",
   "execution_count": 10,
   "id": "6f67ae15-b773-4152-be9d-c69c920c2315",
   "metadata": {},
   "outputs": [
    {
     "data": {
      "text/plain": [
       "defined \u001b[32mfunction\u001b[39m \u001b[36mex19\u001b[39m"
      ]
     },
     "execution_count": 10,
     "metadata": {},
     "output_type": "execute_result"
    }
   ],
   "source": [
    "def ex19[P](EM: ExcludedMiddle)(p1:Not[P]=>P):P=\n",
    "    EM[P] match {\n",
    "        case Left(p) => p\n",
    "        case Right(np) => p1(np)\n",
    "    }"
   ]
  },
  {
   "cell_type": "code",
   "execution_count": 11,
   "id": "2e00cdcd-6a6a-4876-a129-8b3cd2ba393a",
   "metadata": {},
   "outputs": [
    {
     "data": {
      "text/plain": [
       "defined \u001b[32mfunction\u001b[39m \u001b[36mex20\u001b[39m"
      ]
     },
     "execution_count": 11,
     "metadata": {},
     "output_type": "execute_result"
    }
   ],
   "source": [
    "//nota11 solucion, con reglas auxiliares\n",
    "def ex20[P,Q,R,S,T](p1: P=>Not[Q], p2:Not[Q]=>(Not[R],Not[S]), p3:Either[R,S]=>T, p4:T=>Q): P=>(Not[R],Not[S])=\n",
    "rtr(p1,p2)\n"
   ]
  },
  {
   "cell_type": "code",
   "execution_count": 12,
   "id": "2514f4ec-5dc1-4ff9-9d4d-9f8d0a70eab9",
   "metadata": {},
   "outputs": [
    {
     "data": {
      "text/plain": [
       "defined \u001b[32mfunction\u001b[39m \u001b[36mex21\u001b[39m"
      ]
     },
     "execution_count": 12,
     "metadata": {},
     "output_type": "execute_result"
    }
   ],
   "source": [
    "def ex21 [P,Q,R,S,T] (DN:DoubleNegation)(p1: R=>P, p2: Not[Q]=>Not[R], p3: S=>Q, p4: ((P,Q))=>T, p5: Either[Not[S],P]):Either[R,S]=>T=\n",
    "e => e match{\n",
    "    case Left(r) => val p = p1(r)\n",
    "                    val rIq = rcontr2(DN)(p2)\n",
    "                    val q = rIq(r)\n",
    "                    val paq = ((p,q))\n",
    "                    p4(paq)\n",
    "                    \n",
    "    case Right(s)=> val q = p3(s)\n",
    "                    val p = ria1_1(p5,s) // habra que hacer que ¬¬s=s\n",
    "                    val paq = ((p,q))\n",
    "                    p4(paq)\n",
    "}\n",
    "\n"
   ]
  },
  {
   "cell_type": "code",
   "execution_count": 13,
   "id": "a83aa191-5a7f-43db-9909-348e38cd4ebd",
   "metadata": {},
   "outputs": [
    {
     "data": {
      "text/plain": [
       "defined \u001b[32mfunction\u001b[39m \u001b[36mex21\u001b[39m"
      ]
     },
     "execution_count": 13,
     "metadata": {},
     "output_type": "execute_result"
    }
   ],
   "source": [
    "def ex21 [P,Q,R,S,T] (DN:DoubleNegation)(p1: R=>P, p2: Not[Q]=>Not[R], p3: S=>Q, p4: ((P,Q))=>T, p5: Either[Not[S],P]):Either[R,S]=>T=\n",
    "e => e match{\n",
    "    case Left(r) => val p = p1(r)\n",
    "                    val rIq = rcontr2(DN)(p2)\n",
    "                    val q = rIq(r)\n",
    "                    val paq = ((p,q))\n",
    "                    p4(paq)\n",
    "                    \n",
    "    case Right(s)=> val q = p3(s)\n",
    "                    val p = ria1_1(p5,s) // habra que hacer que ¬¬s=s\n",
    "                    val paq = ((p,q))\n",
    "                    p4(paq)\n",
    "}\n",
    "\n"
   ]
  },
  {
   "cell_type": "code",
   "execution_count": 14,
   "id": "3b5848a7-088c-4ce1-aff0-b2b4d2caa601",
   "metadata": {},
   "outputs": [
    {
     "data": {
      "text/plain": [
       "defined \u001b[32mfunction\u001b[39m \u001b[36mex24\u001b[39m"
      ]
     },
     "execution_count": 14,
     "metadata": {},
     "output_type": "execute_result"
    }
   ],
   "source": [
    "def ex24[P,Q,R,S,T](EM: ExcludedMiddle)(p1: Either[P,Q]=> (R,S), p2: Not[Either[Not[P],Not[R]]], p3: Not[T]=>Not[(P,S)]):T={\n",
    "    val par = rDf1_1(EM)(p2)\n",
    "    val p= par._1\n",
    "    val ras = p1(Left(p))\n",
    "    val s = ras._2\n",
    "    val pas = ((p,s))\n",
    "    modusTollensNOT(EM)(p3)(pas)\n",
    "}"
   ]
  },
  {
   "cell_type": "code",
   "execution_count": 15,
   "id": "cc9faaa8-48de-4c56-8818-fa3e7356b1b6",
   "metadata": {},
   "outputs": [
    {
     "data": {
      "text/plain": [
       "defined \u001b[32mfunction\u001b[39m \u001b[36mrdfNotAnd\u001b[39m"
      ]
     },
     "execution_count": 15,
     "metadata": {},
     "output_type": "execute_result"
    }
   ],
   "source": [
    "def rdfNotAnd [P,Q](EM: ExcludedMiddle)(p1:Not[(P,Q)]): Either[Not[P],Not[Q]]={\n",
    "   EM[P] match {\n",
    "    case Left(p) =>\n",
    "      Right((q: Q) => p1((p, q)))\n",
    "    case Right(np) =>\n",
    "      Left(np)\n",
    "  }\n",
    "}"
   ]
  },
  {
   "cell_type": "code",
   "execution_count": 16,
   "id": "ec049564-e5c4-4660-9b79-9adbcf1c2b34",
   "metadata": {},
   "outputs": [
    {
     "data": {
      "text/plain": [
       "defined \u001b[32mfunction\u001b[39m \u001b[36mex32\u001b[39m"
      ]
     },
     "execution_count": 16,
     "metadata": {},
     "output_type": "execute_result"
    }
   ],
   "source": [
    "def ex32[P,Q,R,S,T,U](EM: ExcludedMiddle)(DN:DoubleNegation)(p1: P<=>((Q,(T,U))), p2: Not[P], p3: R<=>Not[Q], p4:Not[R]=>T, p5: Not[U]=>R):Either[R,S]={\n",
    "    val p6 = reCoimp4(p1,p2) //Not[(Q,(T,U))]\n",
    "    val p7 = rdfNotAnd(EM)(p6) // Either[Not[Q],Not[(T,U)]]\n",
    "    p7 match{\n",
    "        case Left(nq)=> Left(p3._2(nq))//:R\n",
    "        case Right(n_tAu)=> { val e = rdfNotAnd(EM)(n_tAu)\n",
    "                                e match{\n",
    "                                    case Left(nt)=> {val p12 = rcontr1_1(DN)(p4) //¬t=>r\n",
    "                                                Left(p12(nt))}\n",
    "                                    case Right(nu)=> Left(p5(nu))\n",
    "                                }\n",
    "                            }\n",
    "    }\n",
    "    \n",
    "}"
   ]
  },
  {
   "cell_type": "code",
   "execution_count": 17,
   "id": "c756f0ec-a26b-4d05-bb39-c5aee87c9da8",
   "metadata": {},
   "outputs": [
    {
     "data": {
      "text/plain": [
       "defined \u001b[32mfunction\u001b[39m \u001b[36mex37\u001b[39m"
      ]
     },
     "execution_count": 17,
     "metadata": {},
     "output_type": "execute_result"
    }
   ],
   "source": [
    "def ex37[P,Q,R,S,T](EM: ExcludedMiddle) (p1: R=>S, p2: Either[P,Q], p3:Not[Not[P]=>S], p4: Not[P]=>Q):(Q,Not[R])={\n",
    "    val p5 = rdfNotAndImp2(EM)(p3) //npAns\n",
    "    val p6 = p5._1 //np\n",
    "    val p7 = p4(p6) //q\n",
    "    val p8 = p5._2 //ns\n",
    "    val p9 = modusTollens(p1)(p8) //nr\n",
    "    (p7,p9)\n",
    "    \n",
    "}"
   ]
  },
  {
   "cell_type": "code",
   "execution_count": 18,
   "id": "dacf327e-0906-407e-bdd3-e9c49bf67247",
   "metadata": {},
   "outputs": [
    {
     "data": {
      "text/plain": [
       "defined \u001b[32mfunction\u001b[39m \u001b[36mex40\u001b[39m"
      ]
     },
     "execution_count": 18,
     "metadata": {},
     "output_type": "execute_result"
    }
   ],
   "source": [
    "def ex40[P,Q,R,S,T](EM: ExcludedMiddle)(DN: DoubleNegation)(p1:Not[P]<=>Q, p2:Not[Either[Not[Q],R]], p3: Either[P,S]):Either[S,T]={\n",
    "                                                        //(Q,Not[R])\n",
    "    val  t = rDf1_2(EM)(p2) //(Q,Not[R])\n",
    "    val q = t._1\n",
    "    val np = reCoimp3(p1,q)\n",
    "    val s = ria1(p3,np)\n",
    "    Left(s)\n",
    "}"
   ]
  },
  {
   "cell_type": "code",
   "execution_count": 19,
   "id": "60fb957a-975a-472b-9930-0a88017e228e",
   "metadata": {},
   "outputs": [
    {
     "data": {
      "text/plain": [
       "defined \u001b[32mfunction\u001b[39m \u001b[36mex41\u001b[39m"
      ]
     },
     "execution_count": 19,
     "metadata": {},
     "output_type": "execute_result"
    }
   ],
   "source": [
    "//CON REGLAS DE INFERENCIA\n",
    "def ex41 [P,Q,R] (p1: P=>Q, p2:Either[R, Not[P]]):P=>(Q,R)={\n",
    "    p=> val q = p1(p)\n",
    "        val nnp = DN2(p)\n",
    "        val r = ria2(p2,nnp)\n",
    "        (q,r)\n",
    "}"
   ]
  },
  {
   "cell_type": "code",
   "execution_count": 20,
   "id": "9367f7f0-b1b0-49e0-8752-e0fbd95f7d9c",
   "metadata": {},
   "outputs": [
    {
     "data": {
      "text/plain": [
       "defined \u001b[32mfunction\u001b[39m \u001b[36mex42\u001b[39m"
      ]
     },
     "execution_count": 20,
     "metadata": {},
     "output_type": "execute_result"
    }
   ],
   "source": [
    "//CON REGLAS DE INFERENCIA\n",
    "def ex42[P,Q,R,S](EM: ExcludedMiddle)(p1:((P,Q))=>R, p2: R=>S, p3: (Q,Not[S]) ): Not[P]={\n",
    "    val q = p3._1\n",
    "    val ns = p3._2\n",
    "    val paqis = rtr(p1,p2)\n",
    "    val npaq = modusTollens(paqis)(ns)      \n",
    "    val nponq = rDf1_And(EM)(npaq)\n",
    "    val nnq =  DN2(q)\n",
    "    ria2(nponq,nnq)\n",
    "}"
   ]
  },
  {
   "cell_type": "code",
   "execution_count": 21,
   "id": "1c37a373-01da-43f5-b8eb-1107334b63e1",
   "metadata": {},
   "outputs": [
    {
     "data": {
      "text/plain": [
       "defined \u001b[32mfunction\u001b[39m \u001b[36mex44\u001b[39m"
      ]
     },
     "execution_count": 21,
     "metadata": {},
     "output_type": "execute_result"
    }
   ],
   "source": [
    "def ex44 [P,Q,R,S,T](EM: ExcludedMiddle)(p1: ((P,Q))=>(Either[R,S]), p2: Not[(T,Not[P])], p3:T, p4: T<=>Q):Not[R]=>S ={\n",
    "                                                //T=>P\n",
    "    val tip= rdfNotAndImp(EM)(p2)\n",
    "    val q = p4._1(p3)\n",
    "    val p = tip(p3)\n",
    "    val paq = (p,q)\n",
    "    val e = p1(paq)\n",
    "    \n",
    "    nr=> ria1(e,nr)\n",
    "}\n"
   ]
  },
  {
   "cell_type": "code",
   "execution_count": 22,
   "id": "6e857a63-fb08-49c2-abe7-9655f3dc7da4",
   "metadata": {},
   "outputs": [
    {
     "data": {
      "text/plain": [
       "defined \u001b[32mfunction\u001b[39m \u001b[36mex45\u001b[39m"
      ]
     },
     "execution_count": 22,
     "metadata": {},
     "output_type": "execute_result"
    }
   ],
   "source": [
    "def ex45[P,Q,R,S,T] (DN:DoubleNegation)( p1: Either[P,Q], p2: R=>Not[P], p3: S=>R, p4:Not[T]=>S, p5: R<=>Not[Q]):T={\n",
    "    val ntIr = rtr(p4,p3)\n",
    "    p1 match{\n",
    "        case Left(p) => {\n",
    "                        val pInr = rcontr1_2(p2) //necesario ¬¬p=p\n",
    "                        val nr = pInr(p)\n",
    "                        val nrIt = rcontr1_1(DN)(ntIr)\n",
    "                        nrIt(nr) }//:T\n",
    "        case Right(q) => {\n",
    "                         val rInq = p5._1\n",
    "                         val qInr = rcontr1_2(rInq) //necesario ¬¬p=p\n",
    "                         val nr = qInr(q)\n",
    "                         val ntIr = rtr(p4,p3)\n",
    "                         val nrIt = rcontr1_1(DN)(ntIr) //necesario ¬¬p=p\n",
    "                         nrIt(nr)} //:T\n",
    "    }\n",
    "}\n"
   ]
  },
  {
   "cell_type": "code",
   "execution_count": null,
   "id": "c66246f5-bc04-48bd-9d94-80bf24993990",
   "metadata": {},
   "outputs": [],
   "source": []
  }
 ],
 "metadata": {
  "kernelspec": {
   "display_name": "Scala",
   "language": "scala",
   "name": "scala"
  },
  "language_info": {
   "codemirror_mode": "text/x-scala",
   "file_extension": ".sc",
   "mimetype": "text/x-scala",
   "name": "scala",
   "nbconvert_exporter": "script",
   "version": "2.13.8"
  }
 },
 "nbformat": 4,
 "nbformat_minor": 5
}
