{
 "cells": [
  {
   "cell_type": "code",
   "execution_count": 1,
   "id": "3f089321-10fd-471a-be2f-eb256d7608aa",
   "metadata": {},
   "outputs": [
    {
     "data": {
      "text/plain": [
       "defined \u001b[32mtype\u001b[39m \u001b[36mNot\u001b[39m\r\n",
       "defined \u001b[32mtype\u001b[39m \u001b[36m<=>\u001b[39m"
      ]
     },
     "execution_count": 1,
     "metadata": {},
     "output_type": "execute_result"
    }
   ],
   "source": [
    "type Not[P] = P => Nothing\n",
    "type <=>[P, Q] = (P => Q, Q => P)"
   ]
  },
  {
   "cell_type": "code",
   "execution_count": 2,
   "id": "9093edfc-e2c2-4504-a067-c504c0846cd4",
   "metadata": {},
   "outputs": [
    {
     "data": {
      "text/plain": [
       "defined \u001b[32mtrait\u001b[39m \u001b[36mH1\u001b[39m"
      ]
     },
     "execution_count": 2,
     "metadata": {},
     "output_type": "execute_result"
    }
   ],
   "source": [
    "trait H1 {\n",
    " \n",
    "    def A1[A, B]: A => B => A\n",
    "   \n",
    "    def A2[A, B, C]: (A => B => C) => (A => B) => A => C\n",
    "\n",
    "}\n"
   ]
  },
  {
   "cell_type": "code",
   "execution_count": 3,
   "id": "19886bec-d01c-49d5-9596-df95882a401b",
   "metadata": {},
   "outputs": [
    {
     "data": {
      "text/plain": [
       "defined \u001b[32mfunction\u001b[39m \u001b[36mproof\u001b[39m"
      ]
     },
     "execution_count": 3,
     "metadata": {},
     "output_type": "execute_result"
    }
   ],
   "source": [
    "\n",
    "def proof[A](H: H1): A => A = {\n",
    "    import H._\n",
    "    val B1: (A => (A => A) => A) => (A => A => A) => A => A = A2[A, A => A, A]\n",
    "    val B2: A => (A => A) => A = A1[A, A => A]\n",
    "    val B3: (A => A => A) => A => A = B1(B2)\n",
    "    val B4: A => A => A = A1[A, A]\n",
    "    B3(B4)\n",
    "}\n"
   ]
  },
  {
   "cell_type": "code",
   "execution_count": 4,
   "id": "7b1d84b7-b58d-4153-bf1a-599241003b52",
   "metadata": {},
   "outputs": [
    {
     "data": {
      "text/plain": [
       "defined \u001b[32mfunction\u001b[39m \u001b[36ma1_1\u001b[39m"
      ]
     },
     "execution_count": 4,
     "metadata": {},
     "output_type": "execute_result"
    }
   ],
   "source": [
    "def a1_1[A](H: H1): A => A = {\n",
    "    import H._\n",
    "    A2[A, A => A, A](A1[A, A => A])(A1[A, A])\n",
    "}"
   ]
  },
  {
   "cell_type": "code",
   "execution_count": 5,
   "id": "460f8899-9954-466d-a78e-702ca7c8cf91",
   "metadata": {},
   "outputs": [
    {
     "data": {
      "text/plain": [
       "defined \u001b[32mfunction\u001b[39m \u001b[36mEx2\u001b[39m"
      ]
     },
     "execution_count": 5,
     "metadata": {},
     "output_type": "execute_result"
    }
   ],
   "source": [
    "def Ex2[A, B, C](H: H1) (B2:(A => B), B1:(B => C)): (A => C) = {\n",
    "        import H._\n",
    "\n",
    "    // B3 = ((B ⇒ C) ⇒ (A ⇒ (B ⇒ C)))\n",
    "    val B3 =  A1[B => C, A]\n",
    "    \n",
    "    // B4 = (A ⇒ (B ⇒ C))\n",
    "    val B4 = B3(B1)\n",
    "\n",
    "    // B5 = ((A ⇒ (B ⇒ C)) ⇒ ((A ⇒ B) ⇒ (A ⇒ C)))\n",
    "    val B5 = A2[A, B, C]//A2[A, B => C, C]\n",
    "\n",
    "    // B6 = ((A ⇒ B) ⇒ (A ⇒ C))\n",
    "    val B6= B5(B4)\n",
    "\n",
    "    // B7 = (A ⇒ C)\n",
    "    B6(B2)\n",
    "}\n"
   ]
  },
  {
   "cell_type": "code",
   "execution_count": 6,
   "id": "bb4d83fe-106b-4165-94ef-530877ae37d1",
   "metadata": {},
   "outputs": [
    {
     "data": {
      "text/plain": [
       "defined \u001b[32mfunction\u001b[39m \u001b[36mEx2_2\u001b[39m"
      ]
     },
     "execution_count": 6,
     "metadata": {},
     "output_type": "execute_result"
    }
   ],
   "source": [
    "def Ex2_2[A, B, C](H: H1): (A => B) => (B => C) => (A => C) = {\n",
    "        import H._\n",
    "    (B2: A => B) => (B1: B => C) => (a:A) =>B1(B2(a))\n",
    "}"
   ]
  },
  {
   "cell_type": "code",
   "execution_count": 7,
   "id": "500282c9-1300-4515-bb35-34cc21b11625",
   "metadata": {},
   "outputs": [
    {
     "data": {
      "text/plain": [
       "defined \u001b[32mtrait\u001b[39m \u001b[36mH2\u001b[39m"
      ]
     },
     "execution_count": 7,
     "metadata": {},
     "output_type": "execute_result"
    }
   ],
   "source": [
    "trait H2 extends H1{\n",
    "    def A3[A, B]: (Not[B] => Not[A]) => (Not[B] => A) => B\n",
    "}"
   ]
  },
  {
   "cell_type": "code",
   "execution_count": 8,
   "id": "7fdbd902-1e6e-44da-878c-1cf590b74037",
   "metadata": {},
   "outputs": [
    {
     "data": {
      "text/plain": [
       "defined \u001b[32mfunction\u001b[39m \u001b[36m`2_1_a`\u001b[39m"
      ]
     },
     "execution_count": 8,
     "metadata": {},
     "output_type": "execute_result"
    }
   ],
   "source": [
    "def `2_1_a`[A, B, C](p1: A => B, p2: B => C): A => C = \n",
    "    (a: A) => p2(p1(a))"
   ]
  },
  {
   "cell_type": "code",
   "execution_count": 9,
   "id": "60a1383e-6677-4301-ba60-0bc091ba63ad",
   "metadata": {},
   "outputs": [
    {
     "data": {
      "text/plain": [
       "defined \u001b[32mfunction\u001b[39m \u001b[36m`2_1_b`\u001b[39m"
      ]
     },
     "execution_count": 9,
     "metadata": {},
     "output_type": "execute_result"
    }
   ],
   "source": [
    "def `2_1_b`[A, B, C](p: A => B => C): B => A => C = \n",
    "    (b: B) => (a: A) => p(a)(b)"
   ]
  },
  {
   "cell_type": "code",
   "execution_count": 10,
   "id": "ae899f91-0184-4280-b0bb-832b58265c68",
   "metadata": {},
   "outputs": [
    {
     "data": {
      "text/plain": [
       "defined \u001b[32mfunction\u001b[39m \u001b[36mK\u001b[39m"
      ]
     },
     "execution_count": 10,
     "metadata": {},
     "output_type": "execute_result"
    }
   ],
   "source": [
    "def K[A, B]: A => B => A = a => _ => a\n"
   ]
  },
  {
   "cell_type": "code",
   "execution_count": 11,
   "id": "4a6d8396-6548-4d73-8beb-fdc278e8ff73",
   "metadata": {},
   "outputs": [
    {
     "data": {
      "text/plain": [
       "defined \u001b[32mfunction\u001b[39m \u001b[36mex1\u001b[39m"
      ]
     },
     "execution_count": 11,
     "metadata": {},
     "output_type": "execute_result"
    }
   ],
   "source": [
    "//Ex1\n",
    "def ex1[B](H: H2): Not[Not[B]] => B = {\n",
    "    import H._\n",
    "    \n",
    "    val B1: (Not[B] => Not[Not[B]]) => (Not[B] => Not[B]) => B = \n",
    "        A3[Not[B], B]\n",
    "    val B2: (Not[B] => Not[B]) => (Not[B] => Not[Not[B]]) => B = \n",
    "        `2_1_b`(B1)\n",
    "    val B3: Not[B] => Not[B] = \n",
    "        a1_1[Not[B]](H)\n",
    "    val B4: (Not[B] => Not[Not[B]]) => B = \n",
    "        B2(B3)\n",
    "    val B5: Not[Not[B]] => Not[B] => Not[Not[B]] = \n",
    "        K[Not[Not[B]], Not[B]]\n",
    "    `2_1_a`(B5, B4)\n",
    "}"
   ]
  },
  {
   "cell_type": "code",
   "execution_count": 12,
   "id": "c7d71eb8-7812-450c-94f0-aa4ee3da7e9a",
   "metadata": {},
   "outputs": [
    {
     "data": {
      "text/plain": [
       "defined \u001b[32mfunction\u001b[39m \u001b[36mex2\u001b[39m"
      ]
     },
     "execution_count": 12,
     "metadata": {},
     "output_type": "execute_result"
    }
   ],
   "source": [
    "//Ex2 (B ⇒ ¬¬B)\n",
    "def ex2[B] (H:H2): B => Not[Not[B]] ={\n",
    "    import H._\n",
    "    \n",
    "    //((¬¬¬B ⇒ ¬B) ⇒ ((¬¬¬B ⇒ B) ⇒ ¬¬B))\n",
    "    val B1: (Not[Not[Not[B]]] => Not[B]) => (Not[Not[Not[B]]] => B) => Not[Not[B]] =\n",
    "        (A3[B, Not[Not[B]]])\n",
    "    \n",
    "    //(¬¬¬B ⇒ ¬B)\n",
    "    val B2: Not[Not[Not[B]]] => Not[B] = \n",
    "        ex1[Not[B]](H)\n",
    "    \n",
    "    //((¬¬¬B ⇒ B) ⇒ ¬¬B)\n",
    "    val B3: (Not[Not[Not[B]]] => B) => Not[Not[B]] = \n",
    "        B1(B2)\n",
    "    \n",
    "    //(B ⇒ (¬¬¬B ⇒ B))\n",
    "    val B4: B => Not[Not[Not[B]]] => B = \n",
    "        A1[B, Not[Not[Not[B]]]]\n",
    "\n",
    "    // (B ⇒ ¬¬B)\n",
    "    val B5: B => Not[Not[B]] = \n",
    "        `2_1_a`(B4, B3)\n",
    "\n",
    "    B5\n",
    "    \n",
    "}"
   ]
  },
  {
   "cell_type": "code",
   "execution_count": 13,
   "id": "3bea7b1e-d946-4ac1-9358-4881b4b3b225",
   "metadata": {},
   "outputs": [
    {
     "data": {
      "text/plain": [
       "defined \u001b[32mfunction\u001b[39m \u001b[36mex3\u001b[39m"
      ]
     },
     "execution_count": 13,
     "metadata": {},
     "output_type": "execute_result"
    }
   ],
   "source": [
    "//Ex3 (¬A ⇒ (A ⇒ B)).\n",
    "def ex3[A,B] (H:H2): Not[A] => (A =>B) = {\n",
    "    import H._\n",
    "    //B1 = Not[A] hipotesis\n",
    "    val B1: Not[A] = \n",
    "        ???\n",
    "    \n",
    "    //B2= A hipotesis\n",
    "    val B2: A = \n",
    "        ???\n",
    "\n",
    "    //B3 = (A ⇒ (¬B ⇒ A))\n",
    "    val B3:  A => Not[B] => A = \n",
    "        A1[A, Not[B]]\n",
    "          \n",
    "    //B4 = (¬A ⇒ (¬B ⇒ ¬A))\n",
    "    val B4: Not[A] => Not[B] => Not[A] = \n",
    "        A1[Not[A], Not[B]]\n",
    "\n",
    "    //B5 = (¬B ⇒ A)\n",
    "    val B5: Not[B] => A = \n",
    "        B3(B2)\n",
    "    \n",
    "    ///B6 = (¬B ⇒ ¬A)\n",
    "    val B6: Not[B] => Not[A] = \n",
    "        B4(B1)\n",
    "    \n",
    "    //B7 = ((¬B ⇒ ¬A) ⇒ ((¬B ⇒ A) ⇒ B)) \n",
    "    val B7: (Not[B] => Not[A]) => (Not[B] => A) => B = \n",
    "       A3[A,B] \n",
    "    \n",
    "\n",
    "    //B8 = ((¬B ⇒ A) ⇒ B)\n",
    "    val B8: (Not[B] => A) => B = \n",
    "        B7(B6)\n",
    "    \n",
    "    //B9 = B\n",
    "    val B9: B = \n",
    "        B8(B5)\n",
    "    \n",
    "    //B10 = ¬A, A - B\n",
    "    //B11 = ¬A - (A ⇒ B)\n",
    "    //B12 = (¬A ⇒ (A ⇒ B)\n",
    "    \n",
    "    B1 => (B2 => B9)\n",
    "     \n",
    "}"
   ]
  },
  {
   "cell_type": "code",
   "execution_count": 14,
   "id": "fb3ca29a-703f-4761-9b49-123b8c66cd5b",
   "metadata": {},
   "outputs": [
    {
     "data": {
      "text/plain": [
       "defined \u001b[32mfunction\u001b[39m \u001b[36mex4\u001b[39m"
      ]
     },
     "execution_count": 14,
     "metadata": {},
     "output_type": "execute_result"
    }
   ],
   "source": [
    "//Ex4 ((¬B ⇒ ¬A) ⇒ (A ⇒ B))\n",
    "def ex4[A,B] (H:H2): (Not[B]=>Not[A]) => (A=>B) ={\n",
    "    import H._\n",
    "    //(¬B ⇒ ¬A)\n",
    "    val B1: Not[B] => Not[A] = \n",
    "        ???\n",
    "    // Paso B2: ((¬B ⇒ ¬A) ⇒ ((¬B ⇒ A) ⇒ B))\n",
    "    val B2: (Not[B] => Not[A]) => (Not[B] => A) => B =\n",
    "        A3[A, B]\n",
    "    \n",
    "    // Paso B3: (A ⇒ (¬B ⇒ A))\n",
    "    val B3: A => Not[B] => A = \n",
    "        A1[A, Not[B]]\n",
    "    \n",
    "    // Paso B4: ((¬B ⇒ A) ⇒ B)\n",
    "    val B4: (Not[B] => A) => B = \n",
    "        B2(B1)\n",
    "    \n",
    "    // Paso B5: (A ⇒ B)\n",
    "    val B5: A => B = \n",
    "        ??? // no se muy bien si esto es deduccion natural o hay que usar otro paso\n",
    "    \n",
    "    // Paso B6: ((¬B ⇒ ¬A) ⇒ (A ⇒ B))\n",
    "    val B6: (Not[B] => Not[A]) => (A => B) = \n",
    "       B1 => B5 //\n",
    "\n",
    "    B6\n",
    "}"
   ]
  },
  {
   "cell_type": "code",
   "execution_count": 15,
   "id": "cbdf1c08-bda8-42bc-97d5-71d988eee22f",
   "metadata": {},
   "outputs": [
    {
     "data": {
      "text/plain": [
       "defined \u001b[32mfunction\u001b[39m \u001b[36mex4_2\u001b[39m"
      ]
     },
     "execution_count": 15,
     "metadata": {},
     "output_type": "execute_result"
    }
   ],
   "source": [
    "def ex4_2[A, B](H: H2): (Not[B] => Not[A]) => (A => B) = {\n",
    "    import H._\n",
    "\n",
    "    (f: Not[B] => Not[A]) => (a: A) => {\n",
    "        // Paso 1: Construimos (Not[B] => A) usando la identidad de A\n",
    "        val step1: Not[B] => A = (nb: Not[B]) => a\n",
    "\n",
    "        // Paso 2: Aplicamos A3 para obtener B\n",
    "        val step2: B = A3(f)(step1)\n",
    "\n",
    "        step2 // Retornamos B\n",
    "    }\n",
    "}"
   ]
  },
  {
   "cell_type": "code",
   "execution_count": 16,
   "id": "63f8d036-7c96-499e-a2a0-40f050e200a8",
   "metadata": {},
   "outputs": [
    {
     "data": {
      "text/plain": [
       "defined \u001b[32mfunction\u001b[39m \u001b[36mex5\u001b[39m"
      ]
     },
     "execution_count": 16,
     "metadata": {},
     "output_type": "execute_result"
    }
   ],
   "source": [
    "def ex5[A, B](H: H2): (A => B) => Not[B] => Not[A] = {\n",
    "    import H._\n",
    "\n",
    "    // (A ⇒ B), hipótesis\n",
    "    val B1: A => B = (a: A) => ??? \n",
    "\n",
    "    // (¬¬A ⇒ A)\n",
    "    val B2: Not[Not[A]] => A = //ex1 \n",
    "        ex1[A](H)\n",
    "\n",
    "    //(¬¬A ⇒ B)\n",
    "    val B3: Not[Not[A]] => B = \n",
    "        `2_1_a`(B2, B1)\n",
    "\n",
    "    //(B ⇒ ¬¬B)\n",
    "    val B4: B => Not[Not[B]] = //ex2\n",
    "        ex2[B](H)\n",
    "\n",
    "    // (¬¬A ⇒ ¬¬B)\n",
    "    val B5: Not[Not[A]] => Not[Not[B]] =\n",
    "         `2_1_a`(B3, B4)\n",
    "\n",
    "    // ((¬¬A ⇒ ¬¬B) ⇒ (¬B ⇒ ¬A))\n",
    "    val B6: (Not[Not[A]] => Not[Not[B]]) => Not[B] => Not[A] = //ex4\n",
    "        ex4[Not[B],Not[A]](H)\n",
    "\n",
    "    // (¬B ⇒ ¬A)\n",
    "    val B7: Not[B] => Not[A] = \n",
    "        B6(B5)\n",
    "\n",
    "    // Paso B8: (A ⇒ B) - (¬B ⇒ ¬A), usando los pasos B1 - B7\n",
    "\n",
    "    // ((A ⇒ B) ⇒ (¬B ⇒ ¬A))\n",
    "    val B9: (A => B) => Not[B] => Not[A] = \n",
    "        B1 => nb => B7(nb)\n",
    "\n",
    "    B9\n",
    "}"
   ]
  },
  {
   "cell_type": "code",
   "execution_count": 17,
   "id": "0775a1e2-7066-41bb-91ef-12973f992e99",
   "metadata": {},
   "outputs": [
    {
     "data": {
      "text/plain": [
       "defined \u001b[32mfunction\u001b[39m \u001b[36mex6\u001b[39m"
      ]
     },
     "execution_count": 17,
     "metadata": {},
     "output_type": "execute_result"
    }
   ],
   "source": [
    "def ex6[A, B](H: H2): A => Not[B] => Not[A => B] = {\n",
    "    import H._\n",
    "\n",
    "    // A, (A ⇒ B) - B\n",
    "    val B1: (A, A => B) => B =\n",
    "        (a: A, ab: A => B) => ab(a)\n",
    "    \n",
    "    //  A  -((A ⇒ B) ⇒ B)\n",
    "    val B2: A => (A => B) => B = \n",
    "        a => ab => B1(a, ab)\n",
    "\n",
    "    // - (A ⇒ ((A ⇒ B) ⇒ B))\n",
    "    val B3: A => (A => B) => B =\n",
    "        B2\n",
    "\n",
    "    //(((A ⇒ B) ⇒ B) ⇒ (¬B ⇒ ¬(A ⇒ B))) \n",
    "    val B4: ((A => B) => B) => Not[B] => Not[A => B] = \n",
    "        ex5[(A => B),B](H)                                                  \n",
    "\n",
    "    // -(A ⇒ (¬B ⇒ ¬(A ⇒ B))) \n",
    "    val B5: A => Not[B] => Not[A => B] = \n",
    "        `2_1_a`(B3, B4)\n",
    "\n",
    "    B5\n",
    "}"
   ]
  },
  {
   "cell_type": "code",
   "execution_count": 18,
   "id": "278d873d-cbf5-400a-9717-66c5da220154",
   "metadata": {},
   "outputs": [
    {
     "data": {
      "text/plain": [
       "defined \u001b[32mfunction\u001b[39m \u001b[36mex7\u001b[39m"
      ]
     },
     "execution_count": 18,
     "metadata": {},
     "output_type": "execute_result"
    }
   ],
   "source": [
    "def ex7[A, B](H: H2): (A => B) => (Not[A] => B) => B = {\n",
    "    import H._\n",
    "\n",
    "    // (A ⇒ B), hipótesis\n",
    "    val B1: A => B =  ??? \n",
    "\n",
    "    // (¬A ⇒ B), hipótesis\n",
    "    val B2: Not[A] => B =  ??? \n",
    "\n",
    "    // ((A ⇒ B) ⇒ (¬B ⇒ ¬A)) meter ej5 cuando compile\n",
    "    val B3: (A => B) => Not[B] => Not[A] = \n",
    "       ex5[A,B](H)\n",
    "\n",
    "    //(¬B ⇒ ¬A)\n",
    "    val B4: Not[B] => Not[A] = \n",
    "        B3(B1)\n",
    "\n",
    "    // ((¬A ⇒ B) ⇒ (¬B ⇒ ¬¬A)) meter ej5 cuando compile\n",
    "    val B5: (Not[A] => B) => Not[B] => Not[Not[A]] = \n",
    "        ex5[Not[A],B](H)\n",
    "\n",
    "    // (¬B ⇒ ¬¬A)\n",
    "    val B6: Not[B] => Not[Not[A]] =\n",
    "        B5(B2)\n",
    "\n",
    "    // ((¬B ⇒ ¬¬A) ⇒ ((¬B ⇒ ¬A) ⇒ B))\n",
    "    val B7: (Not[B] => Not[Not[A]]) => (Not[B] => Not[A]) => B =\n",
    "        A3[Not[A], B]\n",
    "\n",
    "    //((¬B ⇒ ¬A) ⇒ B)\n",
    "    val B8: (Not[B] => Not[A]) => B = \n",
    "        B7(B6)\n",
    "\n",
    "    // B\n",
    "    val B9: B = \n",
    "        B8(B4)\n",
    "\n",
    "    // Paso B10: (A ⇒ B),(¬A ⇒ B) - B,\n",
    "    // Paso B11: (A ⇒ B) - ((¬A ⇒ B) ⇒ B)\n",
    "    // Paso B12: ((A ⇒ B) ⇒ ((¬A ⇒ B) ⇒ B))\n",
    "    \n",
    "    val B12: (A => B) => (Not[A] => B) => B = \n",
    "        B1 => B2 => B9\n",
    "\n",
    "    B12\n",
    "}"
   ]
  },
  {
   "cell_type": "code",
   "execution_count": 19,
   "id": "9d6bd636-3e0a-4f60-9236-dd12660cbca6",
   "metadata": {},
   "outputs": [
    {
     "data": {
      "text/plain": [
       "defined \u001b[32mfunction\u001b[39m \u001b[36mex8\u001b[39m"
      ]
     },
     "execution_count": 19,
     "metadata": {},
     "output_type": "execute_result"
    }
   ],
   "source": [
    "def ex8[A](H: H2): (Not[A] => A) => A = {\n",
    "    import H._\n",
    "    \n",
    "    // ((¬A ⇒ ¬A) ⇒ ((¬A ⇒ A) ⇒ A))\n",
    "    val B1: (Not[A] => Not[A]) => (Not[A] => A) => A = \n",
    "        A3[A, A]\n",
    "    \n",
    "    // (¬A ⇒ ¬A)\n",
    "    val B2: Not[A] => Not[A] = \n",
    "        a1_1[Not[A]](H)\n",
    "    \n",
    "    // ((¬A ⇒ A) ⇒ A) \n",
    "    val B3: (Not[A] => A) => A = \n",
    "        B1(B2)\n",
    "\n",
    "    B3\n",
    "}\n"
   ]
  },
  {
   "cell_type": "code",
   "execution_count": null,
   "id": "60884a38-3a44-481b-8d46-cdcb156213ac",
   "metadata": {},
   "outputs": [],
   "source": []
  }
 ],
 "metadata": {
  "kernelspec": {
   "display_name": "Scala",
   "language": "scala",
   "name": "scala"
  },
  "language_info": {
   "codemirror_mode": "text/x-scala",
   "file_extension": ".sc",
   "mimetype": "text/x-scala",
   "name": "scala",
   "nbconvert_exporter": "script",
   "version": "2.13.8"
  }
 },
 "nbformat": 4,
 "nbformat_minor": 5
}
