{
 "cells": [
  {
   "cell_type": "code",
   "execution_count": 25,
   "id": "3f089321-10fd-471a-be2f-eb256d7608aa",
   "metadata": {},
   "outputs": [
    {
     "data": {
      "text/plain": [
       "defined \u001b[32mtrait\u001b[39m \u001b[36mDoubleNegation\u001b[39m\r\n",
       "defined \u001b[32mtrait\u001b[39m \u001b[36mExcludedMiddle\u001b[39m\r\n",
       "defined \u001b[32mfunction\u001b[39m \u001b[36mDN2\u001b[39m\r\n",
       "defined \u001b[32mtype\u001b[39m \u001b[36mNot\u001b[39m\r\n",
       "defined \u001b[32mtype\u001b[39m \u001b[36m<=>\u001b[39m"
      ]
     },
     "execution_count": 25,
     "metadata": {},
     "output_type": "execute_result"
    }
   ],
   "source": [
    "\n",
    "trait DoubleNegation {\n",
    "  def apply[P](nnp: Not[Not[P]]): P\n",
    "}\n",
    "\n",
    "trait ExcludedMiddle { \n",
    "    def apply[P]: Either[P, Not[P]]\n",
    "}\n",
    "\n",
    "def DN2[P](p: P): Not[Not[P]] = \n",
    "                //P=>Nothing=>Nothing\n",
    "     np=> np(p)\n",
    "\n",
    "type Not[P] = P => Nothing\n",
    "type <=>[P, Q] = (P => Q, Q => P)"
   ]
  },
  {
   "cell_type": "code",
   "execution_count": 1,
   "id": "9093edfc-e2c2-4504-a067-c504c0846cd4",
   "metadata": {},
   "outputs": [
    {
     "data": {
      "text/plain": [
       "defined \u001b[32mobject\u001b[39m \u001b[36mH1\u001b[39m"
      ]
     },
     "execution_count": 1,
     "metadata": {},
     "output_type": "execute_result"
    }
   ],
   "source": [
    "object H1 {\n",
    "\n",
    "    def A1[A, B]: A => B => A = \n",
    "        a => _ => a\n",
    "    \n",
    "    def A2[A, B, C]: (A => B => C) => (A => B) => A => C = \n",
    "        f => g => a => f(a)(g(a))\n",
    "}\n"
   ]
  },
  {
   "cell_type": "code",
   "execution_count": 2,
   "id": "c982b555-7484-4248-b8ac-2b6c9f131d22",
   "metadata": {},
   "outputs": [
    {
     "data": {
      "text/plain": [
       "\u001b[32mimport \u001b[39m\u001b[36mH1._\u001b[39m"
      ]
     },
     "execution_count": 2,
     "metadata": {},
     "output_type": "execute_result"
    }
   ],
   "source": [
    "import H1._"
   ]
  },
  {
   "cell_type": "code",
   "execution_count": 3,
   "id": "19886bec-d01c-49d5-9596-df95882a401b",
   "metadata": {},
   "outputs": [
    {
     "data": {
      "text/plain": [
       "defined \u001b[32mfunction\u001b[39m \u001b[36mproof\u001b[39m"
      ]
     },
     "execution_count": 3,
     "metadata": {},
     "output_type": "execute_result"
    }
   ],
   "source": [
    "def proof[A]: A => A = {\n",
    "    val B1: (A => (A => A) => A) => (A => A => A) => A => A = A2[A, A => A, A]\n",
    "    val B2: A => (A => A) => A = A1[A, A => A]\n",
    "    val B3: (A => A => A) => A => A = B1(B2)\n",
    "    val B4: A => A => A = A1[A, A]\n",
    "    B3(B4)\n",
    "}\n"
   ]
  },
  {
   "cell_type": "code",
   "execution_count": 22,
   "id": "7b1d84b7-b58d-4153-bf1a-599241003b52",
   "metadata": {},
   "outputs": [
    {
     "data": {
      "text/plain": [
       "defined \u001b[32mfunction\u001b[39m \u001b[36ma1_1\u001b[39m"
      ]
     },
     "execution_count": 22,
     "metadata": {},
     "output_type": "execute_result"
    }
   ],
   "source": [
    "def a1_1[A]: A => A = \n",
    "    A2[A, A => A, A](A1[A, A => A])(A1[A, A])\n"
   ]
  },
  {
   "cell_type": "code",
   "execution_count": 12,
   "id": "460f8899-9954-466d-a78e-702ca7c8cf91",
   "metadata": {},
   "outputs": [
    {
     "data": {
      "text/plain": [
       "defined \u001b[32mfunction\u001b[39m \u001b[36mEx2\u001b[39m"
      ]
     },
     "execution_count": 12,
     "metadata": {},
     "output_type": "execute_result"
    }
   ],
   "source": [
    "def Ex2[A, B, C] (B2:(A => B), B1:(B => C)): (A => C) = {\n",
    "    // B3 = ((B ⇒ C) ⇒ (A ⇒ (B ⇒ C)))\n",
    "    val B3 =  A1[B => C, A]\n",
    "    \n",
    "    // B4 = (A ⇒ (B ⇒ C))\n",
    "    val B4 = B3(B1)\n",
    "\n",
    "    // B5 = ((A ⇒ (B ⇒ C)) ⇒ ((A ⇒ B) ⇒ (A ⇒ C)))\n",
    "    val B5 = A2[A, B, C]//A2[A, B => C, C]\n",
    "\n",
    "    // B6 = ((A ⇒ B) ⇒ (A ⇒ C))\n",
    "    val B6= B5(B4)\n",
    "\n",
    "    // B7 = (A ⇒ C)\n",
    "    B6(B2)\n",
    "}\n"
   ]
  },
  {
   "cell_type": "code",
   "execution_count": 11,
   "id": "bb4d83fe-106b-4165-94ef-530877ae37d1",
   "metadata": {},
   "outputs": [
    {
     "data": {
      "text/plain": [
       "defined \u001b[32mfunction\u001b[39m \u001b[36mEx2_2\u001b[39m"
      ]
     },
     "execution_count": 11,
     "metadata": {},
     "output_type": "execute_result"
    }
   ],
   "source": [
    "def Ex2_2[A, B, C]: (A => B) => (B => C) => (A => C) = \n",
    "    (B2: A => B) => (B1: B => C) => (a:A) =>B1(B2(a))\n"
   ]
  },
  {
   "cell_type": "code",
   "execution_count": 29,
   "id": "500282c9-1300-4515-bb35-34cc21b11625",
   "metadata": {},
   "outputs": [
    {
     "data": {
      "text/plain": [
       "defined \u001b[32mtrait\u001b[39m \u001b[36mH2\u001b[39m"
      ]
     },
     "execution_count": 29,
     "metadata": {},
     "output_type": "execute_result"
    }
   ],
   "source": [
    "    trait H2 {\n",
    "        def A1[A, B]: A => (B => A)\n",
    "        def A2[A, B, C]: (A => (B => C)) => ((A => B) => (A => C))\n",
    "        def A3[A, B]: (Not[B] => Not[A]) => (Not[B] => A) => B\n",
    "    }\n"
   ]
  },
  {
   "cell_type": "code",
   "execution_count": 9,
   "id": "74140dad-c0d5-46f8-8561-1ea228aa4b32",
   "metadata": {},
   "outputs": [],
   "source": [
    "/*object H2 {\n",
    "\n",
    "    type Not[A] = A => Nothing\n",
    "    def A1[A, B]: A => (B => A) = \n",
    "        a => b => a\n",
    "    \n",
    "    def A2[A, B, C]: (A => (B => C)) => ((A => B) => (A => C)) = \n",
    "        f => g => a => f(a)(g(a))\n",
    "    \n",
    "    //(¬B => ¬A) => ((¬B => A) => B)\n",
    "    def abstract A3[A, B]: (Not[B] => Not[A]) => (Not[B] => A) => B \n",
    "}*/"
   ]
  },
  {
   "cell_type": "code",
   "execution_count": null,
   "id": "898cee66-fd05-44ca-bf97-7722d38d3c52",
   "metadata": {},
   "outputs": [],
   "source": [
    "//import H2._"
   ]
  },
  {
   "cell_type": "code",
   "execution_count": 15,
   "id": "7fdbd902-1e6e-44da-878c-1cf590b74037",
   "metadata": {},
   "outputs": [
    {
     "data": {
      "text/plain": [
       "defined \u001b[32mfunction\u001b[39m \u001b[36m`2_1_a`\u001b[39m"
      ]
     },
     "execution_count": 15,
     "metadata": {},
     "output_type": "execute_result"
    }
   ],
   "source": [
    "def `2_1_a`[A, B, C](p1: A => B, p2: B => C): A => C = \n",
    "    (a: A) => p2(p1(a))"
   ]
  },
  {
   "cell_type": "code",
   "execution_count": 17,
   "id": "60a1383e-6677-4301-ba60-0bc091ba63ad",
   "metadata": {},
   "outputs": [
    {
     "data": {
      "text/plain": [
       "defined \u001b[32mfunction\u001b[39m \u001b[36m`2_1_b`\u001b[39m"
      ]
     },
     "execution_count": 17,
     "metadata": {},
     "output_type": "execute_result"
    }
   ],
   "source": [
    "def `2_1_b`[A, B, C](p: A => B => C): B => A => C = \n",
    "    (b: B) => (a: A) => p(a)(b)"
   ]
  },
  {
   "cell_type": "code",
   "execution_count": 19,
   "id": "ae899f91-0184-4280-b0bb-832b58265c68",
   "metadata": {},
   "outputs": [
    {
     "data": {
      "text/plain": [
       "defined \u001b[32mfunction\u001b[39m \u001b[36mK\u001b[39m"
      ]
     },
     "execution_count": 19,
     "metadata": {},
     "output_type": "execute_result"
    }
   ],
   "source": [
    "def K[A, B]: A => B => A = a => _ => a\n"
   ]
  },
  {
   "cell_type": "code",
   "execution_count": 30,
   "id": "4a6d8396-6548-4d73-8beb-fdc278e8ff73",
   "metadata": {},
   "outputs": [
    {
     "data": {
      "text/plain": [
       "defined \u001b[32mfunction\u001b[39m \u001b[36mEx1\u001b[39m"
      ]
     },
     "execution_count": 30,
     "metadata": {},
     "output_type": "execute_result"
    }
   ],
   "source": [
    "//Ex1\n",
    "def Ex1[B](H: H2): Not[Not[B]] => B = {\n",
    "    import H._\n",
    "    \n",
    "    val B1: (Not[B] => Not[Not[B]]) => (Not[B] => Not[B]) => B = \n",
    "        A3[Not[B], B]\n",
    "    val B2: (Not[B] => Not[B]) => (Not[B] => Not[Not[B]]) => B = \n",
    "        `2_1_b`(B1)\n",
    "    val B3: Not[B] => Not[B] = \n",
    "        a1_1[Not[B]]\n",
    "    val B4: (Not[B] => Not[Not[B]]) => B = \n",
    "        B2(B3)\n",
    "    val B5: Not[Not[B]] => Not[B] => Not[Not[B]] = \n",
    "        K[Not[Not[B]], Not[B]]\n",
    "    `2_1_a`(B5, B4)\n",
    "}"
   ]
  },
  {
   "cell_type": "code",
   "execution_count": 23,
   "id": "2ad1a526-7edd-4e8b-8af3-c0977e9f7f53",
   "metadata": {},
   "outputs": [
    {
     "name": "stderr",
     "output_type": "stream",
     "text": [
      "cmd23.sc:3: type mismatch;\n",
      " found   : ammonite.$sess.cmd13.wrapper.cmd5.Not[Nothing] => ammonite.$sess.cmd13.wrapper.cmd5.Not[Nothing]\n",
      "    (which expands to)  (Nothing => Nothing) => (Nothing => Nothing)\n",
      " required: ammonite.$sess.cmd13.wrapper.cmd5.Not[Nothing] => Nothing\n",
      "    (which expands to)  (Nothing => Nothing) => Nothing\n",
      "    `2_1_a`(K, `2_1_b`(H.A3)(a1_1))\n",
      "                             ^Compilation Failed"
     ]
    },
    {
     "ename": "",
     "evalue": "",
     "output_type": "error",
     "traceback": [
      "Compilation Failed"
     ]
    }
   ],
   "source": [
    "def proof[B](H: H2): Not[Not[B]] => B = {\n",
    "    import H._   \n",
    "    `2_1_a`(K, `2_1_b`(H.A3)(a1_1))\n",
    "}"
   ]
  },
  {
   "cell_type": "code",
   "execution_count": 28,
   "id": "c7d71eb8-7812-450c-94f0-aa4ee3da7e9a",
   "metadata": {},
   "outputs": [
    {
     "name": "stderr",
     "output_type": "stream",
     "text": [
      "cmd28.sc:2: not found: value H2\n",
      "    import H2._\n",
      "           ^cmd28.sc:6: not found: value A3\n",
      "        DN(A3[Not[Not[B]], B])\n",
      "           ^cmd28.sc:10: type mismatch;\n",
      " found   : cmd28.this.cmd24.Not[cmd28.this.cmd24.Not[cmd28.this.cmd24.Not[B]]]\n",
      "    (which expands to)  ((B => Nothing) => Nothing) => Nothing\n",
      " required: ammonite.$sess.cmd26.wrapper.cmd13.H2\n",
      "        (nb: Not[Not[Not[B]]]) => DN(Ex1(nb))\n",
      "                                         ^Compilation Failed"
     ]
    },
    {
     "ename": "",
     "evalue": "",
     "output_type": "error",
     "traceback": [
      "Compilation Failed"
     ]
    }
   ],
   "source": [
    "//Ex2 (B ⇒ ¬¬B)\n",
    "def ex2[B] (H:H2)(DN: DoubleNegation): B => Not[Not[B]] ={\n",
    "    import H2._\n",
    "    \n",
    "    //((¬¬¬B ⇒ ¬B) ⇒ ((¬¬¬B ⇒ B) ⇒ ¬¬B))\n",
    "    val B1: (Not[Not[Not[B]]] => Not[B]) => (Not[Not[Not[B]]] => B) => Not[Not[B]] =\n",
    "        DN(A3[Not[Not[B]], B])\n",
    "    \n",
    "    //(¬¬¬B ⇒ ¬B)\n",
    "    val B2: Not[Not[Not[B]]] => Not[B] = \n",
    "        (nb: Not[Not[Not[B]]]) => DN(Ex1(nb))\n",
    "    \n",
    "    //((¬¬¬B ⇒ B) ⇒ ¬¬B)\n",
    "    val B3: (Not[Not[Not[B]]] => B) => Not[Not[B]] = \n",
    "        B1(B2)\n",
    "    \n",
    "    //(B ⇒ (¬¬¬B ⇒ B))\n",
    "    val B4: B => Not[Not[Not[B]]] => B = \n",
    "        A1[B, Not[Not[Not[B]]]]\n",
    "\n",
    "    // (B ⇒ ¬¬B)\n",
    "    val B5: B => Not[Not[B]] = \n",
    "        `2_1_a`(B4, B3)\n",
    "\n",
    "    B5\n",
    "    \n",
    "}"
   ]
  },
  {
   "cell_type": "code",
   "execution_count": 30,
   "id": "76410ea0-57ab-4259-9ba6-af215920ed69",
   "metadata": {},
   "outputs": [
    {
     "name": "stderr",
     "output_type": "stream",
     "text": [
      "cmd30.sc:24: type mismatch;\n",
      " found   : (ammonite.$sess.cmd28.wrapper.cmd24.Not[B] => ammonite.$sess.cmd28.wrapper.cmd24.Not[cmd30.this.cmd24.Not[A]]) => ((ammonite.$sess.cmd28.wrapper.cmd24.Not[B] => cmd30.this.cmd24.Not[A]) => B)\n",
      "    (which expands to)  ((B => Nothing) => ((A => Nothing) => Nothing)) => (((B => Nothing) => (A => Nothing)) => B)\n",
      " required: cmd30.this.cmd24.Not[cmd30.this.cmd24.Not[?]]\n",
      "    (which expands to)  (? => Nothing) => Nothing\n",
      "            DN(H.A3[Not[A], B])\n",
      "                   ^Compilation Failed"
     ]
    },
    {
     "ename": "",
     "evalue": "",
     "output_type": "error",
     "traceback": [
      "Compilation Failed"
     ]
    }
   ],
   "source": [
    "//Ex3 (¬A ⇒ (A ⇒ B)).\n",
    "def ex3[A,B] (H:H2)(DN: DoubleNegation): Not[A] => (A=>B) ={\n",
    "    import H._\n",
    "    \n",
    "    //B1 = Not[A], B2 = A\n",
    "     B1:Not[A]=> B2:A => {\n",
    "         \n",
    "        //B3 = (A ⇒ (¬B ⇒ A))\n",
    "        val B3:  A => Not[B] => A = \n",
    "            H.A1[A, Not[B]]\n",
    "         \n",
    "        //B4 = (¬A ⇒ (¬B ⇒ ¬A))\n",
    "        val B4: Not[A] => Not[B] => Not[A] = \n",
    "            H.A1[Not[A], Not[B]]\n",
    "\n",
    "        //B5 = (¬B ⇒ A)\n",
    "        val B5: Not[B] => A = \n",
    "            (nb: Not[B]) => B2\n",
    "        ///B6 = (¬B ⇒ ¬A)\n",
    "        val B6: Not[B] => Not[A] = \n",
    "            (nb: Not[B]) => B1\n",
    "\n",
    "        //B7 = ((¬B ⇒ ¬A) ⇒ ((¬B ⇒ A) ⇒ B)) manejar doble negación DN(H.A3[Not[A], B])\n",
    "         val B7: (Not[B] => Not[A]) => (Not[B] => A) => B = \n",
    "            DN(H.A3[Not[A], B])\n",
    "\n",
    "        //B8 = ((¬B ⇒ A) ⇒ B)\n",
    "        val B8: (Not[B] => A) => B = \n",
    "            B7(B6)\n",
    "        //B9 = B\n",
    "        val B9: B = \n",
    "            B8(B5)\n",
    "         B9\n",
    "     }\n",
    "}"
   ]
  },
  {
   "cell_type": "code",
   "execution_count": 26,
   "id": "fb3ca29a-703f-4761-9b49-123b8c66cd5b",
   "metadata": {},
   "outputs": [
    {
     "data": {
      "text/plain": [
       "defined \u001b[32mfunction\u001b[39m \u001b[36mex3\u001b[39m"
      ]
     },
     "execution_count": 26,
     "metadata": {},
     "output_type": "execute_result"
    }
   ],
   "source": [
    "//Ex4 ((¬B ⇒ ¬A) ⇒ (A ⇒ B))\n",
    "def ex3[A,B] (H:H2): (Not[B]=>Not[A]) => (A=>B) ={\n",
    "    ???\n",
    "    \n",
    "}"
   ]
  },
  {
   "cell_type": "code",
   "execution_count": null,
   "id": "74c4efba-e8ee-47fd-8763-194fca37569d",
   "metadata": {},
   "outputs": [],
   "source": []
  }
 ],
 "metadata": {
  "kernelspec": {
   "display_name": "Scala",
   "language": "scala",
   "name": "scala"
  },
  "language_info": {
   "codemirror_mode": "text/x-scala",
   "file_extension": ".sc",
   "mimetype": "text/x-scala",
   "name": "scala",
   "nbconvert_exporter": "script",
   "version": "2.13.8"
  }
 },
 "nbformat": 4,
 "nbformat_minor": 5
}
