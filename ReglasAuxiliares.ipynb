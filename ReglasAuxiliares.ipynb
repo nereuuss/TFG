{
 "cells": [
  {
   "cell_type": "markdown",
   "id": "46007660-c0ae-42bb-8ee0-7b05f390c1c2",
   "metadata": {},
   "source": [
    "REGLAS DE INFERENCIA\n"
   ]
  },
  {
   "cell_type": "code",
   "execution_count": 56,
   "id": "602adad2-387d-4a85-81ce-a2de3f4f25d5",
   "metadata": {},
   "outputs": [
    {
     "data": {
      "text/plain": [
       "defined \u001b[32mtype\u001b[39m \u001b[36mNot\u001b[39m\r\n",
       "defined \u001b[32mtype\u001b[39m \u001b[36m<=>\u001b[39m\r\n",
       "defined \u001b[32mtrait\u001b[39m \u001b[36mDoubleNegation\u001b[39m\r\n",
       "defined \u001b[32mtrait\u001b[39m \u001b[36mExcludedMiddle\u001b[39m"
      ]
     },
     "execution_count": 56,
     "metadata": {},
     "output_type": "execute_result"
    }
   ],
   "source": [
    "type Not[P] = P => Nothing\n",
    "\n",
    "type <=>[P, Q] = (P => Q, Q => P)\n",
    "\n",
    "trait DoubleNegation {\n",
    "  def apply[P](nnp: Not[Not[P]]): P\n",
    "}\n",
    "\n",
    "trait ExcludedMiddle { \n",
    "    def apply[P]: Either[P, Not[P]]\n",
    "}"
   ]
  },
  {
   "cell_type": "markdown",
   "id": "d139391c-cd71-4a21-87df-1a39ce658483",
   "metadata": {},
   "source": [
    "Regla de la conmutatividad de la conjunción "
   ]
  },
  {
   "cell_type": "code",
   "execution_count": 18,
   "id": "d77e604d-062e-4966-8864-ff235f3e88d3",
   "metadata": {},
   "outputs": [
    {
     "data": {
      "text/plain": [
       "defined \u001b[32mfunction\u001b[39m \u001b[36mconmutatividad_conjuncion\u001b[39m"
      ]
     },
     "execution_count": 18,
     "metadata": {},
     "output_type": "execute_result"
    }
   ],
   "source": [
    "def conmutatividad_conjuncion [P, Q](p: P, q: Q): (Q, P) =\n",
    "  (q, p)"
   ]
  },
  {
   "cell_type": "markdown",
   "id": "98880dff-4bfb-47fe-939f-c795ba3f92b4",
   "metadata": {},
   "source": [
    "Regla de la idempotencia de la conjunción "
   ]
  },
  {
   "cell_type": "code",
   "execution_count": 65,
   "id": "9dca47ea-4ec4-4df4-a1c2-a9400f12a639",
   "metadata": {},
   "outputs": [
    {
     "data": {
      "text/plain": [
       "defined \u001b[32mfunction\u001b[39m \u001b[36mRIdem_Conj\u001b[39m"
      ]
     },
     "execution_count": 65,
     "metadata": {},
     "output_type": "execute_result"
    }
   ],
   "source": [
    "def RIdem_Conj[P](p1: (P,P)):P=\n",
    "    p1._1"
   ]
  },
  {
   "cell_type": "markdown",
   "id": "b7ee8567-d875-44c1-bdaa-a1a95165780a",
   "metadata": {},
   "source": [
    "Regla de la conmutatividad de la disyunción "
   ]
  },
  {
   "cell_type": "code",
   "execution_count": 61,
   "id": "7a9a50e0-c853-4121-8553-53e32e8bd34f",
   "metadata": {},
   "outputs": [
    {
     "data": {
      "text/plain": [
       "defined \u001b[32mfunction\u001b[39m \u001b[36mconmutatividad_disyuncion\u001b[39m"
      ]
     },
     "execution_count": 61,
     "metadata": {},
     "output_type": "execute_result"
    }
   ],
   "source": [
    "def conmutatividad_disyuncion[P, Q](e: Either[P, Q]): Either[Q, P] =\n",
    "  e match {\n",
    "    case Left(p) => Right(p)\n",
    "    case Right(q) => Left(q)\n",
    "  }"
   ]
  },
  {
   "cell_type": "markdown",
   "id": "ea939037-1c74-428e-8734-4f43498847e1",
   "metadata": {},
   "source": [
    "Regla de la idempotencia de la disyunción "
   ]
  },
  {
   "cell_type": "code",
   "execution_count": 66,
   "id": "a1d17d04-80f0-450b-a6ae-65d4826f422c",
   "metadata": {},
   "outputs": [
    {
     "data": {
      "text/plain": [
       "defined \u001b[32mfunction\u001b[39m \u001b[36mRIdem_Dis\u001b[39m"
      ]
     },
     "execution_count": 66,
     "metadata": {},
     "output_type": "execute_result"
    }
   ],
   "source": [
    "def RIdem_Dis[P](p1: Either[P,P]):P=\n",
    "    p1 match{\n",
    "        case Left(p) => p\n",
    "        case Right(p) => p\n",
    "    }"
   ]
  },
  {
   "cell_type": "markdown",
   "id": "f53b4a6c-d852-43ae-9432-3a135fc972fc",
   "metadata": {},
   "source": [
    "Regla de distribución de la disyunción por la conjunción "
   ]
  },
  {
   "cell_type": "code",
   "execution_count": 20,
   "id": "b778bf17-14e4-43f8-8798-3aa142def121",
   "metadata": {},
   "outputs": [
    {
     "data": {
      "text/plain": [
       "defined \u001b[32mfunction\u001b[39m \u001b[36mdistribucion\u001b[39m"
      ]
     },
     "execution_count": 20,
     "metadata": {},
     "output_type": "execute_result"
    }
   ],
   "source": [
    "def RDstr_DporC[P, Q, R](e: Either[P, (Q, R)]): (Either[P, Q], Either[P, R]) =\n",
    "  e match {\n",
    "    case Left(p) => (Left(p), Left(p))\n",
    "    case Right((q, r)) => (Right(q), Right(r))\n",
    "  }\n"
   ]
  },
  {
   "cell_type": "markdown",
   "id": "7f3ae603-b201-471c-9756-43958ac6e976",
   "metadata": {},
   "source": [
    "Regla de distribución de la conjunción por la disyunción"
   ]
  },
  {
   "cell_type": "code",
   "execution_count": 67,
   "id": "5710b88d-1b30-48b0-8b6e-19cdbafae814",
   "metadata": {},
   "outputs": [
    {
     "data": {
      "text/plain": [
       "defined \u001b[32mfunction\u001b[39m \u001b[36mRDstr_CporD\u001b[39m"
      ]
     },
     "execution_count": 67,
     "metadata": {},
     "output_type": "execute_result"
    }
   ],
   "source": [
    "def RDstr_CporD[P, Q, R](p1: (P,Either[Q,R])): Either[(P,Q),(P,R)]= {\n",
    "    val p = p1._1\n",
    "    val e = p1._2\n",
    "    e match {\n",
    "        case Left(q) => Left((p,q))\n",
    "        case Right(r) => Right((p,r))\n",
    "    }\n",
    "}"
   ]
  },
  {
   "cell_type": "markdown",
   "id": "24bb7a14-6495-462b-9e6c-3a779fda312a",
   "metadata": {},
   "source": [
    "Regla de transitividad del condicional "
   ]
  },
  {
   "cell_type": "code",
   "execution_count": 60,
   "id": "bdb2b182-fa66-4b40-b293-163510fe5aee",
   "metadata": {},
   "outputs": [
    {
     "data": {
      "text/plain": [
       "defined \u001b[32mfunction\u001b[39m \u001b[36mrtr\u001b[39m"
      ]
     },
     "execution_count": 60,
     "metadata": {},
     "output_type": "execute_result"
    }
   ],
   "source": [
    "def rtr[P,Q,R] (p1: P=>Q, p2: Q=>R): P=>R =\n",
    "    p=> p2(p1(p))"
   ]
  },
  {
   "cell_type": "markdown",
   "id": "0da09567-ea44-4ced-aa9f-362723110752",
   "metadata": {},
   "source": [
    "Regla del modus tollens"
   ]
  },
  {
   "cell_type": "code",
   "execution_count": 23,
   "id": "6c480bb0-bd78-4fed-b187-9c0abf39509e",
   "metadata": {},
   "outputs": [
    {
     "data": {
      "text/plain": [
       "defined \u001b[32mfunction\u001b[39m \u001b[36mmodusTollens\u001b[39m"
      ]
     },
     "execution_count": 23,
     "metadata": {},
     "output_type": "execute_result"
    }
   ],
   "source": [
    "def modusTollens[P, Q](pToQ: P => Q)(notQ: Not[Q]): Not[P] =\n",
    "  (p: P) => notQ(pToQ(p))"
   ]
  },
  {
   "cell_type": "markdown",
   "id": "751d28a3-eba7-4d0b-a8b6-2aca0b0ef95d",
   "metadata": {},
   "source": [
    "Regla del modus tollens con negación "
   ]
  },
  {
   "cell_type": "code",
   "execution_count": 24,
   "id": "41749ce1-3f3a-4a64-bc4d-d9a23f99fed7",
   "metadata": {},
   "outputs": [
    {
     "data": {
      "text/plain": [
       "defined \u001b[32mfunction\u001b[39m \u001b[36mmodusTollensNOT\u001b[39m"
      ]
     },
     "execution_count": 24,
     "metadata": {},
     "output_type": "execute_result"
    }
   ],
   "source": [
    "def modusTollensNOT[P, Q](EM: ExcludedMiddle)(p1: Not[P] => Not[Q])(p2:Q):P = {\n",
    "    EM[P] match {\n",
    "        case Left(p) => p\n",
    "        case Right(np) => \n",
    "            val nq = p1(np)\n",
    "            nq(p2)\n",
    "    }\n",
    "}"
   ]
  },
  {
   "cell_type": "markdown",
   "id": "9cca35b6-42b0-440f-b8e0-d001ecee818f",
   "metadata": {},
   "source": [
    "Regla de importación "
   ]
  },
  {
   "cell_type": "code",
   "execution_count": 57,
   "id": "1d1f6815-9a65-4bdb-8ec1-9aef62a1c488",
   "metadata": {},
   "outputs": [
    {
     "data": {
      "text/plain": [
       "defined \u001b[32mfunction\u001b[39m \u001b[36mimportacion\u001b[39m"
      ]
     },
     "execution_count": 57,
     "metadata": {},
     "output_type": "execute_result"
    }
   ],
   "source": [
    "def importacion[P, Q](q: Q): P => Q =\n",
    "  (_: P) => q"
   ]
  },
  {
   "cell_type": "code",
   "execution_count": 25,
   "id": "ee128da8-5f75-4bc4-8556-1c8f2ca7641b",
   "metadata": {},
   "outputs": [
    {
     "data": {
      "text/plain": [
       "defined \u001b[32mfunction\u001b[39m \u001b[36mrImp\u001b[39m"
      ]
     },
     "execution_count": 25,
     "metadata": {},
     "output_type": "execute_result"
    }
   ],
   "source": [
    "def rImp[P,Q,R](p1: P=>(Q=>R)):(P,Q)=>R=\n",
    "    (p,q)=>p1(p)(q)"
   ]
  },
  {
   "cell_type": "markdown",
   "id": "a3e6ab8d-4da0-4807-be76-3d7461e85abb",
   "metadata": {},
   "source": [
    "Regla de exportación"
   ]
  },
  {
   "cell_type": "code",
   "execution_count": 59,
   "id": "82189dd4-e871-4462-96ce-2220b7726e4c",
   "metadata": {},
   "outputs": [
    {
     "data": {
      "text/plain": [
       "defined \u001b[32mfunction\u001b[39m \u001b[36mexportacion\u001b[39m"
      ]
     },
     "execution_count": 59,
     "metadata": {},
     "output_type": "execute_result"
    }
   ],
   "source": [
    "def exportacion[P, Q](sipeq: P => Q): P => Q =\n",
    "  (p: P) => sipeq(p)"
   ]
  },
  {
   "cell_type": "code",
   "execution_count": 26,
   "id": "63f2aaed-6a2c-4cbc-9948-2bd3d6a20934",
   "metadata": {},
   "outputs": [
    {
     "data": {
      "text/plain": [
       "defined \u001b[32mfunction\u001b[39m \u001b[36mrExp\u001b[39m"
      ]
     },
     "execution_count": 26,
     "metadata": {},
     "output_type": "execute_result"
    }
   ],
   "source": [
    "def rExp[P,Q,R](p1: ((P,Q))=>R): P=>(Q=>R)=\n",
    "    p=>(q=> p1((p,q)))"
   ]
  },
  {
   "cell_type": "markdown",
   "id": "5bf5ed66-b14e-4f64-ac69-bfcb698f3848",
   "metadata": {},
   "source": [
    "Reglas de contraposición del condicional "
   ]
  },
  {
   "cell_type": "code",
   "execution_count": 27,
   "id": "75c700f6-f813-4b89-a7f7-335b1799111d",
   "metadata": {},
   "outputs": [
    {
     "data": {
      "text/plain": [
       "defined \u001b[32mfunction\u001b[39m \u001b[36mrcontr1\u001b[39m"
      ]
     },
     "execution_count": 27,
     "metadata": {},
     "output_type": "execute_result"
    }
   ],
   "source": [
    "def rcontr1[P,Q](p1:P=>Q): Not[Q] => Not[P]=\n",
    "    nq=> modusTollens(p1)(nq)"
   ]
  },
  {
   "cell_type": "code",
   "execution_count": 28,
   "id": "c0ac6c78-d85e-4a68-914d-f83597fec9de",
   "metadata": {},
   "outputs": [
    {
     "data": {
      "text/plain": [
       "defined \u001b[32mfunction\u001b[39m \u001b[36mrcontr1_1\u001b[39m"
      ]
     },
     "execution_count": 28,
     "metadata": {},
     "output_type": "execute_result"
    }
   ],
   "source": [
    "def rcontr1_1[P,Q](DN: DoubleNegation)(p1:Not[P]=>Q): Not[Q] => P=\n",
    "    nq=> DN(modusTollens(p1)(nq))"
   ]
  },
  {
   "cell_type": "code",
   "execution_count": 29,
   "id": "ba6ac66b-831c-47de-b08d-d9c63e8587ed",
   "metadata": {},
   "outputs": [
    {
     "data": {
      "text/plain": [
       "defined \u001b[32mfunction\u001b[39m \u001b[36mrcontr1_2\u001b[39m"
      ]
     },
     "execution_count": 29,
     "metadata": {},
     "output_type": "execute_result"
    }
   ],
   "source": [
    "def rcontr1_2[P,Q](p1:P=>Not[Q]): Q => Not[P]=\n",
    "    q=> { val nnq= DN2(q)\n",
    "    modusTollens(p1)(nnq)}"
   ]
  },
  {
   "cell_type": "code",
   "execution_count": 30,
   "id": "b09f61a8-e752-4c98-8a21-e79b6d1d2436",
   "metadata": {},
   "outputs": [
    {
     "data": {
      "text/plain": [
       "defined \u001b[32mfunction\u001b[39m \u001b[36mrcontr2\u001b[39m"
      ]
     },
     "execution_count": 30,
     "metadata": {},
     "output_type": "execute_result"
    }
   ],
   "source": [
    "def rcontr2[P, Q](DN: DoubleNegation)(p1: Not[Q] => Not[P]): P => Q = \n",
    "    p => DN.apply[Q](nq => p1(nq)(p)) "
   ]
  },
  {
   "cell_type": "markdown",
   "id": "75c73e2e-4298-4654-83be-6566696c5bb7",
   "metadata": {},
   "source": [
    "Regla primera de inferencia de la alternativa"
   ]
  },
  {
   "cell_type": "code",
   "execution_count": 31,
   "id": "faa24b24-c315-4106-ab8d-0f74f513369e",
   "metadata": {},
   "outputs": [
    {
     "data": {
      "text/plain": [
       "defined \u001b[32mfunction\u001b[39m \u001b[36mria1\u001b[39m"
      ]
     },
     "execution_count": 31,
     "metadata": {},
     "output_type": "execute_result"
    }
   ],
   "source": [
    "def ria1[P,Q](p1: Either[P,Q], p2:Not[P]):Q=\n",
    "    p1 match{\n",
    "        case Left(p) => p2(p)\n",
    "        case Right(q)=> q\n",
    "\n",
    "    }"
   ]
  },
  {
   "cell_type": "code",
   "execution_count": 32,
   "id": "0ee283f2-a348-4e15-93c5-72b57f103564",
   "metadata": {},
   "outputs": [
    {
     "data": {
      "text/plain": [
       "defined \u001b[32mfunction\u001b[39m \u001b[36mria1_1\u001b[39m"
      ]
     },
     "execution_count": 32,
     "metadata": {},
     "output_type": "execute_result"
    }
   ],
   "source": [
    "def ria1_1[P,Q](p1: Either[Not[P],Q], p2:P):Q=\n",
    "    p1 match{\n",
    "        case Left(np) => np(p2)\n",
    "        case Right(q)=> q\n",
    "\n",
    "    }"
   ]
  },
  {
   "cell_type": "markdown",
   "id": "52b57b0a-6f19-4002-a1e5-260382eb53a7",
   "metadata": {},
   "source": [
    "Regla primera de inferencia de la alternativa\n"
   ]
  },
  {
   "cell_type": "code",
   "execution_count": null,
   "id": "0391b9c0-8099-4ee0-a41c-335f884f0f28",
   "metadata": {},
   "outputs": [
    {
     "data": {
      "text/plain": [
       "defined \u001b[32mfunction\u001b[39m \u001b[36mria2\u001b[39m"
      ]
     },
     "execution_count": 34,
     "metadata": {},
     "output_type": "execute_result"
    }
   ],
   "source": [
    "def ria2[P,Q](p1: Either[P,Q], p2:Not[Q]):P=\n",
    "    p1 match{\n",
    "        case Left(p)=>p\n",
    "        case Right(q) => p2(q)\n",
    "    }"
   ]
  },
  {
   "cell_type": "code",
   "execution_count": 33,
   "id": "4dd4dcea-cf53-452e-a238-5bd0c7e58013",
   "metadata": {},
   "outputs": [
    {
     "data": {
      "text/plain": [
       "defined \u001b[32mfunction\u001b[39m \u001b[36mria2_2\u001b[39m"
      ]
     },
     "execution_count": 33,
     "metadata": {},
     "output_type": "execute_result"
    }
   ],
   "source": [
    "def ria2_2[P,Q](p1: Either[P,Not[Q]], p2:Q):P=\n",
    "    p1 match{\n",
    "        case Left(p)=>p\n",
    "        case Right(nq) => nq(p2)\n",
    "    }\n"
   ]
  },
  {
   "cell_type": "markdown",
   "id": "1d932088-efa1-4d87-8f06-1cad0b5d35a9",
   "metadata": {},
   "source": [
    "Reglas de interdefinicion de las conectivas "
   ]
  },
  {
   "cell_type": "code",
   "execution_count": 35,
   "id": "b5ebe38a-0af6-4a07-9523-30c0800b23a3",
   "metadata": {},
   "outputs": [
    {
     "data": {
      "text/plain": [
       "defined \u001b[32mfunction\u001b[39m \u001b[36mrDf1\u001b[39m"
      ]
     },
     "execution_count": 35,
     "metadata": {},
     "output_type": "execute_result"
    }
   ],
   "source": [
    "def rDf1[P,Q](p1: Not[Either[P,Q]]):(Not[P], Not[Q])={\n",
    "    val np: Not[P] = p=> p1(Left(p))\n",
    "    val nq: Not[Q] = q=> p1(Right(q))\n",
    "    (np,nq)\n",
    "}"
   ]
  },
  {
   "cell_type": "code",
   "execution_count": 36,
   "id": "c20e0709-0f0f-4f47-b336-b7359b4b7027",
   "metadata": {},
   "outputs": [
    {
     "data": {
      "text/plain": [
       "defined \u001b[32mfunction\u001b[39m \u001b[36mrDf1_1\u001b[39m"
      ]
     },
     "execution_count": 36,
     "metadata": {},
     "output_type": "execute_result"
    }
   ],
   "source": [
    "def rDf1_1[P,Q](EM: ExcludedMiddle)(p1: Not[Either[Not[P],Not[Q]]]):(P, Q)={\n",
    "    val p = EM[P] match {\n",
    "                case Left(p) => p\n",
    "                case Right(np) => \n",
    "                val enp: Either[Not[P], Not[Q]] = Left(np)\n",
    "                p1(enp)\n",
    "              }\n",
    "    val q = EM[Q] match {\n",
    "                case Left(q) => q\n",
    "                case Right(nq) => \n",
    "                val enq: Either[Not[P], Not[Q]] = Right(nq)\n",
    "                p1(enq)\n",
    "              }\n",
    "  (p, q)\n",
    "}"
   ]
  },
  {
   "cell_type": "code",
   "execution_count": 37,
   "id": "835fe282-9afd-4773-97bb-a00388b42a13",
   "metadata": {},
   "outputs": [
    {
     "data": {
      "text/plain": [
       "defined \u001b[32mfunction\u001b[39m \u001b[36mrDf1_2\u001b[39m"
      ]
     },
     "execution_count": 37,
     "metadata": {},
     "output_type": "execute_result"
    }
   ],
   "source": [
    "def rDf1_2[P,Q](EM: ExcludedMiddle)(p1: Not[Either[Not[P],Q]]):(P, Not[Q])={\n",
    "    val p: P = EM[P] match {\n",
    "    case Left(p) => p\n",
    "    case Right(np) => \n",
    "      val either = Left(np)\n",
    "      p1(either)\n",
    "    }\n",
    "\n",
    "    val nq: Not[Q] = q => {\n",
    "    val either = Right(q)\n",
    "        p1(either)\n",
    "    }\n",
    "  (p, nq)\n",
    "}"
   ]
  },
  {
   "cell_type": "code",
   "execution_count": 38,
   "id": "247a3c66-e33d-423b-a9f1-97d7f1201165",
   "metadata": {},
   "outputs": [
    {
     "data": {
      "text/plain": [
       "defined \u001b[32mfunction\u001b[39m \u001b[36mrDf1_And\u001b[39m"
      ]
     },
     "execution_count": 38,
     "metadata": {},
     "output_type": "execute_result"
    }
   ],
   "source": [
    "def rDf1_And[P, Q](EM: ExcludedMiddle)(p1:Not[(P, Q)]) : Either[Not[P], Not[Q]] = { \n",
    "    EM[P] match {\n",
    "        case Left(p) => Right((q) => p1((p, q)))\n",
    "        case Right(np) => Left((p => np(p)))\n",
    "    }\n",
    "}"
   ]
  },
  {
   "cell_type": "code",
   "execution_count": 39,
   "id": "28aad728-4b94-42e7-a553-8faa592feb71",
   "metadata": {},
   "outputs": [
    {
     "data": {
      "text/plain": [
       "defined \u001b[32mfunction\u001b[39m \u001b[36mrDf2\u001b[39m"
      ]
     },
     "execution_count": 39,
     "metadata": {},
     "output_type": "execute_result"
    }
   ],
   "source": [
    "def rDf2[P,Q](p1:(Not[P], Not[Q])): Not[Either[P,Q]]=\n",
    " e=> e match{\n",
    "     case Left(p)=> p1._1(p)\n",
    "     case Right(q)=> p1._2(q)\n",
    " }"
   ]
  },
  {
   "cell_type": "code",
   "execution_count": 40,
   "id": "f868fa11-53bf-494a-bb90-ac471b39b587",
   "metadata": {},
   "outputs": [
    {
     "data": {
      "text/plain": [
       "defined \u001b[32mfunction\u001b[39m \u001b[36mrDf3_v1\u001b[39m"
      ]
     },
     "execution_count": 40,
     "metadata": {},
     "output_type": "execute_result"
    }
   ],
   "source": [
    "def rDf3_v1[P,Q](EM: ExcludedMiddle)(p1:Not[P]=>Q ): Either[P,Q]={\n",
    "    EM[P] match {\n",
    "    case Left(p) => Left(p)\n",
    "    case Right(np) => Right(p1(np))\n",
    "  }   \n",
    "}\n"
   ]
  },
  {
   "cell_type": "code",
   "execution_count": 41,
   "id": "2aba101b-f1d5-4771-9c3c-7b5c50e1c388",
   "metadata": {},
   "outputs": [
    {
     "data": {
      "text/plain": [
       "defined \u001b[32mfunction\u001b[39m \u001b[36mrDf3_v2\u001b[39m"
      ]
     },
     "execution_count": 41,
     "metadata": {},
     "output_type": "execute_result"
    }
   ],
   "source": [
    "def rDf3_v2[P,Q] (p1:Either[P,Q]): Not[P]=>Q=\n",
    "    np=> p1 match{\n",
    "        case Left(p)=>np(p)\n",
    "        case Right(q)=>q\n",
    "    }"
   ]
  },
  {
   "cell_type": "code",
   "execution_count": 42,
   "id": "53f45b5e-8939-460c-ab6b-9e244601ecf5",
   "metadata": {},
   "outputs": [
    {
     "data": {
      "text/plain": [
       "defined \u001b[32mfunction\u001b[39m \u001b[36mrDfAnd\u001b[39m"
      ]
     },
     "execution_count": 42,
     "metadata": {},
     "output_type": "execute_result"
    }
   ],
   "source": [
    "def rDfAnd[P,Q] (p1:(P,Q)): Not[P=>Not[Q]]=\n",
    "    aux=> aux(p1._1)(p1._2)"
   ]
  },
  {
   "cell_type": "code",
   "execution_count": 43,
   "id": "a6b0d707-6ddf-486d-9091-11d07e297117",
   "metadata": {},
   "outputs": [
    {
     "data": {
      "text/plain": [
       "defined \u001b[32mfunction\u001b[39m \u001b[36mrDfAnd2\u001b[39m"
      ]
     },
     "execution_count": 43,
     "metadata": {},
     "output_type": "execute_result"
    }
   ],
   "source": [
    "def rDfAnd2[P,Q] (p1:(P,Q)): Not[Either[Not[P],Not[Q]]]=\n",
    "    e => e match{\n",
    "        case Left(np) => np(p1._1)\n",
    "        case Right(nq) => nq(p1._2)\n",
    "    }"
   ]
  },
  {
   "cell_type": "code",
   "execution_count": 44,
   "id": "ea80bfb6-aec5-459a-b235-e33482c3709d",
   "metadata": {},
   "outputs": [
    {
     "data": {
      "text/plain": [
       "defined \u001b[32mfunction\u001b[39m \u001b[36mrDfEither\u001b[39m"
      ]
     },
     "execution_count": 44,
     "metadata": {},
     "output_type": "execute_result"
    }
   ],
   "source": [
    "def rDfEither[P,Q](p1: Either[P,Q]): Not[(Not[P],Not[Q])]=\n",
    "    t => p1 match{\n",
    "        case Left(p) => t._1(p)\n",
    "        case Right(q) => t._2(q)\n",
    "    }"
   ]
  },
  {
   "cell_type": "code",
   "execution_count": 45,
   "id": "a31dc3c4-c541-4303-9cb1-f503f7e99402",
   "metadata": {},
   "outputs": [
    {
     "data": {
      "text/plain": [
       "defined \u001b[32mfunction\u001b[39m \u001b[36mrdfNotAnd\u001b[39m"
      ]
     },
     "execution_count": 45,
     "metadata": {},
     "output_type": "execute_result"
    }
   ],
   "source": [
    "def rdfNotAnd [P,Q](EM: ExcludedMiddle)(p1:Not[(P,Q)]): Either[Not[P],Not[Q]]={\n",
    "   EM[P] match {\n",
    "    case Left(p) =>\n",
    "      Right((q: Q) => p1((p, q)))\n",
    "    case Right(np) =>\n",
    "      Left(np)\n",
    "  }\n",
    "}"
   ]
  },
  {
   "cell_type": "code",
   "execution_count": 47,
   "id": "91431c85-99c5-478e-ada2-bf0c06a99b72",
   "metadata": {},
   "outputs": [
    {
     "data": {
      "text/plain": [
       "defined \u001b[32mfunction\u001b[39m \u001b[36mrdfNotAndImp\u001b[39m"
      ]
     },
     "execution_count": 47,
     "metadata": {},
     "output_type": "execute_result"
    }
   ],
   "source": [
    "def rdfNotAndImp[P,Q] (EM: ExcludedMiddle)(p1:Not[(P,Not[Q])]): P=>Q = {\n",
    "  (p: P) => EM[Q] match {\n",
    "    case Left(q) => q\n",
    "    case Right(nq) =>\n",
    "      val np: Not[P] = (p: P) => p1((p, nq))\n",
    "      np(p)\n",
    "  }\n",
    "}"
   ]
  },
  {
   "cell_type": "code",
   "execution_count": 48,
   "id": "91074b75-f3fa-479a-a70a-44cb28207cff",
   "metadata": {},
   "outputs": [
    {
     "data": {
      "text/plain": [
       "defined \u001b[32mfunction\u001b[39m \u001b[36mrdfNotAndImp2\u001b[39m"
      ]
     },
     "execution_count": 48,
     "metadata": {},
     "output_type": "execute_result"
    }
   ],
   "source": [
    "def rdfNotAndImp2 [P,Q](EM: ExcludedMiddle)(p1:Not[Not[P]=>Q]):(Not[P],Not[Q])={\n",
    "  EM[P] match {\n",
    "    case Left(p) =>\n",
    "      val nq: Not[Q] = (q:Q) => p1((np: Not[P]) => np(p))\n",
    "      val np: Not[P] = (p:P) => p1((np: Not[P]) => np(p))\n",
    "      (np, nq)\n",
    "    case Right(np) =>\n",
    "      val nq: Not[Q] = (q: Q) => p1((np: Not[P]) => q)\n",
    "      (np, nq)\n",
    "  }\n",
    "}"
   ]
  },
  {
   "cell_type": "code",
   "execution_count": 49,
   "id": "f68c716e-56f0-49b8-87f9-1b812c42cb4d",
   "metadata": {},
   "outputs": [
    {
     "data": {
      "text/plain": [
       "defined \u001b[32mfunction\u001b[39m \u001b[36mrDfImp\u001b[39m"
      ]
     },
     "execution_count": 49,
     "metadata": {},
     "output_type": "execute_result"
    }
   ],
   "source": [
    "def rDfImp[P,Q](p1: P=>Q): Not[(P,Not[Q])]=\n",
    "    t=> {val q = p1(t._1)\n",
    "        t._2(q)}"
   ]
  },
  {
   "cell_type": "markdown",
   "id": "338471e1-71ad-4d96-aacd-af2cfa54e30f",
   "metadata": {},
   "source": [
    "Reglas de eliminacion de la coimplicación 1-4"
   ]
  },
  {
   "cell_type": "code",
   "execution_count": 50,
   "id": "a7e116aa-9541-49ec-b315-deb5d8b071d4",
   "metadata": {},
   "outputs": [
    {
     "data": {
      "text/plain": [
       "defined \u001b[32mfunction\u001b[39m \u001b[36mreCoimp1\u001b[39m"
      ]
     },
     "execution_count": 50,
     "metadata": {},
     "output_type": "execute_result"
    }
   ],
   "source": [
    "def reCoimp1[P,Q](p1:P<=>Q, p2:P):Q=\n",
    "    p1._1(p2)"
   ]
  },
  {
   "cell_type": "code",
   "execution_count": 51,
   "id": "7736fb55-e09e-40a2-9bf3-96952aef871d",
   "metadata": {},
   "outputs": [
    {
     "data": {
      "text/plain": [
       "defined \u001b[32mfunction\u001b[39m \u001b[36mreCoimp2\u001b[39m"
      ]
     },
     "execution_count": 51,
     "metadata": {},
     "output_type": "execute_result"
    }
   ],
   "source": [
    "def reCoimp2[P,Q](p1:P<=>Q, p2:Not[Q]):Not[P]=\n",
    "    modusTollens(p1._1)(p2)"
   ]
  },
  {
   "cell_type": "code",
   "execution_count": 52,
   "id": "92f67677-8a3a-42bb-affb-aab7d3a8a8ee",
   "metadata": {},
   "outputs": [
    {
     "data": {
      "text/plain": [
       "defined \u001b[32mfunction\u001b[39m \u001b[36mreCoimp3\u001b[39m"
      ]
     },
     "execution_count": 52,
     "metadata": {},
     "output_type": "execute_result"
    }
   ],
   "source": [
    "def reCoimp3[P,Q](p1:P<=>Q, p2:Q):P=\n",
    "    p1._2(p2)"
   ]
  },
  {
   "cell_type": "code",
   "execution_count": 53,
   "id": "0ec4f24e-a3b8-44ae-8c30-a2067aef0f01",
   "metadata": {},
   "outputs": [
    {
     "data": {
      "text/plain": [
       "defined \u001b[32mfunction\u001b[39m \u001b[36mreCoimp4\u001b[39m"
      ]
     },
     "execution_count": 53,
     "metadata": {},
     "output_type": "execute_result"
    }
   ],
   "source": [
    "def reCoimp4[P,Q](p1:P<=>Q, p2:Not[P]):Not[Q]=\n",
    "    modusTollens(p1._2)(p2)"
   ]
  },
  {
   "cell_type": "markdown",
   "id": "bd1beccf-a80b-4359-87db-6e8c008b51b9",
   "metadata": {},
   "source": [
    "Regla de introduccion de la doble negacion "
   ]
  },
  {
   "cell_type": "code",
   "execution_count": null,
   "id": "e976e362-39d6-4a10-9c3a-ee7ad1db343c",
   "metadata": {},
   "outputs": [
    {
     "data": {
      "text/plain": [
       "defined \u001b[32mfunction\u001b[39m \u001b[36mDN2\u001b[39m"
      ]
     },
     "execution_count": 54,
     "metadata": {},
     "output_type": "execute_result"
    }
   ],
   "source": [
    "def DN2[P](p: P): Not[Not[P]] = // P=>Nothing=>Nothing\n",
    "     np=> np(p)"
   ]
  },
  {
   "cell_type": "code",
   "execution_count": 14,
   "id": "8ca0d5ac-1228-415d-b85c-b08e30e59ec2",
   "metadata": {},
   "outputs": [
    {
     "data": {
      "text/plain": [
       "defined \u001b[32mfunction\u001b[39m \u001b[36mimportacion\u001b[39m\r\n",
       "defined \u001b[32mfunction\u001b[39m \u001b[36mexportacion\u001b[39m\r\n",
       "defined \u001b[32mfunction\u001b[39m \u001b[36mconmutatividad_conjuncion\u001b[39m\r\n",
       "defined \u001b[32mfunction\u001b[39m \u001b[36mconmutatividad_disyuncion\u001b[39m\r\n",
       "defined \u001b[32mfunction\u001b[39m \u001b[36mdistribucion\u001b[39m\r\n",
       "defined \u001b[32mfunction\u001b[39m \u001b[36malternativa\u001b[39m\r\n",
       "defined \u001b[32mfunction\u001b[39m \u001b[36mrtr\u001b[39m\r\n",
       "defined \u001b[32mfunction\u001b[39m \u001b[36mmodusTollens\u001b[39m\r\n",
       "defined \u001b[32mfunction\u001b[39m \u001b[36mmodusTollensNOT\u001b[39m\r\n",
       "defined \u001b[32mfunction\u001b[39m \u001b[36mrImp\u001b[39m\r\n",
       "defined \u001b[32mfunction\u001b[39m \u001b[36mrExp\u001b[39m\r\n",
       "defined \u001b[32mfunction\u001b[39m \u001b[36mrcontr1\u001b[39m\r\n",
       "defined \u001b[32mfunction\u001b[39m \u001b[36mrcontr1_1\u001b[39m\r\n",
       "defined \u001b[32mfunction\u001b[39m \u001b[36mrcontr1_2\u001b[39m\r\n",
       "defined \u001b[32mfunction\u001b[39m \u001b[36mrcontr2\u001b[39m\r\n",
       "defined \u001b[32mfunction\u001b[39m \u001b[36mria1\u001b[39m\r\n",
       "defined \u001b[32mfunction\u001b[39m \u001b[36mria1_1\u001b[39m\r\n",
       "defined \u001b[32mfunction\u001b[39m \u001b[36mria2\u001b[39m\r\n",
       "defined \u001b[32mfunction\u001b[39m \u001b[36mria2_2\u001b[39m\r\n",
       "defined \u001b[32mfunction\u001b[39m \u001b[36mrDf1\u001b[39m\r\n",
       "defined \u001b[32mfunction\u001b[39m \u001b[36mrDf1_1\u001b[39m\r\n",
       "defined \u001b[32mfunction\u001b[39m \u001b[36mrDf1_2\u001b[39m\r\n",
       "defined \u001b[32mfunction\u001b[39m \u001b[36mrDf1_And\u001b[39m\r\n",
       "defined \u001b[32mfunction\u001b[39m \u001b[36mrDf2\u001b[39m\r\n",
       "defined \u001b[32mfunction\u001b[39m \u001b[36mrDf3_v1\u001b[39m\r\n",
       "defined \u001b[32mfunction\u001b[39m \u001b[36mrDf3_v2\u001b[39m\r\n",
       "defined \u001b[32mfunction\u001b[39m \u001b[36mrDfAnd\u001b[39m\r\n",
       "defined \u001b[32mfunction\u001b[39m \u001b[36mrDfAnd2\u001b[39m\r\n",
       "defined \u001b[32mfunction\u001b[39m \u001b[36mrDfEither\u001b[39m\r\n",
       "defined \u001b[32mfunction\u001b[39m \u001b[36mrdfNotAnd\u001b[39m\r\n",
       "defined \u001b[32mfunction\u001b[39m \u001b[36mrdfNotAndImp\u001b[39m\r\n",
       "defined \u001b[32mfunction\u001b[39m \u001b[36mrdfNotAndImp2\u001b[39m\r\n",
       "defined \u001b[32mfunction\u001b[39m \u001b[36mrDfImp\u001b[39m\r\n",
       "defined \u001b[32mfunction\u001b[39m \u001b[36mreCoimp1\u001b[39m\r\n",
       "defined \u001b[32mfunction\u001b[39m \u001b[36mreCoimp2\u001b[39m\r\n",
       "defined \u001b[32mfunction\u001b[39m \u001b[36mreCoimp3\u001b[39m\r\n",
       "defined \u001b[32mfunction\u001b[39m \u001b[36mreCoimp4\u001b[39m\r\n",
       "defined \u001b[32mtrait\u001b[39m \u001b[36mDoubleNegation\u001b[39m\r\n",
       "defined \u001b[32mtrait\u001b[39m \u001b[36mExcludedMiddle\u001b[39m\r\n",
       "defined \u001b[32mfunction\u001b[39m \u001b[36mDN2\u001b[39m\r\n",
       "defined \u001b[32mtype\u001b[39m \u001b[36mNot\u001b[39m\r\n",
       "defined \u001b[32mtype\u001b[39m \u001b[36m<=>\u001b[39m"
      ]
     },
     "execution_count": 14,
     "metadata": {},
     "output_type": "execute_result"
    }
   ],
   "source": [
    "def importacion[P, Q](q: Q): P => Q =\n",
    "  (_: P) => q\n",
    "\n",
    "def exportacion[P, Q](sipeq: P => Q): P => Q =\n",
    "  (p: P) => sipeq(p)\n",
    "\n",
    "def conmutatividad_conjuncion [P, Q](p: P, q: Q): (Q, P) =\n",
    "  (q, p)\n",
    "\n",
    "def conmutatividad_disyuncion[P, Q](e: Either[P, Q]): Either[Q, P] =\n",
    "  e match {\n",
    "    case Left(p) => Right(p)\n",
    "    case Right(q) => Left(q)\n",
    "  }\n",
    "\n",
    "def distribucion[P, Q, R](e: Either[P, (Q, R)]): (Either[P, Q], Either[P, R]) =\n",
    "  e match {\n",
    "    case Left(p) => (Left(p), Left(p))\n",
    "    case Right((q, r)) => (Right(q), Right(r))\n",
    "  }\n",
    "\n",
    "\n",
    "def alternativa[P, Q](p1: Either[P, Q], p2: Not[P]): Q = {\n",
    "  p1 match {\n",
    "    case Left(p) => p2(p)\n",
    "    case Right(q) => q \n",
    "  }\n",
    "}\n",
    "\n",
    "def rtr[P,Q,R] (p1: P=>Q, p2: Q=>R): P=>R =\n",
    "    p=> p2(p1(p))\n",
    "\n",
    "def modusTollens[P, Q](pToQ: P => Q)(notQ: Not[Q]): Not[P] =\n",
    "  (p: P) => notQ(pToQ(p))\n",
    "\n",
    "def modusTollensNOT[P, Q](EM: ExcludedMiddle)(p1: Not[P] => Not[Q])(p2:Q):P = {\n",
    "    EM[P] match {\n",
    "        case Left(p) => p\n",
    "        case Right(np) => \n",
    "            val nq = p1(np)\n",
    "            nq(p2)\n",
    "    }\n",
    "}\n",
    "\n",
    "def rImp[P,Q,R](p1: P=>(Q=>R)):(P,Q)=>R=\n",
    "    (p,q)=>p1(p)(q)\n",
    "\n",
    "def rExp[P,Q,R](p1: ((P,Q))=>R): P=>(Q=>R)=\n",
    "    p=>(q=> p1((p,q)))\n",
    "\n",
    "def rcontr1[P,Q](p1:P=>Q): Not[Q] => Not[P]=\n",
    "    nq=> modusTollens(p1)(nq)\n",
    "\n",
    "def rcontr1_1[P,Q](DN: DoubleNegation)(p1:Not[P]=>Q): Not[Q] => P=\n",
    "    nq=> DN(modusTollens(p1)(nq))\n",
    "\n",
    "def rcontr1_2[P,Q](p1:P=>Not[Q]): Q => Not[P]=\n",
    "    q=> { val nnq= DN2(q)\n",
    "    modusTollens(p1)(nnq)}\n",
    "\n",
    "def rcontr2[P, Q](DN: DoubleNegation)(p1: Not[Q] => Not[P]): P => Q = \n",
    "    p => DN.apply[Q](nq => p1(nq)(p)) \n",
    "\n",
    "def ria1[P,Q](p1: Either[P,Q], p2:Not[P]):Q=\n",
    "    p1 match{\n",
    "        case Left(p) => p2(p)\n",
    "        case Right(q)=> q\n",
    "\n",
    "    }\n",
    "def ria1_1[P,Q](p1: Either[Not[P],Q], p2:P):Q=\n",
    "    p1 match{\n",
    "        case Left(np) => np(p2)\n",
    "        case Right(q)=> q\n",
    "\n",
    "    }\n",
    "\n",
    "def ria2[P,Q](p1: Either[P,Q], p2:Not[Q]):P=\n",
    "    p1 match{\n",
    "        case Left(p)=>p\n",
    "        case Right(q) => p2(q)\n",
    "    }\n",
    "def ria2_2[P,Q](p1: Either[P,Not[Q]], p2:Q):P=\n",
    "    p1 match{\n",
    "        case Left(p)=>p\n",
    "        case Right(nq) => nq(p2)\n",
    "    }\n",
    "\n",
    "\n",
    "def rDf1[P,Q](p1: Not[Either[P,Q]]):(Not[P], Not[Q])={\n",
    "    val np: Not[P] = p=> p1(Left(p))\n",
    "    val nq: Not[Q] = q=> p1(Right(q))\n",
    "    (np,nq)\n",
    "}\n",
    "\n",
    "def rDf1_1[P,Q](EM: ExcludedMiddle)(p1: Not[Either[Not[P],Not[Q]]]):(P, Q)={\n",
    "    val p = EM[P] match {\n",
    "                case Left(p) => p\n",
    "                case Right(np) => \n",
    "                val enp: Either[Not[P], Not[Q]] = Left(np)\n",
    "                p1(enp)\n",
    "              }\n",
    "    val q = EM[Q] match {\n",
    "                case Left(q) => q\n",
    "                case Right(nq) => \n",
    "                val enq: Either[Not[P], Not[Q]] = Right(nq)\n",
    "                p1(enq)\n",
    "              }\n",
    "  (p, q)\n",
    "}\n",
    "\n",
    "def rDf1_2[P,Q](EM: ExcludedMiddle)(p1: Not[Either[Not[P],Q]]):(P, Not[Q])={\n",
    "    val p: P = EM[P] match {\n",
    "    case Left(p) => p\n",
    "    case Right(np) => \n",
    "      val either = Left(np)\n",
    "      p1(either)\n",
    "    }\n",
    "\n",
    "    val nq: Not[Q] = q => {\n",
    "    val either = Right(q)\n",
    "        p1(either)\n",
    "    }\n",
    "  (p, nq)\n",
    "}\n",
    "\n",
    "def rDf1_And[P, Q](EM: ExcludedMiddle)(p1:Not[(P, Q)]) : Either[Not[P], Not[Q]] = { \n",
    "    EM[P] match {\n",
    "        case Left(p) => Right((q) => p1((p, q)))\n",
    "        case Right(np) => Left((p => np(p)))\n",
    "    }\n",
    "}\n",
    "\n",
    "def rDf2[P,Q](p1:(Not[P], Not[Q])): Not[Either[P,Q]]=\n",
    " e=> e match{\n",
    "     case Left(p)=> p1._1(p)\n",
    "     case Right(q)=> p1._2(q)\n",
    " }\n",
    "\n",
    "def rDf3_v1[P,Q](EM: ExcludedMiddle)(p1:Not[P]=>Q ): Either[P,Q]={\n",
    "    EM[P] match {\n",
    "    case Left(p) => Left(p)\n",
    "    case Right(np) => Right(p1(np))\n",
    "  }   \n",
    "}\n",
    "\n",
    "def rDf3_v2[P,Q] (p1:Either[P,Q]): Not[P]=>Q=\n",
    "    np=> p1 match{\n",
    "        case Left(p)=>np(p)\n",
    "        case Right(q)=>q\n",
    "    }\n",
    "\n",
    "def rDfAnd[P,Q] (p1:(P,Q)): Not[P=>Not[Q]]=\n",
    "    aux=> aux(p1._1)(p1._2)\n",
    "\n",
    "def rDfAnd2[P,Q] (p1:(P,Q)): Not[Either[Not[P],Not[Q]]]=\n",
    "    e => e match{\n",
    "        case Left(np) => np(p1._1)\n",
    "        case Right(nq) => nq(p1._2)\n",
    "    }\n",
    "\n",
    "def rDfEither[P,Q](p1: Either[P,Q]): Not[(Not[P],Not[Q])]=\n",
    "    t => p1 match{\n",
    "        case Left(p) => t._1(p)\n",
    "        case Right(q) => t._2(q)\n",
    "    }\n",
    "\n",
    "def rdfNotAnd [P,Q](EM: ExcludedMiddle)(p1:Not[(P,Q)]): Either[Not[P],Not[Q]]={\n",
    "   EM[P] match {\n",
    "    case Left(p) =>\n",
    "      Right((q: Q) => p1((p, q)))\n",
    "    case Right(np) =>\n",
    "      Left(np)\n",
    "  }\n",
    "}\n",
    "\n",
    "def rdfNotAndImp[P,Q] (EM: ExcludedMiddle)(p1:Not[(P,Not[Q])]): P=>Q = {\n",
    "  (p: P) => EM[Q] match {\n",
    "    case Left(q) => q\n",
    "    case Right(nq) =>\n",
    "      val np: Not[P] = (p: P) => p1((p, nq))\n",
    "      np(p)\n",
    "  }\n",
    "}\n",
    "\n",
    "def rdfNotAndImp2 [P,Q](EM: ExcludedMiddle)(p1:Not[Not[P]=>Q]):(Not[P],Not[Q])={\n",
    "  EM[P] match {\n",
    "    case Left(p) =>\n",
    "      val nq: Not[Q] = (q:Q) => p1((np: Not[P]) => np(p))\n",
    "      val np: Not[P] = (p:P) => p1((np: Not[P]) => np(p))\n",
    "      (np, nq)\n",
    "    case Right(np) =>\n",
    "      val nq: Not[Q] = (q: Q) => p1((np: Not[P]) => q)\n",
    "      (np, nq)\n",
    "  }\n",
    "}\n",
    "\n",
    "def rDfImp[P,Q](p1: P=>Q): Not[(P,Not[Q])]=\n",
    "    t=> {val q = p1(t._1)\n",
    "        t._2(q)}\n",
    "\n",
    "def reCoimp1[P,Q](p1:P<=>Q, p2:P):Q=\n",
    "    p1._1(p2)\n",
    "\n",
    "def reCoimp2[P,Q](p1:P<=>Q, p2:Not[Q]):Not[P]=\n",
    "    modusTollens(p1._1)(p2)\n",
    "\n",
    "def reCoimp3[P,Q](p1:P<=>Q, p2:Q):P=\n",
    "    p1._2(p2)\n",
    "\n",
    "def reCoimp4[P,Q](p1:P<=>Q, p2:Not[P]):Not[Q]=\n",
    "    modusTollens(p1._2)(p2)\n",
    "\n",
    "trait DoubleNegation {\n",
    "  def apply[P](nnp: Not[Not[P]]): P\n",
    "}\n",
    "\n",
    "trait ExcludedMiddle { \n",
    "    def apply[P]: Either[P, Not[P]]\n",
    "}\n",
    "\n",
    "def DN2[P](p: P): Not[Not[P]] = // P=>Nothing=>Nothing\n",
    "     np=> np(p)\n",
    "\n",
    "type Not[P] = P => Nothing\n",
    "type <=>[P, Q] = (P => Q, Q => P)"
   ]
  }
 ],
 "metadata": {
  "kernelspec": {
   "display_name": "Scala",
   "language": "scala",
   "name": "scala"
  },
  "language_info": {
   "codemirror_mode": "text/x-scala",
   "file_extension": ".sc",
   "mimetype": "text/x-scala",
   "name": "scala",
   "nbconvert_exporter": "script",
   "version": "2.13.8"
  }
 },
 "nbformat": 4,
 "nbformat_minor": 5
}
