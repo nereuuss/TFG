{
 "cells": [
  {
   "cell_type": "markdown",
   "id": "61e1a9c3-7244-4360-b0f7-d2487e58c55c",
   "metadata": {},
   "source": [
    "EJERCICIOS YA BIEN "
   ]
  },
  {
   "cell_type": "code",
   "execution_count": 4,
   "id": "c444c93d-c9f4-43d5-ac86-39ba144092a5",
   "metadata": {},
   "outputs": [
    {
     "data": {
      "text/plain": [
       "defined \u001b[32mfunction\u001b[39m \u001b[36mimportacion\u001b[39m\r\n",
       "defined \u001b[32mfunction\u001b[39m \u001b[36mexportacion\u001b[39m\r\n",
       "defined \u001b[32mfunction\u001b[39m \u001b[36mconmutatividad_conjuncion\u001b[39m\r\n",
       "defined \u001b[32mfunction\u001b[39m \u001b[36mconmutatividad_disyuncion\u001b[39m\r\n",
       "defined \u001b[32mfunction\u001b[39m \u001b[36mdistribucion\u001b[39m\r\n",
       "defined \u001b[32mfunction\u001b[39m \u001b[36malternativa\u001b[39m\r\n",
       "defined \u001b[32mfunction\u001b[39m \u001b[36mrtr\u001b[39m\r\n",
       "defined \u001b[32mfunction\u001b[39m \u001b[36mmodusTollens\u001b[39m\r\n",
       "defined \u001b[32mfunction\u001b[39m \u001b[36mrImp\u001b[39m\r\n",
       "defined \u001b[32mfunction\u001b[39m \u001b[36mrExp\u001b[39m\r\n",
       "defined \u001b[32mfunction\u001b[39m \u001b[36mrcontr1\u001b[39m\r\n",
       "defined \u001b[32mfunction\u001b[39m \u001b[36mria1\u001b[39m\r\n",
       "defined \u001b[32mfunction\u001b[39m \u001b[36mria2\u001b[39m\r\n",
       "defined \u001b[32mfunction\u001b[39m \u001b[36mrDf1\u001b[39m\r\n",
       "defined \u001b[32mfunction\u001b[39m \u001b[36mrDf2\u001b[39m\r\n",
       "defined \u001b[32mfunction\u001b[39m \u001b[36mreCoimp1\u001b[39m\r\n",
       "defined \u001b[32mfunction\u001b[39m \u001b[36mreCoimp2\u001b[39m\r\n",
       "defined \u001b[32mfunction\u001b[39m \u001b[36mreCoimp3\u001b[39m\r\n",
       "defined \u001b[32mfunction\u001b[39m \u001b[36mreCoimp4\u001b[39m\r\n",
       "defined \u001b[32mtrait\u001b[39m \u001b[36mDoubleNegation\u001b[39m\r\n",
       "defined \u001b[32mtype\u001b[39m \u001b[36mNot\u001b[39m\r\n",
       "defined \u001b[32mtype\u001b[39m \u001b[36m<=>\u001b[39m"
      ]
     },
     "execution_count": 4,
     "metadata": {},
     "output_type": "execute_result"
    }
   ],
   "source": [
    "def importacion[P, Q](q: Q): P => Q =\n",
    "  (_: P) => q\n",
    "\n",
    "def exportacion[P, Q](sipeq: P => Q): P => Q =\n",
    "  (p: P) => sipeq(p)\n",
    "\n",
    "def conmutatividad_conjuncion [P, Q](p: P, q: Q): (Q, P) =\n",
    "  (q, p)\n",
    "\n",
    "def conmutatividad_disyuncion[P, Q](e: Either[P, Q]): Either[Q, P] =\n",
    "  e match {\n",
    "    case Left(p) => Right(p)\n",
    "    case Right(q) => Left(q)\n",
    "  }\n",
    "\n",
    "def distribucion[P, Q, R](e: Either[P, (Q, R)]): (Either[P, Q], Either[P, R]) =\n",
    "  e match {\n",
    "    case Left(p) => (Left(p), Left(p))\n",
    "    case Right((q, r)) => (Right(q), Right(r))\n",
    "  }\n",
    "\n",
    "\n",
    "def alternativa[P, Q](p1: Either[P, Q], p2: Not[P]): Q = {\n",
    "  p1 match {\n",
    "    case Left(p) => p2(p)\n",
    "    case Right(q) => q \n",
    "  }\n",
    "}\n",
    "\n",
    "def rtr[P,Q,R] (p1: P=>Q, p2: Q=>R): P=>R =\n",
    "p=> p2(p1(p))\n",
    "\n",
    "def modusTollens[P, Q]: (P => Q) => Not[Q] => Not[P] =\n",
    "  (piq: P => Q) => (nq: Not[Q]) => (p: P) => nq(piq(p))\n",
    "\n",
    "def rImp[P,Q,R](p1: P=>(Q=>R)):(P,Q)=>R=\n",
    "(p,q)=>p1(p)(q)\n",
    "\n",
    "def rExp[P,Q,R](p1: ((P,Q))=>R): P=>(Q=>R)=\n",
    "p=>(q=> p1((p,q)))\n",
    "\n",
    "def rcontr1[P,Q](p1:P=>Q): Not[Q] => Not[P]=\n",
    "nq=> modusTollens(p1)(nq)\n",
    "\n",
    "//rContr2\n",
    "\n",
    "def ria1[P,Q](p1: Either[P,Q], p2:Not[P]):Q=\n",
    "p1 match{\n",
    "    case Left(p) => p2(p)\n",
    "    case Right(q)=> q\n",
    "\n",
    "}\n",
    "\n",
    "def ria2[P,Q](p1: Either[P,Q], p2:Not[Q]):P=\n",
    "p1 match{\n",
    "    case Left(p)=>p\n",
    "    case Right(q) => p2(q)\n",
    "}\n",
    "\n",
    "def rDf1[P,Q](p1: Not[Either[P,Q]]):(Not[P], Not[Q])={\n",
    "    val np: Not[P] = p=> p1(Left(p))\n",
    "    val nq: Not[Q] = q=> p1(Right(q))\n",
    "    (np,nq)\n",
    "}\n",
    "\n",
    "def rDf2[P,Q](p1:(Not[P], Not[Q])): Not[Either[P,Q]]=\n",
    " e=>   e match{\n",
    "        case Left(p)=> p1._1(p)\n",
    "        case Right(q)=> p1._2(q)\n",
    "        }\n",
    "\n",
    "def reCoimp1[P,Q](p1:P<=>Q, p2:P):Q=\n",
    "p1._1(p2)\n",
    "\n",
    "def reCoimp2[P,Q](p1:P<=>Q, p2:Not[Q]):Not[P]=\n",
    "modusTollens(p1._1)(p2)\n",
    "\n",
    "def reCoimp3[P,Q](p1:P<=>Q, p2:Q):P=\n",
    "p1._2(p2)\n",
    "\n",
    "def reCoimp4[P,Q](p1:P<=>Q, p2:Not[P]):Not[Q]=\n",
    "modusTollens(p1._2)(p2)\n",
    "\n",
    "trait DoubleNegation {\n",
    "  def apply[P](nnp: Not[Not[P]]): P\n",
    "}\n",
    "type Not[P] = P => Nothing\n",
    "type <=>[P, Q] = (P => Q, Q => P)"
   ]
  },
  {
   "cell_type": "code",
   "execution_count": 1,
   "id": "9c846c96-1828-426a-8b25-e9ab485abd60",
   "metadata": {},
   "outputs": [
    {
     "data": {
      "text/plain": [
       "defined \u001b[32mfunction\u001b[39m \u001b[36mex1\u001b[39m"
      ]
     },
     "execution_count": 1,
     "metadata": {},
     "output_type": "execute_result"
    }
   ],
   "source": [
    "def ex1[P, Q, R](p1: ((P, Q)) => R, p2: P): Q => R = {\n",
    "  q: Q => p1((p2, q))\n",
    "}"
   ]
  },
  {
   "cell_type": "code",
   "execution_count": 4,
   "id": "cbdcba82-c98a-4306-bee5-c17d7af60336",
   "metadata": {},
   "outputs": [
    {
     "data": {
      "text/plain": [
       "defined \u001b[32mfunction\u001b[39m \u001b[36mex2\u001b[39m"
      ]
     },
     "execution_count": 4,
     "metadata": {},
     "output_type": "execute_result"
    }
   ],
   "source": [
    "\n",
    "def ex2[P, Q, R, S](p1: P => Q, p2: Either[R, S], p3: S => Not[Q], p4: Not[R]): Not[P] = { \n",
    "  (p: P) => p2 match {\n",
    "    case Left(r) => p4(r)\n",
    "    case Right(s) => \n",
    "          val np: Not[P] = modusTollens(p1)(p3(s))\n",
    "          np(p)\n",
    "  }\n",
    "}\n",
    "\n"
   ]
  },
  {
   "cell_type": "code",
   "execution_count": 7,
   "id": "c558e766-60f0-411d-ace5-1a5d2304a16c",
   "metadata": {},
   "outputs": [
    {
     "data": {
      "text/plain": [
       "defined \u001b[32mfunction\u001b[39m \u001b[36mex4\u001b[39m"
      ]
     },
     "execution_count": 7,
     "metadata": {},
     "output_type": "execute_result"
    }
   ],
   "source": [
    "def ex4[P,Q,R,S,T](p1:P=>Either[Q,R], p2: Not[R], p3: Q=>Either[S,T], p4:Not[Either[S,T]]): Not[P]={\n",
    "p => \n",
    "    val e = p1(p)\n",
    "    val nq = modusTollens(p3)(p4) //MT=> Not[Q]\n",
    "    e match {\n",
    "    case Left(q) => nq(q) // nq(q): Nothing\n",
    "    \n",
    "    case Right(r) => p2(r) //nr(r): Nothing\n",
    "    }\n",
    "}"
   ]
  },
  {
   "cell_type": "code",
   "execution_count": 5,
   "id": "fc23c243-38f7-49be-93fb-84586881d32f",
   "metadata": {},
   "outputs": [
    {
     "data": {
      "text/plain": [
       "defined \u001b[32mfunction\u001b[39m \u001b[36mex5\u001b[39m"
      ]
     },
     "execution_count": 5,
     "metadata": {},
     "output_type": "execute_result"
    }
   ],
   "source": [
    "def ex5[P, Q, R, S](p1: R => S, p2: Either[P, Q], p3: (Not[P], Not[S])): (Q, Not[R]) = {\n",
    "  val notP = p3._1\n",
    "  val notS = p3._2\n",
    "  val notR = modusTollens(p1)(notS)\n",
    "  \n",
    "  p2 match {\n",
    "    case Left(p) => (alternativa(p2, notP), notR)\n",
    "    case Right(q) => (q, notR)\n",
    "  }\n",
    "}"
   ]
  },
  {
   "cell_type": "code",
   "execution_count": 8,
   "id": "e6da5218-5c33-4c84-973b-23d9b3a8b94c",
   "metadata": {},
   "outputs": [
    {
     "data": {
      "text/plain": [
       "defined \u001b[32mfunction\u001b[39m \u001b[36mex6\u001b[39m"
      ]
     },
     "execution_count": 8,
     "metadata": {},
     "output_type": "execute_result"
    }
   ],
   "source": [
    "def ex6 [P,Q,R,S,T,U](p1: P=>Q, p2: R=>P, p3:Not[R]=>Not[T], p4: Not[(S,Not[R])], p5: Either[T,S]): Either[Q,U]=\n",
    "p5 match{\n",
    "    case Left(t)=> ???\n",
    "    case Right(s)=> ???\n",
    "\n",
    "}\n"
   ]
  },
  {
   "cell_type": "code",
   "execution_count": 6,
   "id": "3f737726-6d8d-40d9-930f-9627785e0ad7",
   "metadata": {},
   "outputs": [
    {
     "data": {
      "text/plain": [
       "defined \u001b[32mfunction\u001b[39m \u001b[36mex7\u001b[39m"
      ]
     },
     "execution_count": 6,
     "metadata": {},
     "output_type": "execute_result"
    }
   ],
   "source": [
    "def ex7 [P,Q,R] (p1: P=>(Q=>R),p2:Q):P=>R =\n",
    "p=> p1(p)(p2)\n"
   ]
  },
  {
   "cell_type": "code",
   "execution_count": 9,
   "id": "9b48644b-729b-4861-8b0e-a34713849b31",
   "metadata": {},
   "outputs": [
    {
     "data": {
      "text/plain": [
       "defined \u001b[32mfunction\u001b[39m \u001b[36mex8\u001b[39m"
      ]
     },
     "execution_count": 9,
     "metadata": {},
     "output_type": "execute_result"
    }
   ],
   "source": [
    "def ex8 [P,Q,R,S] (p1: P=>Either[Q,R], p2: Either[Q,R]=> P, p3: P=>S, p4:Q):S=\n",
    "rtr(p2,p3)(Left(p4))\n"
   ]
  },
  {
   "cell_type": "code",
   "execution_count": null,
   "id": "258a4f4a-9f1f-446f-80ff-7cce2b95c3d1",
   "metadata": {},
   "outputs": [],
   "source": []
  },
  {
   "cell_type": "code",
   "execution_count": 10,
   "id": "d6bac5b4-958f-4b0f-8711-2677deeba28d",
   "metadata": {},
   "outputs": [
    {
     "data": {
      "text/plain": [
       "defined \u001b[32mfunction\u001b[39m \u001b[36mex11\u001b[39m"
      ]
     },
     "execution_count": 10,
     "metadata": {},
     "output_type": "execute_result"
    }
   ],
   "source": [
    "def ex11 [P,Q] (p1: (P,Q)): Not[P] =>Q =\n",
    "np => p1._2\n"
   ]
  },
  {
   "cell_type": "code",
   "execution_count": 11,
   "id": "60b794f3-4016-49bc-9598-723e8b080440",
   "metadata": {},
   "outputs": [
    {
     "data": {
      "text/plain": [
       "defined \u001b[32mfunction\u001b[39m \u001b[36mex14\u001b[39m"
      ]
     },
     "execution_count": 11,
     "metadata": {},
     "output_type": "execute_result"
    }
   ],
   "source": [
    "def ex14 [P,Q,R,S,T] (p1: (P,Q)=>R, p2: (R,S)=>T):((P,Q),S)=>T={\n",
    "case((p,q),s)=> val r = p1(p,q) \n",
    "                p2(r,s)\n",
    "}"
   ]
  },
  {
   "cell_type": "code",
   "execution_count": 12,
   "id": "5725b825-0959-48dd-9ddd-899f76e05fec",
   "metadata": {},
   "outputs": [
    {
     "data": {
      "text/plain": [
       "defined \u001b[32mfunction\u001b[39m \u001b[36mex15\u001b[39m"
      ]
     },
     "execution_count": 12,
     "metadata": {},
     "output_type": "execute_result"
    }
   ],
   "source": [
    "def ex15[P,Q,R](p1: P=>(Q=>R)):Q=>(P=>R)=\n",
    "q=>p=>p1(p)(q)"
   ]
  },
  {
   "cell_type": "code",
   "execution_count": null,
   "id": "042591bf-0545-41c1-b101-70180dffb396",
   "metadata": {},
   "outputs": [],
   "source": [
    "def ex18[P,Q](p1: P=>(P=>Q)):P=>Q=\n",
    "p=> p1(p)(p)"
   ]
  },
  {
   "cell_type": "code",
   "execution_count": 14,
   "id": "717ef907-46dc-457d-9352-a4dfb4aae83d",
   "metadata": {},
   "outputs": [
    {
     "data": {
      "text/plain": [
       "defined \u001b[32mfunction\u001b[39m \u001b[36mex19\u001b[39m"
      ]
     },
     "execution_count": 14,
     "metadata": {},
     "output_type": "execute_result"
    }
   ],
   "source": [
    "def ex19[P] (p1:Not[P]=>P):P=\n",
    "???"
   ]
  },
  {
   "cell_type": "code",
   "execution_count": 15,
   "id": "943094e0-ec1e-443b-b1de-f7478a4e0155",
   "metadata": {},
   "outputs": [
    {
     "data": {
      "text/plain": [
       "defined \u001b[32mfunction\u001b[39m \u001b[36mex22\u001b[39m"
      ]
     },
     "execution_count": 15,
     "metadata": {},
     "output_type": "execute_result"
    }
   ],
   "source": [
    "def ex22[P,Q,R,S,T](p1:Either[Q,Not[S]]=>T, p2: Not[Q]=>R, p3:P=>Not[S], p4: T=>S): P=>R={\n",
    "(p:P)=> \n",
    "    val ns: Not[S] = p3(p)\n",
    "    val nt= modusTollens(p4)(ns)\n",
    "    val ne= modusTollens(p1)(nt)\n",
    "    val aux= rDf1(ne)\n",
    "    p2(aux._1)\n",
    "}\n"
   ]
  },
  {
   "cell_type": "code",
   "execution_count": 3,
   "id": "78fa2f8d-df33-4a93-af9c-f997faad00a0",
   "metadata": {},
   "outputs": [
    {
     "data": {
      "text/plain": [
       "defined \u001b[32mfunction\u001b[39m \u001b[36mex25\u001b[39m"
      ]
     },
     "execution_count": 3,
     "metadata": {},
     "output_type": "execute_result"
    }
   ],
   "source": [
    "def ex25 [P,Q,R,S,T](p1:S=>Q):(P=>(Q=>R))=>(P=>(S=>R))=\n",
    "p2=>(p=>(s=>{\n",
    "                val q = p1(s)\n",
    "                val qir= p2(p)\n",
    "                qir(q)\n",
    "            }))"
   ]
  },
  {
   "cell_type": "code",
   "execution_count": 2,
   "id": "03faf591-a312-4aad-88d3-10e5d1321f63",
   "metadata": {},
   "outputs": [
    {
     "data": {
      "text/plain": [
       "defined \u001b[32mfunction\u001b[39m \u001b[36mex29\u001b[39m"
      ]
     },
     "execution_count": 2,
     "metadata": {},
     "output_type": "execute_result"
    }
   ],
   "source": [
    "def ex29[P,Q,R,S,T](p1:P=>((Q=>R)=>S)): (Q=>R) => P=>S=\n",
    "p2=> p=>{   val aux = p1(p)\n",
    "            val s = aux(p2)\n",
    "            s\n",
    "        }\n"
   ]
  },
  {
   "cell_type": "code",
   "execution_count": 16,
   "id": "ae22a649-dc48-4bb5-9b19-f7d463483e5b",
   "metadata": {},
   "outputs": [
    {
     "data": {
      "text/plain": [
       "defined \u001b[32mfunction\u001b[39m \u001b[36mex33\u001b[39m"
      ]
     },
     "execution_count": 16,
     "metadata": {},
     "output_type": "execute_result"
    }
   ],
   "source": [
    "def ex33[P,Q,R,S,T](p1: P=>Q, p2: Q=>R, p3: S=>T, p4:Either[S,P]): Either[R,T]=\n",
    "p4 match{\n",
    "    case Left(s)=> Right(p3(s))\n",
    "    case Right(p)=> Left(p2(p1(p)))\n",
    "}"
   ]
  },
  {
   "cell_type": "code",
   "execution_count": 17,
   "id": "819accd3-7604-4a8e-ac39-45645e05c40b",
   "metadata": {},
   "outputs": [
    {
     "data": {
      "text/plain": [
       "defined \u001b[32mfunction\u001b[39m \u001b[36mex36_v1\u001b[39m"
      ]
     },
     "execution_count": 17,
     "metadata": {},
     "output_type": "execute_result"
    }
   ],
   "source": [
    "def ex36_v1[P,Q,R](p1: Either[P,Q]=>R): Either[P=>R,Q=>R]={\n",
    "    val aux1 = (p:P)=> p1(Left(p))\n",
    "    Left(aux1)\n",
    "}"
   ]
  },
  {
   "cell_type": "code",
   "execution_count": 18,
   "id": "0184234a-a4c2-4ac3-9f5a-b4310c2d553a",
   "metadata": {},
   "outputs": [
    {
     "data": {
      "text/plain": [
       "defined \u001b[32mfunction\u001b[39m \u001b[36mex36_v2\u001b[39m"
      ]
     },
     "execution_count": 18,
     "metadata": {},
     "output_type": "execute_result"
    }
   ],
   "source": [
    "def ex36_v2[P,Q,R](p1: Either[P,Q]=>R): Either[P=>R,Q=>R]={\n",
    "    val aux2 = (q:Q)=> p1(Right(q))\n",
    "    Right(aux2)\n",
    "}"
   ]
  },
  {
   "cell_type": "code",
   "execution_count": 19,
   "id": "55f6061e-503a-4979-8fbc-e87db5cc8650",
   "metadata": {},
   "outputs": [
    {
     "data": {
      "text/plain": [
       "defined \u001b[32mfunction\u001b[39m \u001b[36mex37\u001b[39m"
      ]
     },
     "execution_count": 19,
     "metadata": {},
     "output_type": "execute_result"
    }
   ],
   "source": [
    "def ex37[P,Q,R,S,T] (p1: R=>S, p2: Either[P,Q], p3:(Not[P],Not[S]), p4: Not[P]=>Q):(Q,Not[R])={\n",
    "                                                //Not[Not[P]=>S] mirar i hacerlo con funcion \n",
    "    val np = p3._1\n",
    "    val ns = p3._2\n",
    "    val q = p4(np)\n",
    "    val nr= modusTollens(p1)(ns)\n",
    "    (q,nr)\n",
    "}"
   ]
  },
  {
   "cell_type": "code",
   "execution_count": 20,
   "id": "919e24d6-8b35-4ca9-bd38-34cd358711d6",
   "metadata": {},
   "outputs": [
    {
     "data": {
      "text/plain": [
       "defined \u001b[32mfunction\u001b[39m \u001b[36mex38\u001b[39m"
      ]
     },
     "execution_count": 20,
     "metadata": {},
     "output_type": "execute_result"
    }
   ],
   "source": [
    "def ex38[P,Q,R,S,T](p1:((P=>Q),R), p2: S=>T, p3:R=>S): Either[Q,T]={\n",
    "    val r= p1._2\n",
    "    val s= p3(r)\n",
    "    val t= p2(s)\n",
    "    Right(t)\n",
    "}"
   ]
  },
  {
   "cell_type": "code",
   "execution_count": 22,
   "id": "b1d9a822-73c5-4e39-8242-3e2e15c85339",
   "metadata": {},
   "outputs": [
    {
     "data": {
      "text/plain": [
       "defined \u001b[32mfunction\u001b[39m \u001b[36mex41\u001b[39m"
      ]
     },
     "execution_count": 22,
     "metadata": {},
     "output_type": "execute_result"
    }
   ],
   "source": [
    "def ex41 [P,Q,R] (p1: P=>Q, p2:Either[R, Not[P]]):P=>(Q,R)={\n",
    "p=> val q = p1(p)\n",
    "    p2 match{\n",
    "    case Left(r) =>(q, r)\n",
    "    case Right(np) => (q, np(p))\n",
    "    }\n",
    "}\n",
    "// volver a hacer cuanod tenga RI¬¬"
   ]
  },
  {
   "cell_type": "code",
   "execution_count": 23,
   "id": "5d989136-07df-4d71-9e05-5253735e45e1",
   "metadata": {},
   "outputs": [
    {
     "data": {
      "text/plain": [
       "defined \u001b[32mfunction\u001b[39m \u001b[36mex42\u001b[39m"
      ]
     },
     "execution_count": 23,
     "metadata": {},
     "output_type": "execute_result"
    }
   ],
   "source": [
    "def ex42[P,Q,R,S](p1:((P,Q))=>R, p2: R=>S, p3: (Q,Not[S]) ): Not[P]={\n",
    "    val q = p3._1\n",
    "    val ns = p3._2\n",
    "    val paqis = rtr(p1,p2)\n",
    "p=> val s = paqis((p,q)) //(P,Q)=>S \n",
    "    /*\n",
    "    val npaq = modusTollens(paqis)(ns)     cuando tenga todas las reglas hechas\n",
    "    val nponq = rDf1_And(npaq)\n",
    "    val nnq =  ri¬(q)\n",
    "    ria2(nponq,nnq)\n",
    "   */\n",
    "    ns(s)\n",
    "    \n",
    "    \n",
    "}\n"
   ]
  },
  {
   "cell_type": "code",
   "execution_count": 26,
   "id": "962b077c-7e16-4184-9f9c-302730c48261",
   "metadata": {},
   "outputs": [
    {
     "data": {
      "text/plain": [
       "defined \u001b[32mfunction\u001b[39m \u001b[36mex44\u001b[39m"
      ]
     },
     "execution_count": 26,
     "metadata": {},
     "output_type": "execute_result"
    }
   ],
   "source": [
    "def ex44 [P,Q,R,S,T](p1: ((P,Q))=>((R,S)), p2: Not[(T,Not[P])], p3:T, p4: T<=>Q):Not[R]=>S ={\n",
    "                                        //Either[Not[T],P] UTILIZANDO RDF DE AND A EITHER\n",
    "    val tip= p4._1\n",
    "    val q = tip(p3)\n",
    "nr=> ???\n",
    "}\n"
   ]
  },
  {
   "cell_type": "code",
   "execution_count": 25,
   "id": "db16da60-8837-4977-96d5-f4c41bbe5993",
   "metadata": {},
   "outputs": [
    {
     "data": {
      "text/plain": [
       "defined \u001b[32mfunction\u001b[39m \u001b[36mex44\u001b[39m"
      ]
     },
     "execution_count": 25,
     "metadata": {},
     "output_type": "execute_result"
    }
   ],
   "source": [
    "def ex44 [P,Q,R,S,T](p1: ((P,Q))=>((R,S)), p2: Either[Not[T],P], p3:T, p4: T<=>Q):Not[R]=>S ={\n",
    "    val tip = p4._1\n",
    "    val q = tip(p3)\n",
    "nr=> p2 match{\n",
    "    case Left(nt)=>nt(p3)\n",
    "    case Right(p)=> val paq = (p,q)\n",
    "                    val ras = p1(paq)\n",
    "                    ras._2 \n",
    "                    \n",
    "}\n",
    "}\n"
   ]
  },
  {
   "cell_type": "code",
   "execution_count": null,
   "id": "e61546c3-ff6a-491a-842e-f218ed4ee1a6",
   "metadata": {},
   "outputs": [],
   "source": [
    "    "
   ]
  },
  {
   "cell_type": "code",
   "execution_count": null,
   "id": "5c64e5e0-d18b-46e0-958a-3734cdb774b3",
   "metadata": {},
   "outputs": [],
   "source": []
  }
 ],
 "metadata": {
  "kernelspec": {
   "display_name": "Scala",
   "language": "scala",
   "name": "scala"
  },
  "language_info": {
   "codemirror_mode": "text/x-scala",
   "file_extension": ".sc",
   "mimetype": "text/x-scala",
   "name": "scala",
   "nbconvert_exporter": "script",
   "version": "2.13.8"
  }
 },
 "nbformat": 4,
 "nbformat_minor": 5
}
