{
 "cells": [
  {
   "cell_type": "code",
   "execution_count": 4,
   "id": "be8fc86c-4e23-4b8e-8587-ac030557b24c",
   "metadata": {},
   "outputs": [
    {
     "data": {
      "text/plain": [
       "defined \u001b[32mfunction\u001b[39m \u001b[36mRIConj\u001b[39m"
      ]
     },
     "execution_count": 4,
     "metadata": {},
     "output_type": "execute_result"
    }
   ],
   "source": [
    "def RIDisy [P,Q] (p:P): Either[P,Q]=\n",
    "    Left(p)"
   ]
  },
  {
   "cell_type": "code",
   "execution_count": 1,
   "id": "25780824-50d6-46db-837d-578951860973",
   "metadata": {},
   "outputs": [
    {
     "data": {
      "text/plain": [
       "defined \u001b[32mfunction\u001b[39m \u001b[36mRIConj\u001b[39m"
      ]
     },
     "execution_count": 1,
     "metadata": {},
     "output_type": "execute_result"
    }
   ],
   "source": [
    "def RIConj [P,Q] (p:P, q:Q): (P,Q)=\n",
    "    (p,q)"
   ]
  },
  {
   "cell_type": "code",
   "execution_count": 2,
   "id": "cdf99729-ab69-4f95-96b4-f5dd38b5b843",
   "metadata": {},
   "outputs": [
    {
     "data": {
      "text/plain": [
       "defined \u001b[32mfunction\u001b[39m \u001b[36mREConj\u001b[39m"
      ]
     },
     "execution_count": 2,
     "metadata": {},
     "output_type": "execute_result"
    }
   ],
   "source": [
    "def REConj [P,Q] (p1:(P,Q)): P=\n",
    "    p1._1"
   ]
  },
  {
   "cell_type": "code",
   "execution_count": 3,
   "id": "4acf6491-8a80-43af-adec-cc9477751a70",
   "metadata": {},
   "outputs": [
    {
     "data": {
      "text/plain": [
       "defined \u001b[32mfunction\u001b[39m \u001b[36mRIImp\u001b[39m"
      ]
     },
     "execution_count": 3,
     "metadata": {},
     "output_type": "execute_result"
    }
   ],
   "source": [
    "def RIImp [P,Q] (p:P, q:Q): P=>Q =\n",
    "    p => q"
   ]
  },
  {
   "cell_type": "code",
   "execution_count": 5,
   "id": "0599b073-c708-4d38-ad23-ae29caf5eff8",
   "metadata": {},
   "outputs": [
    {
     "data": {
      "text/plain": [
       "defined \u001b[32mfunction\u001b[39m \u001b[36mREImp\u001b[39m"
      ]
     },
     "execution_count": 5,
     "metadata": {},
     "output_type": "execute_result"
    }
   ],
   "source": [
    "def REImp [P,Q] (p1:P=>Q): P=>Q =\n",
    "    p => p1(p)"
   ]
  },
  {
   "cell_type": "code",
   "execution_count": null,
   "id": "6811f609-9138-4609-90a0-4fed4ac4369b",
   "metadata": {},
   "outputs": [],
   "source": []
  }
 ],
 "metadata": {
  "kernelspec": {
   "display_name": "Scala",
   "language": "scala",
   "name": "scala"
  },
  "language_info": {
   "codemirror_mode": "text/x-scala",
   "file_extension": ".sc",
   "mimetype": "text/x-scala",
   "name": "scala",
   "nbconvert_exporter": "script",
   "version": "2.13.8"
  }
 },
 "nbformat": 4,
 "nbformat_minor": 5
}
