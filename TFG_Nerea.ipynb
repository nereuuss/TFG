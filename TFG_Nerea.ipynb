{
 "cells": [
  {
   "cell_type": "code",
   "execution_count": 161,
   "id": "278768fa-b33a-4b39-9187-7e93951791c3",
   "metadata": {},
   "outputs": [
    {
     "data": {
      "text/plain": [
       "defined \u001b[32mfunction\u001b[39m \u001b[36mimportacion\u001b[39m\r\n",
       "defined \u001b[32mfunction\u001b[39m \u001b[36mexportacion\u001b[39m\r\n",
       "defined \u001b[32mfunction\u001b[39m \u001b[36mconmutatividad_conjuncion\u001b[39m\r\n",
       "defined \u001b[32mfunction\u001b[39m \u001b[36mconmutatividad_disyuncion\u001b[39m\r\n",
       "defined \u001b[32mfunction\u001b[39m \u001b[36mdistribucion\u001b[39m\r\n",
       "defined \u001b[32mfunction\u001b[39m \u001b[36malternativa\u001b[39m\r\n",
       "defined \u001b[32mfunction\u001b[39m \u001b[36mrtr\u001b[39m\r\n",
       "defined \u001b[32mfunction\u001b[39m \u001b[36mmodusTollens\u001b[39m\r\n",
       "defined \u001b[32mfunction\u001b[39m \u001b[36mrImp\u001b[39m\r\n",
       "defined \u001b[32mfunction\u001b[39m \u001b[36mrExp\u001b[39m\r\n",
       "defined \u001b[32mfunction\u001b[39m \u001b[36mrcontr1\u001b[39m\r\n",
       "defined \u001b[32mfunction\u001b[39m \u001b[36mrcontr1_1\u001b[39m\r\n",
       "defined \u001b[32mfunction\u001b[39m \u001b[36mrcontr1_2\u001b[39m\r\n",
       "defined \u001b[32mfunction\u001b[39m \u001b[36mrcontr2\u001b[39m\r\n",
       "defined \u001b[32mfunction\u001b[39m \u001b[36mria1\u001b[39m\r\n",
       "defined \u001b[32mfunction\u001b[39m \u001b[36mria2\u001b[39m\r\n",
       "defined \u001b[32mfunction\u001b[39m \u001b[36mrDf1\u001b[39m\r\n",
       "defined \u001b[32mfunction\u001b[39m \u001b[36mrDf1_1\u001b[39m\r\n",
       "defined \u001b[32mfunction\u001b[39m \u001b[36mrDf1_2\u001b[39m\r\n",
       "defined \u001b[32mfunction\u001b[39m \u001b[36mrDf1_And\u001b[39m\r\n",
       "defined \u001b[32mfunction\u001b[39m \u001b[36mrDf2\u001b[39m\r\n",
       "defined \u001b[32mfunction\u001b[39m \u001b[36mrDf3_v2\u001b[39m\r\n",
       "defined \u001b[32mfunction\u001b[39m \u001b[36mrDfAnd\u001b[39m\r\n",
       "defined \u001b[32mfunction\u001b[39m \u001b[36mrDfAnd2\u001b[39m\r\n",
       "defined \u001b[32mfunction\u001b[39m \u001b[36mrDfEither\u001b[39m\r\n",
       "defined \u001b[32mfunction\u001b[39m \u001b[36mrdfNotAnd\u001b[39m\r\n",
       "defined \u001b[32mfunction\u001b[39m \u001b[36mrdfNotAndImp\u001b[39m\r\n",
       "defined \u001b[32mfunction\u001b[39m \u001b[36mrdfNotAndImp2\u001b[39m\r\n",
       "defined \u001b[32mfunction\u001b[39m \u001b[36mrDfImp\u001b[39m\r\n",
       "defined \u001b[32mfunction\u001b[39m \u001b[36mreCoimp1\u001b[39m\r\n",
       "defined \u001b[32mfunction\u001b[39m \u001b[36mreCoimp2\u001b[39m\r\n",
       "defined \u001b[32mfunction\u001b[39m \u001b[36mreCoimp3\u001b[39m\r\n",
       "defined \u001b[32mfunction\u001b[39m \u001b[36mreCoimp4\u001b[39m\r\n",
       "defined \u001b[32mtrait\u001b[39m \u001b[36mDoubleNegation\u001b[39m\r\n",
       "defined \u001b[32mtrait\u001b[39m \u001b[36mExcludedMiddle\u001b[39m\r\n",
       "defined \u001b[32mfunction\u001b[39m \u001b[36mDN2\u001b[39m\r\n",
       "defined \u001b[32mtype\u001b[39m \u001b[36mNot\u001b[39m\r\n",
       "defined \u001b[32mtype\u001b[39m \u001b[36m<=>\u001b[39m"
      ]
     },
     "execution_count": 161,
     "metadata": {},
     "output_type": "execute_result"
    }
   ],
   "source": [
    "def importacion[P, Q](q: Q): P => Q =\n",
    "  (_: P) => q\n",
    "\n",
    "def exportacion[P, Q](sipeq: P => Q): P => Q =\n",
    "  (p: P) => sipeq(p)\n",
    "\n",
    "def conmutatividad_conjuncion [P, Q](p: P, q: Q): (Q, P) =\n",
    "  (q, p)\n",
    "\n",
    "def conmutatividad_disyuncion[P, Q](e: Either[P, Q]): Either[Q, P] =\n",
    "  e match {\n",
    "    case Left(p) => Right(p)\n",
    "    case Right(q) => Left(q)\n",
    "  }\n",
    "\n",
    "def distribucion[P, Q, R](e: Either[P, (Q, R)]): (Either[P, Q], Either[P, R]) =\n",
    "  e match {\n",
    "    case Left(p) => (Left(p), Left(p))\n",
    "    case Right((q, r)) => (Right(q), Right(r))\n",
    "  }\n",
    "\n",
    "\n",
    "def alternativa[P, Q](p1: Either[P, Q], p2: Not[P]): Q = {\n",
    "  p1 match {\n",
    "    case Left(p) => p2(p)\n",
    "    case Right(q) => q \n",
    "  }\n",
    "}\n",
    "\n",
    "def rtr[P,Q,R] (p1: P=>Q, p2: Q=>R): P=>R =\n",
    "    p=> p2(p1(p))\n",
    "\n",
    "def modusTollens[P, Q](pToQ: P => Q)(notQ: Not[Q]): Not[P] =\n",
    "    (p: P) => notQ(pToQ(p))\n",
    "\n",
    "def rImp[P,Q,R](p1: P=>(Q=>R)):(P,Q)=>R=\n",
    "    (p,q)=>p1(p)(q)\n",
    "\n",
    "def rExp[P,Q,R](p1: ((P,Q))=>R): P=>(Q=>R)=\n",
    "    p=>(q=> p1((p,q)))\n",
    "\n",
    "def rcontr1[P,Q](p1:P=>Q): Not[Q] => Not[P]=\n",
    "    nq=> modusTollens(p1)(nq)\n",
    "\n",
    "def rcontr1_1[P,Q](DN: DoubleNegation)(p1:Not[P]=>Q): Not[Q] => P=\n",
    "    nq=> DN(modusTollens(p1)(nq))\n",
    "\n",
    "def rcontr1_2[P,Q](p1:P=>Not[Q]): Q => Not[P]=\n",
    "    q=> { val nnq= DN2(q)\n",
    "        modusTollens(p1)(nnq)}\n",
    "\n",
    "def rcontr2[P, Q](DN: DoubleNegation)(p1: Not[Q] => Not[P]): P => Q = \n",
    "    p => DN.apply[Q](nq => p1(nq)(p)) \n",
    "\n",
    "def ria1[P,Q](p1: Either[P,Q], p2:Not[P]):Q=\n",
    "    p1 match{\n",
    "        case Left(p) => p2(p)\n",
    "        case Right(q)=> q\n",
    "\n",
    "    }\n",
    "\n",
    "def ria2[P,Q](p1: Either[P,Q], p2:Not[Q]):P=\n",
    "    p1 match{\n",
    "        case Left(p)=>p\n",
    "        case Right(q) => p2(q)\n",
    "    }\n",
    "\n",
    "def rDf1[P,Q](p1: Not[Either[P,Q]]):(Not[P], Not[Q])={\n",
    "    val np: Not[P] = p=> p1(Left(p))\n",
    "    val nq: Not[Q] = q=> p1(Right(q))\n",
    "    (np,nq)\n",
    "}\n",
    "\n",
    "def rDf1_1[P,Q](EM: ExcludedMiddle)(p1: Not[Either[Not[P],Not[Q]]]):(P, Q)={\n",
    "    val p = EM[P] match {\n",
    "                    case Left(p) => p\n",
    "                    case Right(notP) => \n",
    "                    val enp: Either[Not[P], Not[Q]] = Left(notP)\n",
    "                    p1(enp)\n",
    "              }\n",
    "    val q = EM[Q] match {\n",
    "                    case Left(q) => q\n",
    "                    case Right(notQ) => \n",
    "                    val enq: Either[Not[P], Not[Q]] = Right(notQ)\n",
    "                    p1(enq)\n",
    "              }\n",
    "  (p, q)\n",
    "}\n",
    "\n",
    "\n",
    "def rDf1_2[P,Q](EM: ExcludedMiddle)(p1: Not[Either[Not[P],Q]]):(P, Not[Q])={\n",
    "    val p: P = EM[P] match {\n",
    "    case Left(p) => p\n",
    "    case Right(np) => \n",
    "      val either = Left(np)\n",
    "      p1(either)\n",
    "    }\n",
    "\n",
    "    val nq: Not[Q] = q => {\n",
    "    val either = Right(q)\n",
    "        p1(either)\n",
    "    }\n",
    "  (p, nq)\n",
    "}\n",
    "\n",
    "\n",
    "def rDf1_And[P, Q](EM: ExcludedMiddle)(p1:Not[(P, Q)]) : Either[Not[P], Not[Q]] = { \n",
    "    EM[P] match {\n",
    "        case Left(p) => Right((q) => p1((p, q)))\n",
    "        case Right(np) => Left((p => np(p)))\n",
    "    }\n",
    "}\n",
    "\n",
    "def rDf2[P,Q](p1:(Not[P], Not[Q])): Not[Either[P,Q]]=\n",
    "    e=> e match{\n",
    "        case Left(p)=> p1._1(p)\n",
    "        case Right(q)=> p1._2(q)\n",
    "        }\n",
    "\n",
    "def rDf3_v2[P,Q] (p1:Either[P,Q]): Not[P]=>Q=\n",
    "    np=> p1 match{\n",
    "        case Left(p)=>np(p)\n",
    "        case Right(q)=>q\n",
    "}\n",
    "\n",
    "def rDfAnd[P,Q] (p1:(P,Q)): Not[P=>Not[Q]]=\n",
    "    aux=> aux(p1._1)(p1._2)\n",
    "\n",
    "def rDfAnd2[P,Q] (p1:(P,Q)): Not[Either[Not[P],Not[Q]]]=\n",
    "    e => e match{\n",
    "        case Left(np) => np(p1._1)\n",
    "        case Right(nq) => nq(p1._2)\n",
    "    }\n",
    "\n",
    "def rDfEither[P,Q](p1: Either[P,Q]): Not[(Not[P],Not[Q])]=\n",
    "    t => p1 match{\n",
    "        case Left(p) => t._1(p)\n",
    "        case Right(q) => t._2(q)\n",
    "    }\n",
    "\n",
    "def rdfNotAnd [P,Q](EM: ExcludedMiddle)(p1:Not[(P,Q)]): Either[Not[P],Not[Q]]={\n",
    "   EM[P] match {\n",
    "    case Left(p) =>\n",
    "      Right((q: Q) => p1((p, q)))\n",
    "    case Right(np) =>\n",
    "      Left(np)\n",
    "  }\n",
    "}\n",
    "\n",
    "def rdfNotAndImp[P,Q] (EM: ExcludedMiddle)(p1:Not[(P,Not[Q])]): P=>Q = {\n",
    "  (p: P) => EM[Q] match {\n",
    "      case Left(q) => q\n",
    "      case Right(nq) => val np: Not[P] = (p: P) => p1((p, nq))\n",
    "                        np(p)\n",
    "  }\n",
    "}\n",
    "def rdfNotAndImp2 [P,Q](EM: ExcludedMiddle)(p1:Not[Not[P]=>Q]):(Not[P],Not[Q])={\n",
    "  EM[P] match {\n",
    "    case Left(p) =>\n",
    "      val nq: Not[Q] = (q:Q) => p1((np: Not[P]) => np(p))\n",
    "      val np: Not[P] = (p:P) => p1((np: Not[P]) => np(p))\n",
    "      (np, nq)\n",
    "    case Right(np) =>\n",
    "      val nq: Not[Q] = (q: Q) => p1((np: Not[P]) => q)\n",
    "      (np, nq)\n",
    "  }\n",
    "}\n",
    "\n",
    "def rDfImp[P,Q](p1: P=>Q): Not[(P,Not[Q])]=\n",
    "    t=> {val q = p1(t._1)\n",
    "        t._2(q)}\n",
    "\n",
    "def reCoimp1[P,Q](p1:P<=>Q, p2:P):Q=\n",
    "    p1._1(p2)\n",
    "\n",
    "def reCoimp2[P,Q](p1:P<=>Q, p2:Not[Q]):Not[P]=\n",
    "    modusTollens(p1._1)(p2)\n",
    "    \n",
    "def reCoimp3[P,Q](p1:P<=>Q, p2:Q):P=\n",
    "    p1._2(p2)\n",
    "\n",
    "def reCoimp4[P,Q](p1:P<=>Q, p2:Not[P]):Not[Q]=\n",
    "    modusTollens(p1._2)(p2)\n",
    "\n",
    "trait DoubleNegation {\n",
    "  def apply[P](nnp: Not[Not[P]]): P\n",
    "}\n",
    "\n",
    "trait ExcludedMiddle { \n",
    "    def apply[P]: Either[P, Not[P]]\n",
    "}\n",
    "\n",
    "def DN2[P](p: P): Not[Not[P]] = \n",
    "                //P=>Nothing=>Nothing\n",
    "     np=> np(p)\n",
    "\n",
    "type Not[P] = P => Nothing\n",
    "type <=>[P, Q] = (P => Q, Q => P)"
   ]
  },
  {
   "cell_type": "code",
   "execution_count": 3,
   "id": "e9be2e03-17ee-45ce-b7e3-47f4aa81f0f3",
   "metadata": {},
   "outputs": [
    {
     "data": {
      "text/plain": [
       "defined \u001b[32mfunction\u001b[39m \u001b[36mexample\u001b[39m"
      ]
     },
     "execution_count": 3,
     "metadata": {},
     "output_type": "execute_result"
    }
   ],
   "source": [
    "def example [P,Q,R,S] (p1: Either[Not[P],Not[Q]], p2:R=>P, p3: S=>Q): Either [Not[R],Not[S]]=\n",
    "    p1 match {\n",
    "        case Left (np) => Left((r:R)=> np(p2(r)))\n",
    "        case Right (nq) => Right ((s:S) =>nq (p3(s)))\n",
    "}"
   ]
  },
  {
   "cell_type": "code",
   "execution_count": 4,
   "id": "5540ea2c-5b56-4e19-84a2-75cf2ff1bbcb",
   "metadata": {},
   "outputs": [
    {
     "data": {
      "text/plain": [
       "defined \u001b[32mfunction\u001b[39m \u001b[36mproof\u001b[39m"
      ]
     },
     "execution_count": 4,
     "metadata": {},
     "output_type": "execute_result"
    }
   ],
   "source": [
    "def proof[P, Q, R, S](\n",
    "        p1: Not[P] Either Not[Q], \n",
    "        p2: R => P, \n",
    "        p3: S => Q): Not[R] Either Not[S] = \n",
    "\n",
    "    p1 match{                                // Ev \n",
    "        case Left(np) => \n",
    "            val nr: Not[R] = modusTollens(p2)(np)  // Tollens\n",
    "            Left(nr)                          // Iv\n",
    "        case Right(nq) => \n",
    "            val ns: Not[S] = modusTollens(p3)(nq)  // Tollens\n",
    "            Right(ns)   }                      // Iv"
   ]
  },
  {
   "cell_type": "code",
   "execution_count": 5,
   "id": "67efe7a5-d03c-45e7-8551-a84ef72ba13f",
   "metadata": {},
   "outputs": [
    {
     "data": {
      "text/plain": [
       "defined \u001b[32mfunction\u001b[39m \u001b[36mimportacion\u001b[39m"
      ]
     },
     "execution_count": 5,
     "metadata": {},
     "output_type": "execute_result"
    }
   ],
   "source": [
    "def importacion[P, Q](q: Q): P => Q =\n",
    "  (_: P) => q"
   ]
  },
  {
   "cell_type": "code",
   "execution_count": 6,
   "id": "b667c14e-f366-409f-921a-193ebeb4b157",
   "metadata": {},
   "outputs": [
    {
     "data": {
      "text/plain": [
       "defined \u001b[32mfunction\u001b[39m \u001b[36mexportacion\u001b[39m"
      ]
     },
     "execution_count": 6,
     "metadata": {},
     "output_type": "execute_result"
    }
   ],
   "source": [
    "def exportacion[P, Q](sipeq: P => Q): P => Q =\n",
    "  (p: P) => sipeq(p)\n"
   ]
  },
  {
   "cell_type": "code",
   "execution_count": 7,
   "id": "f219a898-0941-4f78-95c1-dc235663df74",
   "metadata": {
    "tags": []
   },
   "outputs": [
    {
     "data": {
      "text/plain": [
       "defined \u001b[32mfunction\u001b[39m \u001b[36mconmutatividad_conjuncion\u001b[39m"
      ]
     },
     "execution_count": 7,
     "metadata": {},
     "output_type": "execute_result"
    }
   ],
   "source": [
    "def conmutatividad_conjuncion [P, Q](p: P, q: Q): (Q, P) =\n",
    "  (q, p)\n"
   ]
  },
  {
   "cell_type": "code",
   "execution_count": 8,
   "id": "d890682e-4c8d-4a94-8f36-756e775e6f53",
   "metadata": {
    "tags": []
   },
   "outputs": [
    {
     "data": {
      "text/plain": [
       "defined \u001b[32mfunction\u001b[39m \u001b[36mconmutatividad_disyuncion\u001b[39m"
      ]
     },
     "execution_count": 8,
     "metadata": {},
     "output_type": "execute_result"
    }
   ],
   "source": [
    "def conmutatividad_disyuncion[P, Q](e: Either[P, Q]): Either[Q, P] =\n",
    "  e match {\n",
    "    case Left(p) => Right(p)\n",
    "    case Right(q) => Left(q)\n",
    "  }\n"
   ]
  },
  {
   "cell_type": "code",
   "execution_count": 9,
   "id": "2364810d-178e-4e9e-abec-e73f3ac29a42",
   "metadata": {},
   "outputs": [
    {
     "data": {
      "text/plain": [
       "defined \u001b[32mfunction\u001b[39m \u001b[36mdistribucion\u001b[39m"
      ]
     },
     "execution_count": 9,
     "metadata": {},
     "output_type": "execute_result"
    }
   ],
   "source": [
    "def distribucion[P, Q, R](e: Either[P, (Q, R)]): (Either[P, Q], Either[P, R]) =\n",
    "  e match {\n",
    "    case Left(p) => (Left(p), Left(p))\n",
    "    case Right((q, r)) => (Right(q), Right(r))\n",
    "  }\n"
   ]
  },
  {
   "cell_type": "code",
   "execution_count": 10,
   "id": "4989c2a0-cf42-4a48-9371-90c1ae2c8e47",
   "metadata": {},
   "outputs": [
    {
     "data": {
      "text/plain": [
       "defined \u001b[32mfunction\u001b[39m \u001b[36mex1\u001b[39m"
      ]
     },
     "execution_count": 10,
     "metadata": {},
     "output_type": "execute_result"
    }
   ],
   "source": [
    "def ex1[P, Q, R](p1: ((P, Q)) => R, p2: P): Q => R = {\n",
    "  q: Q => p1((p2, q))\n",
    "}\n",
    "\n"
   ]
  },
  {
   "cell_type": "code",
   "execution_count": 183,
   "id": "b3901e84-87ba-4a85-9c46-562d90f39289",
   "metadata": {},
   "outputs": [
    {
     "data": {
      "text/plain": [
       "defined \u001b[32mfunction\u001b[39m \u001b[36mex2\u001b[39m"
      ]
     },
     "execution_count": 183,
     "metadata": {},
     "output_type": "execute_result"
    }
   ],
   "source": [
    "//sin reglas \n",
    "def ex2[P, Q, R, S](p1: P => Q, p2: Either[R, S], p3: S => Not[Q], p4: Not[R]): Not[P] = {\n",
    "  p: P => {\n",
    "    p2 match {\n",
    "      case Left(r) => p4(r)\n",
    "      case Right(s) => \n",
    "        val q: Q = p1(p)\n",
    "        p3(s)(q)\n",
    "    }\n",
    "  }\n",
    "}"
   ]
  },
  {
   "cell_type": "code",
   "execution_count": 182,
   "id": "03da0b31-c008-46fe-a660-f83cea4aa001",
   "metadata": {},
   "outputs": [
    {
     "data": {
      "text/plain": [
       "defined \u001b[32mfunction\u001b[39m \u001b[36mex2\u001b[39m"
      ]
     },
     "execution_count": 182,
     "metadata": {},
     "output_type": "execute_result"
    }
   ],
   "source": [
    "//con reglas \n",
    "def ex2[P, Q, R, S](p1: P => Q, p2: Either[R, S], p3: S => Not[Q], p4: Not[R]): Not[P] = {\n",
    "    val s = ria1(p2,p4)\n",
    "    val nq = p3(s)\n",
    "    modusTollens(p1)(nq)\n",
    "}"
   ]
  },
  {
   "cell_type": "code",
   "execution_count": 12,
   "id": "b04cf00c-feed-4208-929f-298d9fb1a39e",
   "metadata": {},
   "outputs": [
    {
     "data": {
      "text/plain": [
       "defined \u001b[32mtrait\u001b[39m \u001b[36mNot\u001b[39m\r\n",
       "defined \u001b[32mtype\u001b[39m \u001b[36m¬\u001b[39m\r\n",
       "defined \u001b[32mfunction\u001b[39m \u001b[36mmodusTollens\u001b[39m"
      ]
     },
     "execution_count": 12,
     "metadata": {},
     "output_type": "execute_result"
    }
   ],
   "source": [
    "trait Not[P] {\n",
    "  def apply(p: P): Nothing\n",
    "}\n",
    "\n",
    "type ¬[P] = Not[P]\n",
    "\n",
    "def modusTollens[P, Q](pToQ: P => Q)(notQ: Not[Q]): Not[P] =\n",
    "  (p: P) => notQ(pToQ(p))\n"
   ]
  },
  {
   "cell_type": "code",
   "execution_count": 21,
   "id": "2140e73b-5beb-4518-bc26-e09faed8b94b",
   "metadata": {},
   "outputs": [
    {
     "data": {
      "text/plain": [
       "defined \u001b[32mfunction\u001b[39m \u001b[36mmodusTollens\u001b[39m"
      ]
     },
     "execution_count": 21,
     "metadata": {},
     "output_type": "execute_result"
    }
   ],
   "source": [
    "def modusTollens[P, Q](pToQ: P => Q)(notQ: Not[Q]): Not[P] =\n",
    "  (p: P) => notQ(pToQ(p))\n"
   ]
  },
  {
   "cell_type": "code",
   "execution_count": 19,
   "id": "11e4f61e-71c4-4fb1-9616-6eeb515813f8",
   "metadata": {},
   "outputs": [
    {
     "data": {
      "text/plain": [
       "defined \u001b[32mtype\u001b[39m \u001b[36mNot\u001b[39m\r\n",
       "defined \u001b[32mtype\u001b[39m \u001b[36m<=>\u001b[39m"
      ]
     },
     "execution_count": 19,
     "metadata": {},
     "output_type": "execute_result"
    }
   ],
   "source": [
    "type Not[P] = P => Nothing\n",
    "type <=>[P, Q] = (P => Q, Q => P)"
   ]
  },
  {
   "cell_type": "code",
   "execution_count": 20,
   "id": "954e19ec-f9cd-4857-90f9-44a114ee657d",
   "metadata": {},
   "outputs": [
    {
     "data": {
      "text/plain": [
       "defined \u001b[32mtype\u001b[39m \u001b[36mNot\u001b[39m\r\n",
       "defined \u001b[32mfunction\u001b[39m \u001b[36malternativa\u001b[39m"
      ]
     },
     "execution_count": 20,
     "metadata": {},
     "output_type": "execute_result"
    }
   ],
   "source": [
    "type Not[P] = P => Nothing\n",
    "\n",
    "def alternativa[P, Q](p1: Either[P, Q], p2: Not[P]): Q = {\n",
    "  p1 match {\n",
    "    case Left(p) => p2(p)\n",
    "    case Right(q) => q \n",
    "  }\n",
    "}\n"
   ]
  },
  {
   "cell_type": "code",
   "execution_count": 22,
   "id": "1d554617-54da-4ba2-ab9e-4c072d3a9449",
   "metadata": {},
   "outputs": [
    {
     "data": {
      "text/plain": [
       "defined \u001b[32mfunction\u001b[39m \u001b[36mex5\u001b[39m"
      ]
     },
     "execution_count": 22,
     "metadata": {},
     "output_type": "execute_result"
    }
   ],
   "source": [
    "def ex5[P, Q, R, S](p1: R => S, p2: Either[P, Q], p3: (Not[P], Not[S])): (Q, Not[R]) = {\n",
    "  val notP = p3._1\n",
    "  val notS = p3._2\n",
    "  val notR = modusTollens(p1)(notS)\n",
    "  \n",
    "  p2 match {\n",
    "    case Left(p) => (alternativa(p2, notP), notR)\n",
    "    case Right(q) => (q, notR)\n",
    "  }\n",
    "}"
   ]
  },
  {
   "cell_type": "code",
   "execution_count": 23,
   "id": "1a63e681-a653-4362-b0fa-2c2a840e4ced",
   "metadata": {},
   "outputs": [
    {
     "data": {
      "text/plain": [
       "defined \u001b[32mfunction\u001b[39m \u001b[36mex7\u001b[39m"
      ]
     },
     "execution_count": 23,
     "metadata": {},
     "output_type": "execute_result"
    }
   ],
   "source": [
    "def ex7 [P,Q,R] (p1: P=>(Q=>R),p2:Q):P=>R =\n",
    "    p=> p1(p)(p2)\n"
   ]
  },
  {
   "cell_type": "code",
   "execution_count": 24,
   "id": "7c865e44-3e6e-4752-8a31-75e7e6d82f06",
   "metadata": {},
   "outputs": [
    {
     "data": {
      "text/plain": [
       "defined \u001b[32mfunction\u001b[39m \u001b[36mrcontr1\u001b[39m"
      ]
     },
     "execution_count": 24,
     "metadata": {},
     "output_type": "execute_result"
    }
   ],
   "source": [
    "def rcontr1[P,Q](p1:P=>Q): Not[Q] => Not[P]=\n",
    "    nq=> modusTollens(p1)(nq)\n"
   ]
  },
  {
   "cell_type": "code",
   "execution_count": 25,
   "id": "f44fb7dc-bfed-4f7b-abf3-44180f9b988f",
   "metadata": {},
   "outputs": [
    {
     "data": {
      "text/plain": [
       "defined \u001b[32mfunction\u001b[39m \u001b[36mrtr\u001b[39m"
      ]
     },
     "execution_count": 25,
     "metadata": {},
     "output_type": "execute_result"
    }
   ],
   "source": [
    "def rtr[P,Q,R] (p1: P=>Q, p2: Q=>R): P=>R =\n",
    "    p=> p2(p1(p))"
   ]
  },
  {
   "cell_type": "code",
   "execution_count": 26,
   "id": "2d80aa54-3c47-487c-a313-daf76cb3326f",
   "metadata": {},
   "outputs": [
    {
     "data": {
      "text/plain": [
       "defined \u001b[32mfunction\u001b[39m \u001b[36mmodusTollens\u001b[39m"
      ]
     },
     "execution_count": 26,
     "metadata": {},
     "output_type": "execute_result"
    }
   ],
   "source": [
    "def modusTollens[P, Q](pToQ: P => Q)(notQ: Not[Q]): Not[P] =\n",
    "    (p: P) => notQ(pToQ(p))\n"
   ]
  },
  {
   "cell_type": "code",
   "execution_count": 27,
   "id": "9d518bf0-9d3e-4c3b-a5dd-c3820c33ed24",
   "metadata": {},
   "outputs": [
    {
     "data": {
      "text/plain": [
       "defined \u001b[32mtrait\u001b[39m \u001b[36mDoubleNegation\u001b[39m"
      ]
     },
     "execution_count": 27,
     "metadata": {},
     "output_type": "execute_result"
    }
   ],
   "source": [
    "trait DoubleNegation {\n",
    "  def apply[P](nnp: Not[Not[P]]): P\n",
    "}"
   ]
  },
  {
   "cell_type": "code",
   "execution_count": 162,
   "id": "13b117fa-c856-491f-b910-33d38e29e356",
   "metadata": {},
   "outputs": [
    {
     "data": {
      "text/plain": [
       "defined \u001b[32mfunction\u001b[39m \u001b[36mDN2\u001b[39m"
      ]
     },
     "execution_count": 162,
     "metadata": {},
     "output_type": "execute_result"
    }
   ],
   "source": [
    "def DN2[P](p: P): Not[Not[P]] = //P=>Nothing=>Nothing\n",
    "     np=> np(p)"
   ]
  },
  {
   "cell_type": "code",
   "execution_count": 29,
   "id": "6bba0144-9856-4dbe-8ed9-fdf1c676d14a",
   "metadata": {
    "tags": []
   },
   "outputs": [
    {
     "data": {
      "text/plain": [
       "defined \u001b[32mfunction\u001b[39m \u001b[36mrcontr2\u001b[39m"
      ]
     },
     "execution_count": 29,
     "metadata": {},
     "output_type": "execute_result"
    }
   ],
   "source": [
    "def rcontr2[P, Q](DN: DoubleNegation)(p1: Not[Q] => Not[P]): P => Q = \n",
    "     p => DN.apply[Q](nq => p1(nq)(p)) //DN(nq => p1(nq)(p)) \n",
    "                                      //DN.apply[Q](nq => p1(nq)(p))\n",
    "\n"
   ]
  },
  {
   "cell_type": "code",
   "execution_count": 121,
   "id": "0cc02de2-d77e-4219-b0f1-e84cd7fed9d3",
   "metadata": {},
   "outputs": [
    {
     "data": {
      "text/plain": [
       "defined \u001b[32mfunction\u001b[39m \u001b[36mrdfNotAndImp\u001b[39m"
      ]
     },
     "execution_count": 121,
     "metadata": {},
     "output_type": "execute_result"
    }
   ],
   "source": [
    "def rdfNotAndImp[P,Q] (EM: ExcludedMiddle)(p1:Not[(P,Not[Q])]): P=>Q = {\n",
    "    (p: P) => EM[Q] match {\n",
    "    case Left(q) => q\n",
    "    case Right(nq) =>\n",
    "      val np: Not[P] = (p: P) => p1((p, nq))\n",
    "      np(p)\n",
    "  }\n",
    "}"
   ]
  },
  {
   "cell_type": "code",
   "execution_count": 120,
   "id": "bb1893cc-e4b1-4225-bc17-fb5af10c6c11",
   "metadata": {},
   "outputs": [
    {
     "data": {
      "text/plain": [
       "defined \u001b[32mfunction\u001b[39m \u001b[36mex6\u001b[39m"
      ]
     },
     "execution_count": 120,
     "metadata": {},
     "output_type": "execute_result"
    }
   ],
   "source": [
    "def ex6 [P,Q,R,S,T,U] (DN:DoubleNegation)(EM: ExcludedMiddle)(p1: P=>Q, p2: R=>P, p3: Not[R]=> Not[T], p4:Not[(S,Not[R])],  p5: Either[T,S]): Either[Q,U]=\n",
    "                                                                                    //S=>R\n",
    "    p5 match{\n",
    "        case Left(t) => val tIr = rcontr2(DN)(p3) //tipo Q p1(p2(rcontr2(p3)(t))) \n",
    "                    val r = tIr(t)\n",
    "                    val p = p2(r)\n",
    "                    Left(p1(p)) //:Q\n",
    "        case Right(s) =>val sIr = rdfNotAndImp(EM)(p4) \n",
    "                    val r = sIr(s)\n",
    "                    val p = p2(r)\n",
    "                    Left(p1(p)) //:Q        \n",
    "    }"
   ]
  },
  {
   "cell_type": "code",
   "execution_count": 163,
   "id": "47ab58cd-79d5-4147-8851-10aef2b39986",
   "metadata": {},
   "outputs": [
    {
     "data": {
      "text/plain": [
       "defined \u001b[32mfunction\u001b[39m \u001b[36mex4\u001b[39m"
      ]
     },
     "execution_count": 163,
     "metadata": {},
     "output_type": "execute_result"
    }
   ],
   "source": [
    "def ex4[P,Q,R,S,T](p1:P=>Either[Q,R], p2: Not[R], p3: Q=>Either[S,T], p4:Not[Either[S,T]]): Not[P]={\n",
    "    p => \n",
    "        val e = p1(p)\n",
    "        val nq = modusTollens(p3)(p4) //MT=> Not[Q]\n",
    "        e match {\n",
    "            case Left(q) => nq(q) // nq(q): Nothing\n",
    "    \n",
    "            case Right(r) => p2(r) //nr(r): Nothing\n",
    "        }\n",
    "}"
   ]
  },
  {
   "cell_type": "code",
   "execution_count": 35,
   "id": "3718e745-32b7-40b2-9072-54b8242e6846",
   "metadata": {},
   "outputs": [
    {
     "data": {
      "text/plain": [
       "defined \u001b[32mfunction\u001b[39m \u001b[36mex8\u001b[39m"
      ]
     },
     "execution_count": 35,
     "metadata": {},
     "output_type": "execute_result"
    }
   ],
   "source": [
    "def ex8 [P,Q,R,S] (p1: P=>Either[Q,R], p2: Either[Q,R]=> P, p3: P=>S, p4:Q):S=\n",
    "    rtr(p2,p3)(Left(p4))\n",
    "\n",
    "    "
   ]
  },
  {
   "cell_type": "code",
   "execution_count": 144,
   "id": "050f38e2-be65-4eff-84fa-b01f006e59a0",
   "metadata": {},
   "outputs": [
    {
     "data": {
      "text/plain": [
       "defined \u001b[32mfunction\u001b[39m \u001b[36mex9\u001b[39m"
      ]
     },
     "execution_count": 144,
     "metadata": {},
     "output_type": "execute_result"
    }
   ],
   "source": [
    "def ex9 [P,Q] (p1: Not[Not[P]=>Not[Q]]): P=>Not[Q]= {\n",
    "  p: P => q: Q => ???\n",
    "}"
   ]
  },
  {
   "cell_type": "code",
   "execution_count": 37,
   "id": "e84a1e1a-5a75-4c47-8149-87e4066f8b1c",
   "metadata": {},
   "outputs": [
    {
     "data": {
      "text/plain": [
       "defined \u001b[32mfunction\u001b[39m \u001b[36mex10\u001b[39m"
      ]
     },
     "execution_count": 37,
     "metadata": {},
     "output_type": "execute_result"
    }
   ],
   "source": [
    "def ex10[P,Q,R,S](DN: DoubleNegation)(p1:(P,Q)=>R, p2:Not[Either[P,R]]=>S, p3: P=>Q): Not[S]=>R = {\n",
    "    ns => \n",
    "        val epr= DN(modusTollens(p2)(ns)) //Either[P,R]\n",
    "        epr match {\n",
    "            case Left(p) => val q = p3(p)\n",
    "                            p1(p,q)\n",
    "            case Right(r) => r\n",
    "        }\n",
    "}\n"
   ]
  },
  {
   "cell_type": "code",
   "execution_count": 165,
   "id": "1e342771-d5e9-4743-ad7f-65d04fe13327",
   "metadata": {},
   "outputs": [
    {
     "data": {
      "text/plain": [
       "defined \u001b[32mfunction\u001b[39m \u001b[36mej10\u001b[39m"
      ]
     },
     "execution_count": 165,
     "metadata": {},
     "output_type": "execute_result"
    }
   ],
   "source": [
    "def ej10[P, Q, R, S](DN: DoubleNegation)(p1: ((P, Q)) => R, p2: Not[Either[P, R]] => S, p3: P => Q): Not[S] => R = \n",
    "    (p4: Not[S]) => { val p5: Either[P, R] = DN.apply[Either[P, R]](modusTollens(p2)(p4))\n",
    "                    p5 match{\n",
    "                        case Left(p6: P) => val p7: Q = p3(p6)\n",
    "                                val p8: (P, Q) = (p6, p7)\n",
    "                                p1(p8)\n",
    "                                \n",
    "                        case Right(p10: R) => p10\n",
    "                }\n",
    "               }"
   ]
  },
  {
   "cell_type": "code",
   "execution_count": 190,
   "id": "79fa4fef-0714-4467-9b4e-94f5c7b2c3bd",
   "metadata": {},
   "outputs": [
    {
     "data": {
      "text/plain": [
       "defined \u001b[32mfunction\u001b[39m \u001b[36mex11\u001b[39m"
      ]
     },
     "execution_count": 190,
     "metadata": {},
     "output_type": "execute_result"
    }
   ],
   "source": [
    "def ex11 [P,Q] (p1: Either[P,Q]): Not[P] =>Q =\n",
    "    rDf3_v2(p1)\n"
   ]
  },
  {
   "cell_type": "code",
   "execution_count": 189,
   "id": "5633d459-0de4-4677-8f5e-ad2f211d99de",
   "metadata": {},
   "outputs": [
    {
     "data": {
      "text/plain": [
       "defined \u001b[32mfunction\u001b[39m \u001b[36mex11\u001b[39m"
      ]
     },
     "execution_count": 189,
     "metadata": {},
     "output_type": "execute_result"
    }
   ],
   "source": [
    "def ex11 [P,Q] (p1: Either[P,Q]): Not[P] =>Q =\n",
    "    np=> p1 match{\n",
    "            case Left(p)=>np(p)\n",
    "            case Right(q)=>q\n",
    "        }\n"
   ]
  },
  {
   "cell_type": "code",
   "execution_count": 43,
   "id": "7f675c77-c32a-45c4-9215-541d6203ed30",
   "metadata": {},
   "outputs": [
    {
     "data": {
      "text/plain": [
       "defined \u001b[32mfunction\u001b[39m \u001b[36mex12\u001b[39m"
      ]
     },
     "execution_count": 43,
     "metadata": {},
     "output_type": "execute_result"
    }
   ],
   "source": [
    "def ex12[P,S,T,W](DN:DoubleNegation)(p1: S<=>T, p2: Either[T,P], p3: S=>Not[W], p4:W): P ={\n",
    "    val wIns = rcontr1_2(p3)\n",
    "    val ns = wIns(p4)\n",
    "    val tIs = p1._2\n",
    "    val nt = modusTollens(tIs)(ns)\n",
    "    ria1(p2,nt) //:P\n",
    "    \n",
    "}\n"
   ]
  },
  {
   "cell_type": "code",
   "execution_count": 167,
   "id": "048b3f70-bc4e-43f4-9ae0-f70da7a5f7d7",
   "metadata": {},
   "outputs": [
    {
     "data": {
      "text/plain": [
       "defined \u001b[32mfunction\u001b[39m \u001b[36mex14\u001b[39m"
      ]
     },
     "execution_count": 167,
     "metadata": {},
     "output_type": "execute_result"
    }
   ],
   "source": [
    "def ex14 [P,Q,R,S,T] (p1: (P,Q)=>R, p2: (R,S)=>T):((P,Q),S)=>T={\n",
    "    case((p,q),s)=> val r = p1(p,q) \n",
    "                    p2(r,s)\n",
    "}"
   ]
  },
  {
   "cell_type": "code",
   "execution_count": 168,
   "id": "d560277b-36c0-4999-b809-7598e047538d",
   "metadata": {},
   "outputs": [
    {
     "data": {
      "text/plain": [
       "defined \u001b[32mfunction\u001b[39m \u001b[36mex15\u001b[39m"
      ]
     },
     "execution_count": 168,
     "metadata": {},
     "output_type": "execute_result"
    }
   ],
   "source": [
    "def ex15[P,Q,R](p1: P=>(Q=>R)):Q=>(P=>R)=\n",
    "    q=>p=>p1(p)(q)"
   ]
  },
  {
   "cell_type": "code",
   "execution_count": 150,
   "id": "f3ec59f6-f266-41bc-92b8-377b41a5d2a4",
   "metadata": {},
   "outputs": [
    {
     "data": {
      "text/plain": [
       "defined \u001b[32mfunction\u001b[39m \u001b[36mex17\u001b[39m"
      ]
     },
     "execution_count": 150,
     "metadata": {},
     "output_type": "execute_result"
    }
   ],
   "source": [
    "def ex17[P,Q,R](DN:DoubleNegation)(EM: ExcludedMiddle)(p1: ((P,Q))=>R):((P,Not[R])) => Not[Q] =\n",
    "    t => {val nr = t._2\n",
    "        val n_pAq = modusTollens(p1)(nr) //¬(p,q)\n",
    "        val e_npnq= rDf1_And(EM)(n_pAq) //falta este metodo \n",
    "        val p = t._1\n",
    "        val nnp = DN2(p)\n",
    "        ria1(e_npnq,nnp)\n",
    "    }"
   ]
  },
  {
   "cell_type": "code",
   "execution_count": 47,
   "id": "ecadd47c-cae1-4efd-9fe4-7c68a21f229e",
   "metadata": {},
   "outputs": [
    {
     "data": {
      "text/plain": [
       "defined \u001b[32mfunction\u001b[39m \u001b[36mex18\u001b[39m"
      ]
     },
     "execution_count": 47,
     "metadata": {},
     "output_type": "execute_result"
    }
   ],
   "source": [
    "def ex18[P,Q](p1: P=>(P=>Q)):P=>Q=\n",
    "    p=> p1(p)(p)"
   ]
  },
  {
   "cell_type": "code",
   "execution_count": 149,
   "id": "05a58c20-bf49-411c-9172-c571b8164953",
   "metadata": {},
   "outputs": [
    {
     "data": {
      "text/plain": [
       "defined \u001b[32mfunction\u001b[39m \u001b[36mex19\u001b[39m"
      ]
     },
     "execution_count": 149,
     "metadata": {},
     "output_type": "execute_result"
    }
   ],
   "source": [
    "def ex19[P](EM: ExcludedMiddle)(p1:Not[P]=>P):P=\n",
    "    EM[P] match {\n",
    "        case Left(p) => p\n",
    "        case Right(np) => p1(np)\n",
    "    }"
   ]
  },
  {
   "cell_type": "code",
   "execution_count": 184,
   "id": "bf131a63-b254-4507-adc0-c5561434165e",
   "metadata": {},
   "outputs": [
    {
     "data": {
      "text/plain": [
       "defined \u001b[32mfunction\u001b[39m \u001b[36mex20\u001b[39m\r\n",
       "defined \u001b[32mfunction\u001b[39m \u001b[36mex20_v2\u001b[39m"
      ]
     },
     "execution_count": 184,
     "metadata": {},
     "output_type": "execute_result"
    }
   ],
   "source": [
    "//nota11 solucion, con gelas auxiliares\n",
    "def ex20[P,Q,R,S,T](p1: P=>Not[Q], p2:Not[Q]=>(Not[R],Not[S]), p3:Either[R,S]=>T, p4:T=>Q): P=>(Not[R],Not[S])=\n",
    "    rtr(p1,p2)\n",
    "\n",
    "//con reglas auxiliares \n",
    "def ex20_v2[P,Q,R,S,T](p1: P=>Not[Q], p2:Not[Q]=>(Not[R],Not[S]), p3:Either[R,S]=>T, p4:T=>Q): P=>(Not[R],Not[S])=\n",
    "    p=> {val nq = p1(p)\n",
    "         val p5 = p2(nq)\n",
    "          p5\n",
    "        }"
   ]
  },
  {
   "cell_type": "code",
   "execution_count": 185,
   "id": "d906a687-3565-4dc1-8057-c732ffc027ff",
   "metadata": {},
   "outputs": [
    {
     "data": {
      "text/plain": [
       "defined \u001b[32mfunction\u001b[39m \u001b[36mria1_1\u001b[39m"
      ]
     },
     "execution_count": 185,
     "metadata": {},
     "output_type": "execute_result"
    }
   ],
   "source": [
    "def ria1_1[P,Q](p1: Either[Not[P],Q], p2:P):Q=\n",
    "    p1 match{\n",
    "        case Left(np) => np(p2)\n",
    "        case Right(q)=> q\n",
    "}"
   ]
  },
  {
   "cell_type": "code",
   "execution_count": 108,
   "id": "b9c5307c-f5a4-49ce-a6c7-c4be0809dec6",
   "metadata": {},
   "outputs": [
    {
     "data": {
      "text/plain": [
       "defined \u001b[32mfunction\u001b[39m \u001b[36mex21\u001b[39m"
      ]
     },
     "execution_count": 108,
     "metadata": {},
     "output_type": "execute_result"
    }
   ],
   "source": [
    "def ex21 [P,Q,R,S,T] (DN:DoubleNegation)(p1: R=>P, p2: Not[Q]=>Not[R], p3: S=>Q, p4: ((P,Q))=>T, p5: Either[Not[S],P]):Either[R,S]=>T=\n",
    "    e => e match{\n",
    "        case Left(r) => val p = p1(r)\n",
    "                        val rIq = rcontr2(DN)(p2)\n",
    "                        val q = rIq(r)\n",
    "                        val paq = ((p,q))\n",
    "                        p4(paq)\n",
    "                    \n",
    "        case Right(s)=> val q = p3(s)\n",
    "                        val p = ria1_1(p5,s) \n",
    "                        val paq = ((p,q))\n",
    "                        p4(paq)\n",
    "}\n",
    "\n"
   ]
  },
  {
   "cell_type": "code",
   "execution_count": 123,
   "id": "1ebc532f-3560-42f7-a33a-89e0307e44d3",
   "metadata": {},
   "outputs": [],
   "source": [
    "//no es demostrable en la logica intuicionista, es logica clasica \n"
   ]
  },
  {
   "cell_type": "code",
   "execution_count": 111,
   "id": "2fdc8321-ceef-43b0-af83-07d82958736c",
   "metadata": {},
   "outputs": [
    {
     "data": {
      "text/plain": [
       "defined \u001b[32mfunction\u001b[39m \u001b[36mrDf1_And\u001b[39m"
      ]
     },
     "execution_count": 111,
     "metadata": {},
     "output_type": "execute_result"
    }
   ],
   "source": [
    "def rDf1_And[P, Q](EM: ExcludedMiddle)(p1:Not[(P, Q)]) : Either[Not[P], Not[Q]] = { \n",
    "    EM[P] match {\n",
    "        case Left(p) => Right((q) => p1((p, q)))\n",
    "        case Right(np) => Left((p => np(p)))\n",
    "    }\n",
    "}"
   ]
  },
  {
   "cell_type": "code",
   "execution_count": 169,
   "id": "338dd0e4-72b7-4715-879c-c0cd0e0e5350",
   "metadata": {},
   "outputs": [
    {
     "data": {
      "text/plain": [
       "defined \u001b[32mfunction\u001b[39m \u001b[36mrDf2\u001b[39m"
      ]
     },
     "execution_count": 169,
     "metadata": {},
     "output_type": "execute_result"
    }
   ],
   "source": [
    "def rDf2[P,Q](p1:(Not[P], Not[Q])): Not[Either[P,Q]]=\n",
    "    e=> e match{\n",
    "        case Left(p)=> p1._1(p)\n",
    "        case Right(q)=> p1._2(q)\n",
    "        }\n"
   ]
  },
  {
   "cell_type": "code",
   "execution_count": 55,
   "id": "80356c77-b91c-4ebd-b13f-51e0b02564fb",
   "metadata": {},
   "outputs": [
    {
     "data": {
      "text/plain": [
       "defined \u001b[32mfunction\u001b[39m \u001b[36mex22\u001b[39m"
      ]
     },
     "execution_count": 55,
     "metadata": {},
     "output_type": "execute_result"
    }
   ],
   "source": [
    "def ex22[P,Q,R,S,T](p1:Either[Q,Not[S]]=>T, p2: Not[Q]=>R, p3:P=>Not[S], p4: T=>S): P=>R={\n",
    "(p:P)=> \n",
    "    val ns: Not[S] = p3(p)\n",
    "    val nt= modusTollens(p4)(ns)\n",
    "    val ne= modusTollens(p1)(nt)\n",
    "    val aux= rDf1(ne)\n",
    "    p2(aux._1)\n",
    "}"
   ]
  },
  {
   "cell_type": "code",
   "execution_count": 155,
   "id": "88bd9eee-54d0-4a72-b728-12349a32616d",
   "metadata": {},
   "outputs": [
    {
     "data": {
      "text/plain": [
       "defined \u001b[32mfunction\u001b[39m \u001b[36mrDf1_1\u001b[39m"
      ]
     },
     "execution_count": 155,
     "metadata": {},
     "output_type": "execute_result"
    }
   ],
   "source": [
    "\n",
    "def rDf1_1[P,Q](EM: ExcludedMiddle)(p1: Not[Either[Not[P],Not[Q]]]):(P, Q)={\n",
    "    val p = EM[P] match {\n",
    "                case Left(p) => p\n",
    "                case Right(np) => \n",
    "                val enp: Either[Not[P], Not[Q]] = Left(np)\n",
    "                p1(enp)\n",
    "              }\n",
    "    val q = EM[Q] match {\n",
    "                case Left(q) => q\n",
    "                case Right(nq) => \n",
    "                val enq: Either[Not[P], Not[Q]] = Right(nq)\n",
    "                p1(enq)\n",
    "              }\n",
    "  (p, q)\n",
    "}\n"
   ]
  },
  {
   "cell_type": "code",
   "execution_count": 156,
   "id": "db12e007-8cab-4dab-b2c2-339c22cac3a7",
   "metadata": {},
   "outputs": [
    {
     "data": {
      "text/plain": [
       "defined \u001b[32mfunction\u001b[39m \u001b[36mmodusTollensNOT\u001b[39m"
      ]
     },
     "execution_count": 156,
     "metadata": {},
     "output_type": "execute_result"
    }
   ],
   "source": [
    "\n",
    "def modusTollensNOT[P, Q](EM: ExcludedMiddle)(p1: Not[P] => Not[Q])(p2:Q):P = {\n",
    "    EM[P] match {\n",
    "        case Left(p) => p\n",
    "        case Right(np) => \n",
    "            val nq = p1(np)\n",
    "            nq(p2)\n",
    "    }\n",
    "}"
   ]
  },
  {
   "cell_type": "code",
   "execution_count": 158,
   "id": "b1a7c75f-eee1-4b9d-a92b-73d706fb8da3",
   "metadata": {},
   "outputs": [
    {
     "data": {
      "text/plain": [
       "defined \u001b[32mfunction\u001b[39m \u001b[36mex24\u001b[39m"
      ]
     },
     "execution_count": 158,
     "metadata": {},
     "output_type": "execute_result"
    }
   ],
   "source": [
    "def ex24[P,Q,R,S,T](EM: ExcludedMiddle)(DN:DoubleNegation)(p1: Either[P,Q]=> (R,S), p2: Not[Either[Not[P],Not[R]]], p3: Not[T]=>Not[(P,S)]):T={\n",
    "    val par = rDf1_1(EM)(p2)\n",
    "    val p= par._1\n",
    "    val ras = p1(Left(p))\n",
    "    val s = ras._2\n",
    "    val pas = ((p,s))\n",
    "    modusTollensNOT(EM)(p3)(pas)\n",
    "}\n"
   ]
  },
  {
   "cell_type": "code",
   "execution_count": 186,
   "id": "b43daadf-c115-47ee-bc1a-212388121e8a",
   "metadata": {},
   "outputs": [
    {
     "data": {
      "text/plain": [
       "defined \u001b[32mfunction\u001b[39m \u001b[36mex25\u001b[39m"
      ]
     },
     "execution_count": 186,
     "metadata": {},
     "output_type": "execute_result"
    }
   ],
   "source": [
    "def ex25 [P,Q,R,S,T](p1:S=>Q):(P=>(Q=>R))=>(P=>(S=>R))=\n",
    "    p2=>(p=>(s=>{\n",
    "                    val q = p1(s)\n",
    "                    val qir= p2(p)\n",
    "                    val r = qir(q)\n",
    "                    r\n",
    "                }))"
   ]
  },
  {
   "cell_type": "code",
   "execution_count": 187,
   "id": "d0caf5af-aefd-4fd6-945e-376fadae4954",
   "metadata": {},
   "outputs": [
    {
     "data": {
      "text/plain": [
       "defined \u001b[32mfunction\u001b[39m \u001b[36mex29\u001b[39m"
      ]
     },
     "execution_count": 187,
     "metadata": {},
     "output_type": "execute_result"
    }
   ],
   "source": [
    "def ex29[P,Q,R,S,T](p1:P=>((Q=>R)=>S)): (Q=>R) => P=>S=\n",
    "    p2=> p=>{   val p4 = p1(p)\n",
    "                val p5 = p4(p2)\n",
    "                p5\n",
    "            }"
   ]
  },
  {
   "cell_type": "code",
   "execution_count": 61,
   "id": "443e576d-3eaa-42f5-b785-66802787e376",
   "metadata": {},
   "outputs": [
    {
     "data": {
      "text/plain": [
       "defined \u001b[32mfunction\u001b[39m \u001b[36mrcontr1_1\u001b[39m\r\n",
       "defined \u001b[32mfunction\u001b[39m \u001b[36mrcontr1_2\u001b[39m"
      ]
     },
     "execution_count": 61,
     "metadata": {},
     "output_type": "execute_result"
    }
   ],
   "source": [
    "def rcontr1_1[P,Q](DN: DoubleNegation)(p1:Not[P]=>Q): Not[Q] => P=\n",
    "    nq=> DN(modusTollens(p1)(nq))\n",
    "\n",
    "def rcontr1_2[P,Q](p1:P=>Not[Q]): Q => Not[P]=\n",
    "    q=> { val nnq= DN2(q)\n",
    "        modusTollens(p1)(nnq)}\n",
    " "
   ]
  },
  {
   "cell_type": "code",
   "execution_count": 62,
   "id": "ae77acba-55df-4c4b-a0dc-55a7c02a6719",
   "metadata": {},
   "outputs": [
    {
     "data": {
      "text/plain": [
       "defined \u001b[32mfunction\u001b[39m \u001b[36mex32\u001b[39m"
      ]
     },
     "execution_count": 62,
     "metadata": {},
     "output_type": "execute_result"
    }
   ],
   "source": [
    "\n",
    "def ex32[P,Q,R,S,T,U](DN:DoubleNegation)(p1: P<=>((Q,(T,U))), p2: Not[P], p3: R<=>Not[Q], p4:Not[R]=>T, p5: Not[U]=>R):Either[R,S]={\n",
    "    val p6 = reCoimp4(p1,p2) //Not[(Q,(T,U))]\n",
    "    val p7 = rdfNotAnd(p6) // Either[Not[Q],Not[(T,U)]]\n",
    "    p7 match{\n",
    "        case Left(nq)=> Left(p3._2(nq))//:R\n",
    "        case Right(n_tAu)=> { val e = rdfNotAnd(n_tAu)\n",
    "                                e match{\n",
    "                                    case Left(nt)=> {val p12 = rcontr1_1(DN)(p4) //¬t=>r\n",
    "                                                Left(p12(nt))}\n",
    "                                    case Right(nu)=> Left(p5(nu))\n",
    "                                }\n",
    "                            }\n",
    "    }\n",
    "    \n",
    "}"
   ]
  },
  {
   "cell_type": "code",
   "execution_count": 63,
   "id": "2dae4aae-384d-4cd4-bc5f-9ae727fdc638",
   "metadata": {},
   "outputs": [
    {
     "data": {
      "text/plain": [
       "defined \u001b[32mfunction\u001b[39m \u001b[36mex33\u001b[39m"
      ]
     },
     "execution_count": 63,
     "metadata": {},
     "output_type": "execute_result"
    }
   ],
   "source": [
    "def ex33[P,Q,R,S,T](p1: P=>Q, p2: Q=>R, p3: S=>T, p4:Either[S,P]): Either[R,T]=\n",
    "    p4 match{\n",
    "        case Left(s)=> Right(p3(s))\n",
    "        case Right(p)=> Left(p2(p1(p)))\n",
    "    }"
   ]
  },
  {
   "cell_type": "code",
   "execution_count": 64,
   "id": "48f8a418-66e1-4984-970c-5e8decebf12f",
   "metadata": {},
   "outputs": [
    {
     "data": {
      "text/plain": [
       "defined \u001b[32mfunction\u001b[39m \u001b[36mex36_v1\u001b[39m"
      ]
     },
     "execution_count": 64,
     "metadata": {},
     "output_type": "execute_result"
    }
   ],
   "source": [
    "def ex36_v1[P,Q,R](p1: Either[P,Q]=>R): Either[P=>R,Q=>R]={\n",
    "    val aux1 = (p:P)=> p1(Left(p))\n",
    "    Left(aux1)\n",
    "}\n"
   ]
  },
  {
   "cell_type": "code",
   "execution_count": 65,
   "id": "49c8b0ea-2266-4743-89c8-fd33ec77998f",
   "metadata": {},
   "outputs": [
    {
     "data": {
      "text/plain": [
       "defined \u001b[32mfunction\u001b[39m \u001b[36mex36_v2\u001b[39m"
      ]
     },
     "execution_count": 65,
     "metadata": {},
     "output_type": "execute_result"
    }
   ],
   "source": [
    "def ex36_v2[P,Q,R](p1: Either[P,Q]=>R): Either[P=>R,Q=>R]={\n",
    "    val aux2 = (q:Q)=> p1(Right(q))\n",
    "    Right(aux2)\n",
    "}"
   ]
  },
  {
   "cell_type": "code",
   "execution_count": 141,
   "id": "336633e7-c73d-4d48-873b-3ef91df52c05",
   "metadata": {},
   "outputs": [
    {
     "data": {
      "text/plain": [
       "defined \u001b[32mfunction\u001b[39m \u001b[36mrdfNotAndImp2\u001b[39m"
      ]
     },
     "execution_count": 141,
     "metadata": {},
     "output_type": "execute_result"
    }
   ],
   "source": [
    "def rdfNotAndImp2 [P,Q](EM: ExcludedMiddle)(p1:Not[Not[P]=>Q]):(Not[P],Not[Q])={\n",
    "  EM[P] match {\n",
    "    case Left(p) =>\n",
    "      val nq: Not[Q] = (q:Q) => p1((np: Not[P]) => np(p))\n",
    "      val np: Not[P] = (p:P) => p1((np: Not[P]) => np(p))\n",
    "      (np, nq)\n",
    "    case Right(np) =>\n",
    "      val nq: Not[Q] = (q: Q) => p1((np: Not[P]) => q)\n",
    "      (np, nq)\n",
    "  }\n",
    "}\n"
   ]
  },
  {
   "cell_type": "code",
   "execution_count": 153,
   "id": "29beab52-acbd-4bc9-9154-62166059ac4c",
   "metadata": {},
   "outputs": [
    {
     "data": {
      "text/plain": [
       "defined \u001b[32mfunction\u001b[39m \u001b[36mex37\u001b[39m"
      ]
     },
     "execution_count": 153,
     "metadata": {},
     "output_type": "execute_result"
    }
   ],
   "source": [
    "def ex37[P,Q,R,S,T](EM: ExcludedMiddle) (p1: R=>S, p2: Either[P,Q], p3:Not[Not[P]=>S], p4: Not[P]=>Q):(Q,Not[R])={\n",
    "    val p5 = rdfNotAndImp2(EM)(p3) //npAns\n",
    "    val p6 = p5._1 //np\n",
    "    val p7 = p4(p6) //q\n",
    "    val p8 = p5._2 //ns\n",
    "    val p9 = modusTollens(p1)(p8) //nr\n",
    "    (p7,p9)\n",
    "    \n",
    "}\n",
    "                                                "
   ]
  },
  {
   "cell_type": "code",
   "execution_count": 69,
   "id": "07390473-7d1e-4199-9b79-ff2d5046f06b",
   "metadata": {},
   "outputs": [
    {
     "data": {
      "text/plain": [
       "defined \u001b[32mfunction\u001b[39m \u001b[36mex37\u001b[39m"
      ]
     },
     "execution_count": 69,
     "metadata": {},
     "output_type": "execute_result"
    }
   ],
   "source": [
    "def ex37[P,Q,R,S,T] (p1: R=>S, p2: Either[P,Q], p3:(Not[P],Not[S]), p4: Not[P]=>Q):(Q,Not[R])={\n",
    "                                                //Not[Not[P]=>S] mirar sol hacerlo con funcion \n",
    "    val np = p3._1\n",
    "    val ns = p3._2\n",
    "    val q = p4(np)\n",
    "    val nr= modusTollens(p1)(ns)\n",
    "    (q,nr)\n",
    "}\n"
   ]
  },
  {
   "cell_type": "code",
   "execution_count": 70,
   "id": "f347b2a3-7587-40d9-abfd-d50a4d526808",
   "metadata": {},
   "outputs": [
    {
     "data": {
      "text/plain": [
       "defined \u001b[32mfunction\u001b[39m \u001b[36mex38\u001b[39m"
      ]
     },
     "execution_count": 70,
     "metadata": {},
     "output_type": "execute_result"
    }
   ],
   "source": [
    "def ex38[P,Q,R,S,T](p1:((P=>Q),R), p2: S=>T, p3:R=>S): Either[Q,T]={\n",
    "    val r= p1._2\n",
    "    val s= p3(r)\n",
    "    val t= p2(s)\n",
    "    Right(t)\n",
    "}"
   ]
  },
  {
   "cell_type": "code",
   "execution_count": 71,
   "id": "e19f7833-10c8-4598-a7c9-9ab81abe9f6e",
   "metadata": {},
   "outputs": [
    {
     "data": {
      "text/plain": [
       "defined \u001b[32mfunction\u001b[39m \u001b[36mrDf1\u001b[39m"
      ]
     },
     "execution_count": 71,
     "metadata": {},
     "output_type": "execute_result"
    }
   ],
   "source": [
    "def rDf1[P,Q](p1: Not[Either[P,Q]]):(Not[P], Not[Q])={\n",
    "    val np: Not[P] = p=> p1(Left(p))\n",
    "    val nq: Not[Q] = q=> p1(Right(q))\n",
    "    (np,nq)\n",
    "}"
   ]
  },
  {
   "cell_type": "code",
   "execution_count": 72,
   "id": "67a215ad-4be6-44cf-a954-293a8e47cfff",
   "metadata": {},
   "outputs": [
    {
     "data": {
      "text/plain": [
       "defined \u001b[32mtype\u001b[39m \u001b[36mNot\u001b[39m\r\n",
       "defined \u001b[32mtrait\u001b[39m \u001b[36mDoubleNegation\u001b[39m\r\n",
       "defined \u001b[32mfunction\u001b[39m \u001b[36mproof\u001b[39m"
      ]
     },
     "execution_count": 72,
     "metadata": {},
     "output_type": "execute_result"
    }
   ],
   "source": [
    "type Not[A] = A => Nothing\n",
    "\n",
    "trait DoubleNegation {\n",
    "  def apply[P](nnp: Not[Not[P]]): P\n",
    "}\n",
    "def proof[P](DN: DoubleNegation): (Not[P] => P) => P =\n",
    "    f => DN[P]((n: Not[P]) => n(f(n)))"
   ]
  },
  {
   "cell_type": "code",
   "execution_count": 135,
   "id": "566e67fc-f759-4d92-bbab-b85af7071cfa",
   "metadata": {},
   "outputs": [
    {
     "data": {
      "text/plain": [
       "defined \u001b[32mfunction\u001b[39m \u001b[36mrDf1_2\u001b[39m"
      ]
     },
     "execution_count": 135,
     "metadata": {},
     "output_type": "execute_result"
    }
   ],
   "source": [
    "\n",
    "def rDf1_2[P,Q](EM: ExcludedMiddle)(p1: Not[Either[Not[P],Q]]):(P, Not[Q])={\n",
    "    val p: P = EM[P] match {\n",
    "    case Left(p) => p\n",
    "    case Right(np) => \n",
    "      val either = Left(np)\n",
    "      p1(either)\n",
    "    }\n",
    "\n",
    "    val nq: Not[Q] = q => {\n",
    "    val either = Right(q)\n",
    "        p1(either)\n",
    "    }\n",
    "  (p, nq)\n",
    "}\n"
   ]
  },
  {
   "cell_type": "code",
   "execution_count": 160,
   "id": "0a50754f-070a-448e-8968-29addfd3b7cf",
   "metadata": {},
   "outputs": [
    {
     "data": {
      "text/plain": [
       "defined \u001b[32mfunction\u001b[39m \u001b[36mex40\u001b[39m"
      ]
     },
     "execution_count": 160,
     "metadata": {},
     "output_type": "execute_result"
    }
   ],
   "source": [
    "def ex40[P,Q,R,S,T](EM: ExcludedMiddle)(DN: DoubleNegation)(p1:Not[P]<=>Q, p2:Not[Either[Not[Q],R]], p3: Either[P,S]):Either[S,T]={\n",
    "                                                        //(Q,Not[R])\n",
    "    val  t = rDf1_2(EM)(p2) //(Q,Not[R])\n",
    "    val q = t._1\n",
    "    val np = reCoimp3(p1,q)\n",
    "    val s = ria1(p3,np)\n",
    "    Left(s)\n",
    "}"
   ]
  },
  {
   "cell_type": "code",
   "execution_count": 175,
   "id": "fb2dd36c-3bff-4d85-bd76-80dae9a6c723",
   "metadata": {},
   "outputs": [
    {
     "data": {
      "text/plain": [
       "defined \u001b[32mfunction\u001b[39m \u001b[36mex41\u001b[39m"
      ]
     },
     "execution_count": 175,
     "metadata": {},
     "output_type": "execute_result"
    }
   ],
   "source": [
    "def ex41 [P,Q,R] (p1: P=>Q, p2:Either[R, Not[P]]):P=>(Q,R)={\n",
    "    p=> val q = p1(p)\n",
    "        p2 match{\n",
    "        case Left(r) =>(q, r)\n",
    "        case Right(np) => (q, np(p))\n",
    "        }\n",
    "    }"
   ]
  },
  {
   "cell_type": "code",
   "execution_count": 76,
   "id": "2bf495b8-a90c-47b0-b583-f54c85a00dbf",
   "metadata": {},
   "outputs": [
    {
     "data": {
      "text/plain": [
       "defined \u001b[32mfunction\u001b[39m \u001b[36mex41\u001b[39m"
      ]
     },
     "execution_count": 76,
     "metadata": {},
     "output_type": "execute_result"
    }
   ],
   "source": [
    "//CON REGLAS DE INFERENCIA \n",
    "def ex41 [P,Q,R] (p1: P=>Q, p2:Either[R, Not[P]]):P=>(Q,R)={\n",
    "    p=> val q = p1(p)\n",
    "        val nnp = DN2(p)\n",
    "        val r = ria2(p2,nnp)\n",
    "        (q,r)\n",
    "}"
   ]
  },
  {
   "cell_type": "code",
   "execution_count": 152,
   "id": "14aa135d-77e4-45ee-9dab-d033a0307434",
   "metadata": {},
   "outputs": [
    {
     "data": {
      "text/plain": [
       "defined \u001b[32mfunction\u001b[39m \u001b[36mex42\u001b[39m"
      ]
     },
     "execution_count": 152,
     "metadata": {},
     "output_type": "execute_result"
    }
   ],
   "source": [
    "//CON REGLAS DE INFERENCIA\n",
    "def ex42[P,Q,R,S](EM: ExcludedMiddle)(p1:((P,Q))=>R, p2: R=>S, p3: (Q,Not[S]) ): Not[P]={\n",
    "    val q = p3._1\n",
    "    val ns = p3._2\n",
    "    val paqis = rtr(p1,p2)\n",
    "    val npaq = modusTollens(paqis)(ns)      \n",
    "    val nponq = rDf1_And(EM)(npaq)\n",
    "    val nnq =  DN2(q)\n",
    "    ria2(nponq,nnq)\n",
    "}\n"
   ]
  },
  {
   "cell_type": "code",
   "execution_count": 154,
   "id": "8679b76a-1916-4376-8849-aad3d0e45208",
   "metadata": {},
   "outputs": [
    {
     "data": {
      "text/plain": [
       "defined \u001b[32mfunction\u001b[39m \u001b[36mex44\u001b[39m"
      ]
     },
     "execution_count": 154,
     "metadata": {},
     "output_type": "execute_result"
    }
   ],
   "source": [
    "\n",
    "def ex44 [P,Q,R,S,T](EM: ExcludedMiddle)(p1: ((P,Q))=>(Either[R,S]), p2: Not[(T,Not[P])], p3:T, p4: T<=>Q):Not[R]=>S ={\n",
    "                                                //T=>P\n",
    "    val tip= rdfNotAndImp(EM)(p2)\n",
    "    val q = p4._1(p3)\n",
    "    val p = tip(p3)\n",
    "    val paq = (p,q)\n",
    "    val e = p1(paq)\n",
    "    \n",
    "nr=> ria1(e,nr)\n",
    "}\n"
   ]
  },
  {
   "cell_type": "code",
   "execution_count": 80,
   "id": "7aa1546e-6196-4f8d-a602-2c69fd9531c6",
   "metadata": {},
   "outputs": [
    {
     "data": {
      "text/plain": [
       "defined \u001b[32mfunction\u001b[39m \u001b[36mex44\u001b[39m"
      ]
     },
     "execution_count": 80,
     "metadata": {},
     "output_type": "execute_result"
    }
   ],
   "source": [
    "//me lo he inventado sin querer\n",
    "def ex44 [P,Q,R,S,T](p1: ((P,Q))=>((R,S)), p2: Either[Not[T],P], p3:T, p4: T<=>Q):Not[R]=>S ={\n",
    "    val tip = p4._1\n",
    "    val q = tip(p3)\n",
    "    nr=> p2 match{\n",
    "        case Left(nt)=>nt(p3)\n",
    "        case Right(p)=> val paq = (p,q)\n",
    "                        val ras = p1(paq)\n",
    "                        ras._2 \n",
    "\n",
    "    }\n",
    "}\n"
   ]
  },
  {
   "cell_type": "code",
   "execution_count": 81,
   "id": "b04e60a5-4a35-4f02-81f7-c41cf317ca61",
   "metadata": {},
   "outputs": [
    {
     "data": {
      "text/plain": [
       "defined \u001b[32mfunction\u001b[39m \u001b[36mrImp\u001b[39m"
      ]
     },
     "execution_count": 81,
     "metadata": {},
     "output_type": "execute_result"
    }
   ],
   "source": [
    "def rImp[P,Q,R](p1: P=>(Q=>R)):(P,Q)=>R=\n",
    "    (p,q)=>p1(p)(q)"
   ]
  },
  {
   "cell_type": "code",
   "execution_count": 82,
   "id": "ab0ed0f2-d916-41dd-8242-dfcdb3f8b27c",
   "metadata": {},
   "outputs": [
    {
     "data": {
      "text/plain": [
       "defined \u001b[32mfunction\u001b[39m \u001b[36mrExp\u001b[39m"
      ]
     },
     "execution_count": 82,
     "metadata": {},
     "output_type": "execute_result"
    }
   ],
   "source": [
    "def rExp[P,Q,R](p1: ((P,Q))=>R): P=>(Q=>R)=\n",
    "    p=>(q=> p1((p,q)))"
   ]
  },
  {
   "cell_type": "code",
   "execution_count": 177,
   "id": "3a949d14-a4b5-44cc-b4e0-9d9f63a31f26",
   "metadata": {},
   "outputs": [
    {
     "data": {
      "text/plain": [
       "defined \u001b[32mfunction\u001b[39m \u001b[36mria1\u001b[39m"
      ]
     },
     "execution_count": 177,
     "metadata": {},
     "output_type": "execute_result"
    }
   ],
   "source": [
    "def ria1[P,Q](p1: Either[P,Q], p2:Not[P]):Q=\n",
    "    p1 match{\n",
    "        case Left(p) => p2(p)\n",
    "        case Right(q)=> q\n",
    "\n",
    "    }"
   ]
  },
  {
   "cell_type": "code",
   "execution_count": 178,
   "id": "7b35a8e5-9d51-4085-8c46-5b57533d7ec5",
   "metadata": {},
   "outputs": [
    {
     "data": {
      "text/plain": [
       "defined \u001b[32mfunction\u001b[39m \u001b[36mria2\u001b[39m"
      ]
     },
     "execution_count": 178,
     "metadata": {},
     "output_type": "execute_result"
    }
   ],
   "source": [
    "def ria2[P,Q](p1: Either[P,Q], p2:Not[Q]):P=\n",
    "    p1 match{\n",
    "        case Left(p)=>p\n",
    "        case Right(q) => p2(q)\n",
    "    }"
   ]
  },
  {
   "cell_type": "code",
   "execution_count": 179,
   "id": "705ed9d7-5451-4164-b524-52c4349e1ca1",
   "metadata": {},
   "outputs": [
    {
     "data": {
      "text/plain": [
       "defined \u001b[32mfunction\u001b[39m \u001b[36mproof\u001b[39m"
      ]
     },
     "execution_count": 179,
     "metadata": {},
     "output_type": "execute_result"
    }
   ],
   "source": [
    "def proof[P](DN: DoubleNegation): (Not[P] => P) => P =\n",
    "    f => DN[P]((n: Not[P]) => n(f(n)))"
   ]
  },
  {
   "cell_type": "code",
   "execution_count": 180,
   "id": "97785cd2-b253-47a5-bf69-dd5dff01539e",
   "metadata": {},
   "outputs": [
    {
     "data": {
      "text/plain": [
       "defined \u001b[32mfunction\u001b[39m \u001b[36mrcontr1_1\u001b[39m\r\n",
       "defined \u001b[32mfunction\u001b[39m \u001b[36mrcontr1_2\u001b[39m"
      ]
     },
     "execution_count": 180,
     "metadata": {},
     "output_type": "execute_result"
    }
   ],
   "source": [
    "def rcontr1_1[P,Q](DN: DoubleNegation)(p1:Not[P]=>Q): Not[Q] => P=\n",
    "    nq=> DN(modusTollens(p1)(nq))\n",
    "\n",
    "def rcontr1_2[P,Q](p1:P=>Not[Q]): Q => Not[P]=\n",
    "    q=> {val nnq= DN2(q)\n",
    "        modusTollens(p1)(nnq)}\n",
    " "
   ]
  },
  {
   "cell_type": "code",
   "execution_count": 88,
   "id": "6a666e92-a110-46c9-8d3f-287de922cd7d",
   "metadata": {},
   "outputs": [
    {
     "data": {
      "text/plain": [
       "defined \u001b[32mfunction\u001b[39m \u001b[36mex45\u001b[39m"
      ]
     },
     "execution_count": 88,
     "metadata": {},
     "output_type": "execute_result"
    }
   ],
   "source": [
    "def ex45[P,Q,R,S,T] (DN:DoubleNegation)( p1: Either[P,Q], p2: R=>Not[P], p3: S=>R, p4:Not[T]=>S, p5: R<=>Not[Q]):T={\n",
    "    val ntIr = rtr(p4,p3)\n",
    "    p1 match{\n",
    "        case Left(p) => {\n",
    "                        val pInr = rcontr1_2(p2) //necesario ¬¬p=p\n",
    "                        val nr = pInr(p)\n",
    "                        val nrIt = rcontr1_1(DN)(ntIr)\n",
    "                        nrIt(nr) }//:T\n",
    "        case Right(q) => {\n",
    "                         val rInq = p5._1\n",
    "                         val qInr = rcontr1_2(rInq) //necesario ¬¬p=p\n",
    "                         val nr = qInr(q)\n",
    "                         val ntIr = rtr(p4,p3)\n",
    "                         val nrIt = rcontr1_1(DN)(ntIr) //necesario ¬¬p=p\n",
    "                         nrIt(nr)} //:T\n",
    "    }\n",
    "}\n"
   ]
  },
  {
   "cell_type": "code",
   "execution_count": 148,
   "id": "be4385e3-2d18-4a62-865e-e8aa8641d69a",
   "metadata": {},
   "outputs": [
    {
     "data": {
      "text/plain": [
       "defined \u001b[32mfunction\u001b[39m \u001b[36mria2_NOT\u001b[39m"
      ]
     },
     "execution_count": 148,
     "metadata": {},
     "output_type": "execute_result"
    }
   ],
   "source": [
    "\n",
    "def ria2_NOT[P, Q](DN: DoubleNegation)(EM: ExcludedMiddle)(p1: Either[Not[P], Not[Q]], p2: Q): P = {\n",
    "  p1 match {\n",
    "    case Left(np) => EM[P] match {\n",
    "                case Left(p) => p\n",
    "                case Right(np) => ???\n",
    "              }\n",
    "    case Right(nq) => nq(p2)\n",
    "  }\n",
    "}"
   ]
  },
  {
   "cell_type": "code",
   "execution_count": 181,
   "id": "3d2acede-fa48-4fd8-9b69-4be374ded685",
   "metadata": {},
   "outputs": [
    {
     "data": {
      "text/plain": [
       "defined \u001b[32mtype\u001b[39m \u001b[36mNot\u001b[39m\r\n",
       "defined \u001b[32mtype\u001b[39m \u001b[36m<=>\u001b[39m\r\n",
       "defined \u001b[32mfunction\u001b[39m \u001b[36mreCoimp1\u001b[39m\r\n",
       "defined \u001b[32mfunction\u001b[39m \u001b[36mreCoimp2\u001b[39m\r\n",
       "defined \u001b[32mfunction\u001b[39m \u001b[36mreCoimp3\u001b[39m\r\n",
       "defined \u001b[32mfunction\u001b[39m \u001b[36mreCoimp4\u001b[39m\r\n",
       "defined \u001b[32mfunction\u001b[39m \u001b[36mriCoimp\u001b[39m"
      ]
     },
     "execution_count": 181,
     "metadata": {},
     "output_type": "execute_result"
    }
   ],
   "source": [
    "type Not[P] = P => Nothing\n",
    "type <=>[P, Q] = (P => Q, Q => P)\n",
    "def reCoimp1[P,Q](p1:P<=>Q, p2:P):Q=\n",
    "    p1._1(p2)\n",
    "def reCoimp2[P,Q](p1:P<=>Q, p2:Not[Q]):Not[P]=\n",
    "    modusTollens(p1._1)(p2)\n",
    "def reCoimp3[P,Q](p1:P<=>Q, p2:Q):P=\n",
    "    p1._2(p2)\n",
    "def reCoimp4[P,Q](p1:P<=>Q, p2:Not[P]):Not[Q]=\n",
    "    modusTollens(p1._2)(p2)\n",
    "def riCoimp[P,Q](p1: P=>Q, p2: Q=>P):P<=>Q=\n",
    "(p1,p2)"
   ]
  },
  {
   "cell_type": "code",
   "execution_count": 139,
   "id": "59bc33cc-87fe-4b53-b629-67548c764f09",
   "metadata": {},
   "outputs": [
    {
     "data": {
      "text/plain": [
       "defined \u001b[32mfunction\u001b[39m \u001b[36mrDf3_v1\u001b[39m"
      ]
     },
     "execution_count": 139,
     "metadata": {},
     "output_type": "execute_result"
    }
   ],
   "source": [
    "\n",
    "def rDf3_v1[P,Q](EM: ExcludedMiddle)(p1:Not[P]=>Q ): Either[P,Q]={\n",
    "    EM[P] match {\n",
    "    case Left(p) => Left(p)\n",
    "    case Right(np) => Right(p1(np))\n",
    "  }   \n",
    "}"
   ]
  },
  {
   "cell_type": "code",
   "execution_count": 92,
   "id": "158241f4-923e-46ed-9460-36e4ac980cee",
   "metadata": {},
   "outputs": [
    {
     "data": {
      "text/plain": [
       "defined \u001b[32mfunction\u001b[39m \u001b[36mrDf3_v2\u001b[39m"
      ]
     },
     "execution_count": 92,
     "metadata": {},
     "output_type": "execute_result"
    }
   ],
   "source": [
    "def rDf3_v2[P,Q] (p1:Either[P,Q]): Not[P]=>Q=\n",
    "    np=> p1 match{\n",
    "        case Left(p)=>np(p)\n",
    "        case Right(q)=>q\n",
    "    }"
   ]
  },
  {
   "cell_type": "code",
   "execution_count": 93,
   "id": "cdb6a59e-c64c-450b-885d-ecf644026045",
   "metadata": {},
   "outputs": [
    {
     "data": {
      "text/plain": [
       "defined \u001b[32mfunction\u001b[39m \u001b[36mrDfAnd\u001b[39m"
      ]
     },
     "execution_count": 93,
     "metadata": {},
     "output_type": "execute_result"
    }
   ],
   "source": [
    "def rDfAnd[P,Q] (p1:(P,Q)): Not[P=>Not[Q]]=\n",
    "    aux=> aux(p1._1)(p1._2)"
   ]
  },
  {
   "cell_type": "code",
   "execution_count": 94,
   "id": "530795c2-4485-4ec6-a6ae-6d0e7576b3e1",
   "metadata": {},
   "outputs": [
    {
     "data": {
      "text/plain": [
       "defined \u001b[32mfunction\u001b[39m \u001b[36mrDfAnd2\u001b[39m"
      ]
     },
     "execution_count": 94,
     "metadata": {},
     "output_type": "execute_result"
    }
   ],
   "source": [
    "def rDfAnd2[P,Q] (p1:(P,Q)): Not[Either[Not[P],Not[Q]]]=\n",
    "    e => e match{\n",
    "        case Left(np) => np(p1._1)\n",
    "        case Right(nq) => nq(p1._2)\n",
    "    }\n"
   ]
  },
  {
   "cell_type": "code",
   "execution_count": 95,
   "id": "eb39795d-8d3c-4b7f-b47e-5d3ffb686cb7",
   "metadata": {},
   "outputs": [
    {
     "data": {
      "text/plain": [
       "defined \u001b[32mfunction\u001b[39m \u001b[36mrDfEither\u001b[39m"
      ]
     },
     "execution_count": 95,
     "metadata": {},
     "output_type": "execute_result"
    }
   ],
   "source": [
    "def rDfEither[P,Q](p1: Either[P,Q]): Not[(Not[P],Not[Q])]=\n",
    "    t => p1 match{\n",
    "        case Left(p) => t._1(p)\n",
    "        case Right(q) => t._2(q)\n",
    "    }"
   ]
  },
  {
   "cell_type": "code",
   "execution_count": 96,
   "id": "ce53f9e1-937d-47d4-8a79-53477d4a4bb4",
   "metadata": {},
   "outputs": [
    {
     "data": {
      "text/plain": [
       "defined \u001b[32mfunction\u001b[39m \u001b[36mrDfImp\u001b[39m"
      ]
     },
     "execution_count": 96,
     "metadata": {},
     "output_type": "execute_result"
    }
   ],
   "source": [
    "def rDfImp[P,Q](p1: P=>Q): Not[(P,Not[Q])]=\n",
    "    t=> {val q = p1(t._1)\n",
    "        t._2(q)}"
   ]
  },
  {
   "cell_type": "code",
   "execution_count": 137,
   "id": "19875439-50b8-40e1-9daa-d2fbc007e861",
   "metadata": {},
   "outputs": [
    {
     "data": {
      "text/plain": [
       "defined \u001b[32mfunction\u001b[39m \u001b[36mrdfNotAnd\u001b[39m"
      ]
     },
     "execution_count": 137,
     "metadata": {},
     "output_type": "execute_result"
    }
   ],
   "source": [
    "def rdfNotAnd [P,Q](EM: ExcludedMiddle)(p1:Not[(P,Q)]): Either[Not[P],Not[Q]]={\n",
    "   EM[P] match {\n",
    "    case Left(p) =>\n",
    "      Right((q: Q) => p1((p, q)))\n",
    "    case Right(np) =>\n",
    "      Left(np)\n",
    "  }\n",
    "}"
   ]
  },
  {
   "cell_type": "code",
   "execution_count": 98,
   "id": "82e18a5f-c2c3-4ef4-87e4-defb1baf914a",
   "metadata": {},
   "outputs": [],
   "source": [
    "/*def ex46 [P,Q,R,S,T,U,W](EM: ExcludedMiddle)(p1: ((P,Not[Q]),R)=>S, p2: T, p3: ((S,T))=>U, p4: P=>(U=>Not[W]), p5:W): (P,R)=>Q = {\n",
    "    (p,r)=> val uInw = p4(p)\n",
    "            val wInu = rcontr1_2(uInw) //w=>Not[u] cuando tenga ¬¬w=w\n",
    "            val nu = wInu(p5)\n",
    "            val n_sAt = modusTollens(p3)(nu) //Not[(S,T)]\n",
    "            val e_nsnt = rdfNotAnd(EM)(n_sAt)\n",
    "            val p14 = ria2_NOT(e_nsnt,p2) //ns\n",
    "            //val p15 = modusTollens(p1)(p14)\n",
    "            //val p16 = \n",
    "            \n",
    "            \n",
    "}    */"
   ]
  },
  {
   "cell_type": "code",
   "execution_count": 98,
   "id": "3ba716c6-86ed-448d-9930-d14cca17f3a4",
   "metadata": {},
   "outputs": [
    {
     "data": {
      "text/plain": [
       "defined \u001b[32mfunction\u001b[39m \u001b[36mexKK\u001b[39m"
      ]
     },
     "execution_count": 98,
     "metadata": {},
     "output_type": "execute_result"
    }
   ],
   "source": [
    "//ejemplo knights and knaves \n",
    "//(a → (b ∧  ¬c)) ∧ ((b ∧  ¬c) → a) \n",
    "\n",
    "def exKK[A, B, C](a: A, t:((B, Not[C]))): (A => ((B, Not[C])), ((B, Not[C])) => A) = {\n",
    "  (a => t, t => a)\n",
    "}"
   ]
  },
  {
   "cell_type": "code",
   "execution_count": null,
   "id": "654c9b15-f95e-4dc7-9450-ccaf1f9c2fbb",
   "metadata": {},
   "outputs": [],
   "source": []
  }
 ],
 "metadata": {
  "kernelspec": {
   "display_name": "Scala",
   "language": "scala",
   "name": "scala"
  },
  "language_info": {
   "codemirror_mode": "text/x-scala",
   "file_extension": ".sc",
   "mimetype": "text/x-scala",
   "name": "scala",
   "nbconvert_exporter": "script",
   "version": "2.13.8"
  }
 },
 "nbformat": 4,
 "nbformat_minor": 5
}
